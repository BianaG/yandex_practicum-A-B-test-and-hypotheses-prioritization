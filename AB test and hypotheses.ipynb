{
 "cells": [
  {
   "cell_type": "markdown",
   "id": "ee126575",
   "metadata": {},
   "source": [
    "# A/B Testing and Hypotheses Prioritization "
   ]
  },
  {
   "cell_type": "markdown",
   "id": "a98e351e",
   "metadata": {},
   "source": [
    "## Introducaion"
   ]
  },
  {
   "cell_type": "markdown",
   "id": "9393fcc5",
   "metadata": {},
   "source": [
    "In this project, we will analyze the data of a big online store. The store wants to boost its revenues, so the marketing department compiled some hypotheses that may help accomplish this objective. The main goal of this project is to prioritize the hypotheses and analyze the results of the A/B test. "
   ]
  },
  {
   "cell_type": "code",
   "execution_count": 1,
   "id": "3028c518",
   "metadata": {},
   "outputs": [],
   "source": [
    "import pandas as pd\n",
    "import numpy as np\n",
    "import matplotlib.pyplot as plt\n",
    "import math\n",
    "from scipy import stats\n",
    "import random\n",
    "from matplotlib import pyplot"
   ]
  },
  {
   "cell_type": "code",
   "execution_count": 2,
   "id": "6fb389db",
   "metadata": {},
   "outputs": [],
   "source": [
    "try:\n",
    "    hypo = pd.read_csv('hypotheses_us.csv', sep = ';')\n",
    "    orders = pd.read_csv('orders_us.csv')\n",
    "    visits = pd.read_csv('visits_us.csv')\n",
    "except:\n",
    "    hypo = pd.read_csv('/datasets/hypotheses_us.csv', sep = ';')\n",
    "    orders = pd.read_csv('/datasets/orders_us.csv')\n",
    "    visits = pd.read_csv('/datasets/visits_us.csv')    "
   ]
  },
  {
   "cell_type": "markdown",
   "id": "1701c363",
   "metadata": {},
   "source": [
    "## Part 1. Prioritizing Hypotheses"
   ]
  },
  {
   "cell_type": "markdown",
   "id": "2518057f",
   "metadata": {},
   "source": [
    "* **Apply the ICE framework to prioritize hypotheses. Sort them in\n",
    "descending order of priority.**\n"
   ]
  },
  {
   "cell_type": "code",
   "execution_count": 3,
   "id": "310ed04f",
   "metadata": {},
   "outputs": [
    {
     "data": {
      "text/html": [
       "<div>\n",
       "<style scoped>\n",
       "    .dataframe tbody tr th:only-of-type {\n",
       "        vertical-align: middle;\n",
       "    }\n",
       "\n",
       "    .dataframe tbody tr th {\n",
       "        vertical-align: top;\n",
       "    }\n",
       "\n",
       "    .dataframe thead th {\n",
       "        text-align: right;\n",
       "    }\n",
       "</style>\n",
       "<table border=\"1\" class=\"dataframe\">\n",
       "  <thead>\n",
       "    <tr style=\"text-align: right;\">\n",
       "      <th></th>\n",
       "      <th>Hypothesis</th>\n",
       "      <th>Reach</th>\n",
       "      <th>Impact</th>\n",
       "      <th>Confidence</th>\n",
       "      <th>Effort</th>\n",
       "    </tr>\n",
       "  </thead>\n",
       "  <tbody>\n",
       "    <tr>\n",
       "      <th>0</th>\n",
       "      <td>Add two new channels for attracting traffic. T...</td>\n",
       "      <td>3</td>\n",
       "      <td>10</td>\n",
       "      <td>8</td>\n",
       "      <td>6</td>\n",
       "    </tr>\n",
       "    <tr>\n",
       "      <th>1</th>\n",
       "      <td>Launch your own delivery service. This will sh...</td>\n",
       "      <td>2</td>\n",
       "      <td>5</td>\n",
       "      <td>4</td>\n",
       "      <td>10</td>\n",
       "    </tr>\n",
       "    <tr>\n",
       "      <th>2</th>\n",
       "      <td>Add product recommendation blocks to the store...</td>\n",
       "      <td>8</td>\n",
       "      <td>3</td>\n",
       "      <td>7</td>\n",
       "      <td>3</td>\n",
       "    </tr>\n",
       "    <tr>\n",
       "      <th>3</th>\n",
       "      <td>Change the category structure. This will incre...</td>\n",
       "      <td>8</td>\n",
       "      <td>3</td>\n",
       "      <td>3</td>\n",
       "      <td>8</td>\n",
       "    </tr>\n",
       "    <tr>\n",
       "      <th>4</th>\n",
       "      <td>Change the background color on the main page. ...</td>\n",
       "      <td>3</td>\n",
       "      <td>1</td>\n",
       "      <td>1</td>\n",
       "      <td>1</td>\n",
       "    </tr>\n",
       "    <tr>\n",
       "      <th>5</th>\n",
       "      <td>Add a customer review page. This will increase...</td>\n",
       "      <td>3</td>\n",
       "      <td>2</td>\n",
       "      <td>2</td>\n",
       "      <td>3</td>\n",
       "    </tr>\n",
       "    <tr>\n",
       "      <th>6</th>\n",
       "      <td>Show banners with current offers and sales on ...</td>\n",
       "      <td>5</td>\n",
       "      <td>3</td>\n",
       "      <td>8</td>\n",
       "      <td>3</td>\n",
       "    </tr>\n",
       "    <tr>\n",
       "      <th>7</th>\n",
       "      <td>Add a subscription form to all the main pages....</td>\n",
       "      <td>10</td>\n",
       "      <td>7</td>\n",
       "      <td>8</td>\n",
       "      <td>5</td>\n",
       "    </tr>\n",
       "    <tr>\n",
       "      <th>8</th>\n",
       "      <td>Launch a promotion that gives users discounts ...</td>\n",
       "      <td>1</td>\n",
       "      <td>9</td>\n",
       "      <td>9</td>\n",
       "      <td>5</td>\n",
       "    </tr>\n",
       "  </tbody>\n",
       "</table>\n",
       "</div>"
      ],
      "text/plain": [
       "                                          Hypothesis  Reach  Impact  \\\n",
       "0  Add two new channels for attracting traffic. T...      3      10   \n",
       "1  Launch your own delivery service. This will sh...      2       5   \n",
       "2  Add product recommendation blocks to the store...      8       3   \n",
       "3  Change the category structure. This will incre...      8       3   \n",
       "4  Change the background color on the main page. ...      3       1   \n",
       "5  Add a customer review page. This will increase...      3       2   \n",
       "6  Show banners with current offers and sales on ...      5       3   \n",
       "7  Add a subscription form to all the main pages....     10       7   \n",
       "8  Launch a promotion that gives users discounts ...      1       9   \n",
       "\n",
       "   Confidence  Effort  \n",
       "0           8       6  \n",
       "1           4      10  \n",
       "2           7       3  \n",
       "3           3       8  \n",
       "4           1       1  \n",
       "5           2       3  \n",
       "6           8       3  \n",
       "7           8       5  \n",
       "8           9       5  "
      ]
     },
     "execution_count": 3,
     "metadata": {},
     "output_type": "execute_result"
    }
   ],
   "source": [
    "hypo"
   ]
  },
  {
   "cell_type": "markdown",
   "id": "f292f09e",
   "metadata": {},
   "source": [
    "First, let's make the name of the column with lowercase to make things easier."
   ]
  },
  {
   "cell_type": "code",
   "execution_count": 4,
   "id": "a9412a71",
   "metadata": {},
   "outputs": [],
   "source": [
    "hypo.columns=hypo.columns.str.lower()\n",
    "hypo_new = hypo"
   ]
  },
  {
   "cell_type": "code",
   "execution_count": 5,
   "id": "8138a252",
   "metadata": {},
   "outputs": [
    {
     "name": "stdout",
     "output_type": "stream",
     "text": [
      "<class 'pandas.core.frame.DataFrame'>\n",
      "RangeIndex: 9 entries, 0 to 8\n",
      "Data columns (total 5 columns):\n",
      " #   Column      Non-Null Count  Dtype \n",
      "---  ------      --------------  ----- \n",
      " 0   hypothesis  9 non-null      object\n",
      " 1   reach       9 non-null      int64 \n",
      " 2   impact      9 non-null      int64 \n",
      " 3   confidence  9 non-null      int64 \n",
      " 4   effort      9 non-null      int64 \n",
      "dtypes: int64(4), object(1)\n",
      "memory usage: 488.0+ bytes\n"
     ]
    }
   ],
   "source": [
    "hypo_new.info()"
   ]
  },
  {
   "cell_type": "markdown",
   "id": "28ab5f51",
   "metadata": {},
   "source": [
    "Great!"
   ]
  },
  {
   "cell_type": "markdown",
   "id": "f17110e5",
   "metadata": {},
   "source": [
    "Let's calculate the ICE metric."
   ]
  },
  {
   "cell_type": "code",
   "execution_count": 6,
   "id": "423ee72f",
   "metadata": {},
   "outputs": [
    {
     "data": {
      "text/html": [
       "<div>\n",
       "<style scoped>\n",
       "    .dataframe tbody tr th:only-of-type {\n",
       "        vertical-align: middle;\n",
       "    }\n",
       "\n",
       "    .dataframe tbody tr th {\n",
       "        vertical-align: top;\n",
       "    }\n",
       "\n",
       "    .dataframe thead th {\n",
       "        text-align: right;\n",
       "    }\n",
       "</style>\n",
       "<table border=\"1\" class=\"dataframe\">\n",
       "  <thead>\n",
       "    <tr style=\"text-align: right;\">\n",
       "      <th></th>\n",
       "      <th>hypothesis</th>\n",
       "      <th>ice</th>\n",
       "    </tr>\n",
       "  </thead>\n",
       "  <tbody>\n",
       "    <tr>\n",
       "      <th>8</th>\n",
       "      <td>Launch a promotion that gives users discounts ...</td>\n",
       "      <td>16.200000</td>\n",
       "    </tr>\n",
       "    <tr>\n",
       "      <th>0</th>\n",
       "      <td>Add two new channels for attracting traffic. T...</td>\n",
       "      <td>13.333333</td>\n",
       "    </tr>\n",
       "    <tr>\n",
       "      <th>7</th>\n",
       "      <td>Add a subscription form to all the main pages....</td>\n",
       "      <td>11.200000</td>\n",
       "    </tr>\n",
       "    <tr>\n",
       "      <th>6</th>\n",
       "      <td>Show banners with current offers and sales on ...</td>\n",
       "      <td>8.000000</td>\n",
       "    </tr>\n",
       "    <tr>\n",
       "      <th>2</th>\n",
       "      <td>Add product recommendation blocks to the store...</td>\n",
       "      <td>7.000000</td>\n",
       "    </tr>\n",
       "    <tr>\n",
       "      <th>1</th>\n",
       "      <td>Launch your own delivery service. This will sh...</td>\n",
       "      <td>2.000000</td>\n",
       "    </tr>\n",
       "    <tr>\n",
       "      <th>5</th>\n",
       "      <td>Add a customer review page. This will increase...</td>\n",
       "      <td>1.333333</td>\n",
       "    </tr>\n",
       "    <tr>\n",
       "      <th>3</th>\n",
       "      <td>Change the category structure. This will incre...</td>\n",
       "      <td>1.125000</td>\n",
       "    </tr>\n",
       "    <tr>\n",
       "      <th>4</th>\n",
       "      <td>Change the background color on the main page. ...</td>\n",
       "      <td>1.000000</td>\n",
       "    </tr>\n",
       "  </tbody>\n",
       "</table>\n",
       "</div>"
      ],
      "text/plain": [
       "                                          hypothesis        ice\n",
       "8  Launch a promotion that gives users discounts ...  16.200000\n",
       "0  Add two new channels for attracting traffic. T...  13.333333\n",
       "7  Add a subscription form to all the main pages....  11.200000\n",
       "6  Show banners with current offers and sales on ...   8.000000\n",
       "2  Add product recommendation blocks to the store...   7.000000\n",
       "1  Launch your own delivery service. This will sh...   2.000000\n",
       "5  Add a customer review page. This will increase...   1.333333\n",
       "3  Change the category structure. This will incre...   1.125000\n",
       "4  Change the background color on the main page. ...   1.000000"
      ]
     },
     "execution_count": 6,
     "metadata": {},
     "output_type": "execute_result"
    }
   ],
   "source": [
    "hypo_new['ice'] = (hypo_new['impact']*hypo_new['confidence'])/hypo_new['effort']\n",
    "hypo_sorted = hypo_new[['hypothesis', 'ice']].sort_values(by='ice', ascending = False)\n",
    "hypo_sorted"
   ]
  },
  {
   "cell_type": "markdown",
   "id": "8e005b30",
   "metadata": {},
   "source": [
    "Now let's calculate the RICE metric."
   ]
  },
  {
   "cell_type": "code",
   "execution_count": 7,
   "id": "4a4d4591",
   "metadata": {},
   "outputs": [
    {
     "data": {
      "text/html": [
       "<div>\n",
       "<style scoped>\n",
       "    .dataframe tbody tr th:only-of-type {\n",
       "        vertical-align: middle;\n",
       "    }\n",
       "\n",
       "    .dataframe tbody tr th {\n",
       "        vertical-align: top;\n",
       "    }\n",
       "\n",
       "    .dataframe thead th {\n",
       "        text-align: right;\n",
       "    }\n",
       "</style>\n",
       "<table border=\"1\" class=\"dataframe\">\n",
       "  <thead>\n",
       "    <tr style=\"text-align: right;\">\n",
       "      <th></th>\n",
       "      <th>hypothesis</th>\n",
       "      <th>rice</th>\n",
       "    </tr>\n",
       "  </thead>\n",
       "  <tbody>\n",
       "    <tr>\n",
       "      <th>7</th>\n",
       "      <td>Add a subscription form to all the main pages....</td>\n",
       "      <td>112.0</td>\n",
       "    </tr>\n",
       "    <tr>\n",
       "      <th>2</th>\n",
       "      <td>Add product recommendation blocks to the store...</td>\n",
       "      <td>56.0</td>\n",
       "    </tr>\n",
       "    <tr>\n",
       "      <th>0</th>\n",
       "      <td>Add two new channels for attracting traffic. T...</td>\n",
       "      <td>40.0</td>\n",
       "    </tr>\n",
       "    <tr>\n",
       "      <th>6</th>\n",
       "      <td>Show banners with current offers and sales on ...</td>\n",
       "      <td>40.0</td>\n",
       "    </tr>\n",
       "    <tr>\n",
       "      <th>8</th>\n",
       "      <td>Launch a promotion that gives users discounts ...</td>\n",
       "      <td>16.2</td>\n",
       "    </tr>\n",
       "    <tr>\n",
       "      <th>3</th>\n",
       "      <td>Change the category structure. This will incre...</td>\n",
       "      <td>9.0</td>\n",
       "    </tr>\n",
       "    <tr>\n",
       "      <th>1</th>\n",
       "      <td>Launch your own delivery service. This will sh...</td>\n",
       "      <td>4.0</td>\n",
       "    </tr>\n",
       "    <tr>\n",
       "      <th>5</th>\n",
       "      <td>Add a customer review page. This will increase...</td>\n",
       "      <td>4.0</td>\n",
       "    </tr>\n",
       "    <tr>\n",
       "      <th>4</th>\n",
       "      <td>Change the background color on the main page. ...</td>\n",
       "      <td>3.0</td>\n",
       "    </tr>\n",
       "  </tbody>\n",
       "</table>\n",
       "</div>"
      ],
      "text/plain": [
       "                                          hypothesis   rice\n",
       "7  Add a subscription form to all the main pages....  112.0\n",
       "2  Add product recommendation blocks to the store...   56.0\n",
       "0  Add two new channels for attracting traffic. T...   40.0\n",
       "6  Show banners with current offers and sales on ...   40.0\n",
       "8  Launch a promotion that gives users discounts ...   16.2\n",
       "3  Change the category structure. This will incre...    9.0\n",
       "1  Launch your own delivery service. This will sh...    4.0\n",
       "5  Add a customer review page. This will increase...    4.0\n",
       "4  Change the background color on the main page. ...    3.0"
      ]
     },
     "execution_count": 7,
     "metadata": {},
     "output_type": "execute_result"
    }
   ],
   "source": [
    "hypo_new['rice'] = (hypo_new['reach']*hypo_new['impact']*hypo_new['confidence'])/hypo_new['effort']\n",
    "hypo_sorted_2 = hypo_new[['hypothesis', 'rice']].sort_values(by='rice', ascending = False)\n",
    "hypo_sorted_2"
   ]
  },
  {
   "cell_type": "markdown",
   "id": "1574683a",
   "metadata": {},
   "source": [
    "So here we see that the results of the hypotheses vary in each metric. Hypotheses number 8,0 and 7 are the leaders for the ice metric, while hypotheses 7,2, and 0 are the leaders for the rice metric. Hypothesis number 8 got a much lower score in the rice metric than in the ice metric where it got the higher score. It seems that hypotheses 7 and 0 are the most promising and 'safe' hypotheses to test - they are in the top 3 both in the ice and rice metrics. "
   ]
  },
  {
   "cell_type": "markdown",
   "id": "d15f692a",
   "metadata": {},
   "source": [
    "## Part 2. A/B Test Analysis"
   ]
  },
  {
   "cell_type": "markdown",
   "id": "3ed01d41",
   "metadata": {},
   "source": [
    "First let's check the data sets."
   ]
  },
  {
   "cell_type": "markdown",
   "id": "695c2e43",
   "metadata": {},
   "source": [
    "**orders**"
   ]
  },
  {
   "cell_type": "code",
   "execution_count": 8,
   "id": "0994fc9d",
   "metadata": {},
   "outputs": [
    {
     "data": {
      "text/html": [
       "<div>\n",
       "<style scoped>\n",
       "    .dataframe tbody tr th:only-of-type {\n",
       "        vertical-align: middle;\n",
       "    }\n",
       "\n",
       "    .dataframe tbody tr th {\n",
       "        vertical-align: top;\n",
       "    }\n",
       "\n",
       "    .dataframe thead th {\n",
       "        text-align: right;\n",
       "    }\n",
       "</style>\n",
       "<table border=\"1\" class=\"dataframe\">\n",
       "  <thead>\n",
       "    <tr style=\"text-align: right;\">\n",
       "      <th></th>\n",
       "      <th>transactionId</th>\n",
       "      <th>visitorId</th>\n",
       "      <th>date</th>\n",
       "      <th>revenue</th>\n",
       "      <th>group</th>\n",
       "    </tr>\n",
       "  </thead>\n",
       "  <tbody>\n",
       "    <tr>\n",
       "      <th>0</th>\n",
       "      <td>3667963787</td>\n",
       "      <td>3312258926</td>\n",
       "      <td>2019-08-15</td>\n",
       "      <td>30.4</td>\n",
       "      <td>B</td>\n",
       "    </tr>\n",
       "    <tr>\n",
       "      <th>1</th>\n",
       "      <td>2804400009</td>\n",
       "      <td>3642806036</td>\n",
       "      <td>2019-08-15</td>\n",
       "      <td>15.2</td>\n",
       "      <td>B</td>\n",
       "    </tr>\n",
       "    <tr>\n",
       "      <th>2</th>\n",
       "      <td>2961555356</td>\n",
       "      <td>4069496402</td>\n",
       "      <td>2019-08-15</td>\n",
       "      <td>10.2</td>\n",
       "      <td>A</td>\n",
       "    </tr>\n",
       "    <tr>\n",
       "      <th>3</th>\n",
       "      <td>3797467345</td>\n",
       "      <td>1196621759</td>\n",
       "      <td>2019-08-15</td>\n",
       "      <td>155.1</td>\n",
       "      <td>B</td>\n",
       "    </tr>\n",
       "    <tr>\n",
       "      <th>4</th>\n",
       "      <td>2282983706</td>\n",
       "      <td>2322279887</td>\n",
       "      <td>2019-08-15</td>\n",
       "      <td>40.5</td>\n",
       "      <td>B</td>\n",
       "    </tr>\n",
       "  </tbody>\n",
       "</table>\n",
       "</div>"
      ],
      "text/plain": [
       "   transactionId   visitorId        date  revenue group\n",
       "0     3667963787  3312258926  2019-08-15     30.4     B\n",
       "1     2804400009  3642806036  2019-08-15     15.2     B\n",
       "2     2961555356  4069496402  2019-08-15     10.2     A\n",
       "3     3797467345  1196621759  2019-08-15    155.1     B\n",
       "4     2282983706  2322279887  2019-08-15     40.5     B"
      ]
     },
     "execution_count": 8,
     "metadata": {},
     "output_type": "execute_result"
    }
   ],
   "source": [
    "orders.head()"
   ]
  },
  {
   "cell_type": "code",
   "execution_count": 9,
   "id": "ddb42d49",
   "metadata": {},
   "outputs": [
    {
     "name": "stdout",
     "output_type": "stream",
     "text": [
      "<class 'pandas.core.frame.DataFrame'>\n",
      "RangeIndex: 1197 entries, 0 to 1196\n",
      "Data columns (total 5 columns):\n",
      " #   Column         Non-Null Count  Dtype  \n",
      "---  ------         --------------  -----  \n",
      " 0   transactionId  1197 non-null   int64  \n",
      " 1   visitorId      1197 non-null   int64  \n",
      " 2   date           1197 non-null   object \n",
      " 3   revenue        1197 non-null   float64\n",
      " 4   group          1197 non-null   object \n",
      "dtypes: float64(1), int64(2), object(2)\n",
      "memory usage: 174.3 KB\n"
     ]
    }
   ],
   "source": [
    "orders.info(memory_usage = 'deep')"
   ]
  },
  {
   "cell_type": "markdown",
   "id": "52b4dd1c",
   "metadata": {},
   "source": [
    "Since we have only 2 categories in the **'group'** column, let's change it's data type  from object to category to make better use of the memory usage."
   ]
  },
  {
   "cell_type": "code",
   "execution_count": 10,
   "id": "5b038d08",
   "metadata": {},
   "outputs": [
    {
     "data": {
      "text/plain": [
       "B    640\n",
       "A    557\n",
       "Name: group, dtype: int64"
      ]
     },
     "execution_count": 10,
     "metadata": {},
     "output_type": "execute_result"
    }
   ],
   "source": [
    "orders['group'].value_counts()"
   ]
  },
  {
   "cell_type": "code",
   "execution_count": 11,
   "id": "5132c09f",
   "metadata": {},
   "outputs": [],
   "source": [
    "orders['group'] = orders['group'].astype('category')"
   ]
  },
  {
   "cell_type": "markdown",
   "id": "dc6895c0",
   "metadata": {},
   "source": [
    "Now let's also change the data type of the **'date'** column from object to date type. "
   ]
  },
  {
   "cell_type": "code",
   "execution_count": 12,
   "id": "40110940",
   "metadata": {},
   "outputs": [],
   "source": [
    "orders['date'] = pd.to_datetime(orders['date'], format = '%Y-%m-%d')"
   ]
  },
  {
   "cell_type": "code",
   "execution_count": 13,
   "id": "11123ea3",
   "metadata": {},
   "outputs": [
    {
     "data": {
      "text/html": [
       "<div>\n",
       "<style scoped>\n",
       "    .dataframe tbody tr th:only-of-type {\n",
       "        vertical-align: middle;\n",
       "    }\n",
       "\n",
       "    .dataframe tbody tr th {\n",
       "        vertical-align: top;\n",
       "    }\n",
       "\n",
       "    .dataframe thead th {\n",
       "        text-align: right;\n",
       "    }\n",
       "</style>\n",
       "<table border=\"1\" class=\"dataframe\">\n",
       "  <thead>\n",
       "    <tr style=\"text-align: right;\">\n",
       "      <th></th>\n",
       "      <th>transactionId</th>\n",
       "      <th>visitorId</th>\n",
       "      <th>date</th>\n",
       "      <th>revenue</th>\n",
       "      <th>group</th>\n",
       "    </tr>\n",
       "  </thead>\n",
       "  <tbody>\n",
       "    <tr>\n",
       "      <th>0</th>\n",
       "      <td>3667963787</td>\n",
       "      <td>3312258926</td>\n",
       "      <td>2019-08-15</td>\n",
       "      <td>30.4</td>\n",
       "      <td>B</td>\n",
       "    </tr>\n",
       "    <tr>\n",
       "      <th>1</th>\n",
       "      <td>2804400009</td>\n",
       "      <td>3642806036</td>\n",
       "      <td>2019-08-15</td>\n",
       "      <td>15.2</td>\n",
       "      <td>B</td>\n",
       "    </tr>\n",
       "    <tr>\n",
       "      <th>2</th>\n",
       "      <td>2961555356</td>\n",
       "      <td>4069496402</td>\n",
       "      <td>2019-08-15</td>\n",
       "      <td>10.2</td>\n",
       "      <td>A</td>\n",
       "    </tr>\n",
       "    <tr>\n",
       "      <th>3</th>\n",
       "      <td>3797467345</td>\n",
       "      <td>1196621759</td>\n",
       "      <td>2019-08-15</td>\n",
       "      <td>155.1</td>\n",
       "      <td>B</td>\n",
       "    </tr>\n",
       "    <tr>\n",
       "      <th>4</th>\n",
       "      <td>2282983706</td>\n",
       "      <td>2322279887</td>\n",
       "      <td>2019-08-15</td>\n",
       "      <td>40.5</td>\n",
       "      <td>B</td>\n",
       "    </tr>\n",
       "  </tbody>\n",
       "</table>\n",
       "</div>"
      ],
      "text/plain": [
       "   transactionId   visitorId       date  revenue group\n",
       "0     3667963787  3312258926 2019-08-15     30.4     B\n",
       "1     2804400009  3642806036 2019-08-15     15.2     B\n",
       "2     2961555356  4069496402 2019-08-15     10.2     A\n",
       "3     3797467345  1196621759 2019-08-15    155.1     B\n",
       "4     2282983706  2322279887 2019-08-15     40.5     B"
      ]
     },
     "execution_count": 13,
     "metadata": {},
     "output_type": "execute_result"
    }
   ],
   "source": [
    "orders.head()"
   ]
  },
  {
   "cell_type": "code",
   "execution_count": 14,
   "id": "56e2bfb2",
   "metadata": {},
   "outputs": [
    {
     "name": "stdout",
     "output_type": "stream",
     "text": [
      "<class 'pandas.core.frame.DataFrame'>\n",
      "RangeIndex: 1197 entries, 0 to 1196\n",
      "Data columns (total 5 columns):\n",
      " #   Column         Non-Null Count  Dtype         \n",
      "---  ------         --------------  -----         \n",
      " 0   transactionId  1197 non-null   int64         \n",
      " 1   visitorId      1197 non-null   int64         \n",
      " 2   date           1197 non-null   datetime64[ns]\n",
      " 3   revenue        1197 non-null   float64       \n",
      " 4   group          1197 non-null   category      \n",
      "dtypes: category(1), datetime64[ns](1), float64(1), int64(2)\n",
      "memory usage: 38.9 KB\n"
     ]
    }
   ],
   "source": [
    "orders.info(memory_usage = 'deep')"
   ]
  },
  {
   "cell_type": "markdown",
   "id": "fa38788f",
   "metadata": {},
   "source": [
    "Sweet!\n",
    "\n",
    "We managed to decrease the memory usage from 174.3 KB to 38.9 KB. 👌"
   ]
  },
  {
   "cell_type": "markdown",
   "id": "29f1d92c",
   "metadata": {},
   "source": [
    "**visits**"
   ]
  },
  {
   "cell_type": "code",
   "execution_count": 15,
   "id": "b9685269",
   "metadata": {},
   "outputs": [
    {
     "data": {
      "text/html": [
       "<div>\n",
       "<style scoped>\n",
       "    .dataframe tbody tr th:only-of-type {\n",
       "        vertical-align: middle;\n",
       "    }\n",
       "\n",
       "    .dataframe tbody tr th {\n",
       "        vertical-align: top;\n",
       "    }\n",
       "\n",
       "    .dataframe thead th {\n",
       "        text-align: right;\n",
       "    }\n",
       "</style>\n",
       "<table border=\"1\" class=\"dataframe\">\n",
       "  <thead>\n",
       "    <tr style=\"text-align: right;\">\n",
       "      <th></th>\n",
       "      <th>date</th>\n",
       "      <th>group</th>\n",
       "      <th>visits</th>\n",
       "    </tr>\n",
       "  </thead>\n",
       "  <tbody>\n",
       "    <tr>\n",
       "      <th>0</th>\n",
       "      <td>2019-08-01</td>\n",
       "      <td>A</td>\n",
       "      <td>719</td>\n",
       "    </tr>\n",
       "    <tr>\n",
       "      <th>1</th>\n",
       "      <td>2019-08-02</td>\n",
       "      <td>A</td>\n",
       "      <td>619</td>\n",
       "    </tr>\n",
       "    <tr>\n",
       "      <th>2</th>\n",
       "      <td>2019-08-03</td>\n",
       "      <td>A</td>\n",
       "      <td>507</td>\n",
       "    </tr>\n",
       "    <tr>\n",
       "      <th>3</th>\n",
       "      <td>2019-08-04</td>\n",
       "      <td>A</td>\n",
       "      <td>717</td>\n",
       "    </tr>\n",
       "    <tr>\n",
       "      <th>4</th>\n",
       "      <td>2019-08-05</td>\n",
       "      <td>A</td>\n",
       "      <td>756</td>\n",
       "    </tr>\n",
       "  </tbody>\n",
       "</table>\n",
       "</div>"
      ],
      "text/plain": [
       "         date group  visits\n",
       "0  2019-08-01     A     719\n",
       "1  2019-08-02     A     619\n",
       "2  2019-08-03     A     507\n",
       "3  2019-08-04     A     717\n",
       "4  2019-08-05     A     756"
      ]
     },
     "execution_count": 15,
     "metadata": {},
     "output_type": "execute_result"
    }
   ],
   "source": [
    "visits.head()"
   ]
  },
  {
   "cell_type": "code",
   "execution_count": 16,
   "id": "bffa3ac1",
   "metadata": {},
   "outputs": [
    {
     "name": "stdout",
     "output_type": "stream",
     "text": [
      "<class 'pandas.core.frame.DataFrame'>\n",
      "RangeIndex: 62 entries, 0 to 61\n",
      "Data columns (total 3 columns):\n",
      " #   Column  Non-Null Count  Dtype \n",
      "---  ------  --------------  ----- \n",
      " 0   date    62 non-null     object\n",
      " 1   group   62 non-null     object\n",
      " 2   visits  62 non-null     int64 \n",
      "dtypes: int64(1), object(2)\n",
      "memory usage: 8.2 KB\n"
     ]
    }
   ],
   "source": [
    "visits.info(memory_usage = 'deep')"
   ]
  },
  {
   "cell_type": "markdown",
   "id": "aab23221",
   "metadata": {},
   "source": [
    "Here also, let's change the data type of the **'group'** column from object to category."
   ]
  },
  {
   "cell_type": "code",
   "execution_count": 17,
   "id": "48565819",
   "metadata": {},
   "outputs": [
    {
     "data": {
      "text/plain": [
       "A    31\n",
       "B    31\n",
       "Name: group, dtype: int64"
      ]
     },
     "execution_count": 17,
     "metadata": {},
     "output_type": "execute_result"
    }
   ],
   "source": [
    "visits['group'].value_counts()"
   ]
  },
  {
   "cell_type": "code",
   "execution_count": 18,
   "id": "b43d3411",
   "metadata": {},
   "outputs": [],
   "source": [
    "visits['group'] = visits['group'].astype('category')"
   ]
  },
  {
   "cell_type": "markdown",
   "id": "d3f270fd",
   "metadata": {},
   "source": [
    "Now also let's change the data type to the **'date'** column from object to date type as we did for orders."
   ]
  },
  {
   "cell_type": "code",
   "execution_count": 19,
   "id": "e0a48ec2",
   "metadata": {},
   "outputs": [],
   "source": [
    "visits['date'] = pd.to_datetime(visits['date'], format = '%Y-%m-%d')"
   ]
  },
  {
   "cell_type": "code",
   "execution_count": 20,
   "id": "064c2535",
   "metadata": {},
   "outputs": [
    {
     "data": {
      "text/html": [
       "<div>\n",
       "<style scoped>\n",
       "    .dataframe tbody tr th:only-of-type {\n",
       "        vertical-align: middle;\n",
       "    }\n",
       "\n",
       "    .dataframe tbody tr th {\n",
       "        vertical-align: top;\n",
       "    }\n",
       "\n",
       "    .dataframe thead th {\n",
       "        text-align: right;\n",
       "    }\n",
       "</style>\n",
       "<table border=\"1\" class=\"dataframe\">\n",
       "  <thead>\n",
       "    <tr style=\"text-align: right;\">\n",
       "      <th></th>\n",
       "      <th>date</th>\n",
       "      <th>group</th>\n",
       "      <th>visits</th>\n",
       "    </tr>\n",
       "  </thead>\n",
       "  <tbody>\n",
       "    <tr>\n",
       "      <th>0</th>\n",
       "      <td>2019-08-01</td>\n",
       "      <td>A</td>\n",
       "      <td>719</td>\n",
       "    </tr>\n",
       "    <tr>\n",
       "      <th>1</th>\n",
       "      <td>2019-08-02</td>\n",
       "      <td>A</td>\n",
       "      <td>619</td>\n",
       "    </tr>\n",
       "    <tr>\n",
       "      <th>2</th>\n",
       "      <td>2019-08-03</td>\n",
       "      <td>A</td>\n",
       "      <td>507</td>\n",
       "    </tr>\n",
       "    <tr>\n",
       "      <th>3</th>\n",
       "      <td>2019-08-04</td>\n",
       "      <td>A</td>\n",
       "      <td>717</td>\n",
       "    </tr>\n",
       "    <tr>\n",
       "      <th>4</th>\n",
       "      <td>2019-08-05</td>\n",
       "      <td>A</td>\n",
       "      <td>756</td>\n",
       "    </tr>\n",
       "  </tbody>\n",
       "</table>\n",
       "</div>"
      ],
      "text/plain": [
       "        date group  visits\n",
       "0 2019-08-01     A     719\n",
       "1 2019-08-02     A     619\n",
       "2 2019-08-03     A     507\n",
       "3 2019-08-04     A     717\n",
       "4 2019-08-05     A     756"
      ]
     },
     "execution_count": 20,
     "metadata": {},
     "output_type": "execute_result"
    }
   ],
   "source": [
    "visits.head()"
   ]
  },
  {
   "cell_type": "code",
   "execution_count": 21,
   "id": "c7d1095c",
   "metadata": {},
   "outputs": [
    {
     "name": "stdout",
     "output_type": "stream",
     "text": [
      "<class 'pandas.core.frame.DataFrame'>\n",
      "RangeIndex: 62 entries, 0 to 61\n",
      "Data columns (total 3 columns):\n",
      " #   Column  Non-Null Count  Dtype         \n",
      "---  ------  --------------  -----         \n",
      " 0   date    62 non-null     datetime64[ns]\n",
      " 1   group   62 non-null     category      \n",
      " 2   visits  62 non-null     int64         \n",
      "dtypes: category(1), datetime64[ns](1), int64(1)\n",
      "memory usage: 1.4 KB\n"
     ]
    }
   ],
   "source": [
    "visits.info(memory_usage = 'deep')"
   ]
  },
  {
   "cell_type": "markdown",
   "id": "efa597d3",
   "metadata": {},
   "source": [
    "Nice!\n",
    "\n",
    "We managed to decrease the memory usage from 8.2 KB to  1.4 KB. 🤘"
   ]
  },
  {
   "cell_type": "markdown",
   "id": "f1e11b38",
   "metadata": {},
   "source": [
    "* **1. Graph cumulative revenue by group. Make conclusions and conjectures.**"
   ]
  },
  {
   "cell_type": "markdown",
   "id": "6aa6ef56",
   "metadata": {},
   "source": [
    "First, let's divide the groups."
   ]
  },
  {
   "cell_type": "code",
   "execution_count": 22,
   "id": "90bf76f1",
   "metadata": {},
   "outputs": [
    {
     "data": {
      "text/html": [
       "<div>\n",
       "<style scoped>\n",
       "    .dataframe tbody tr th:only-of-type {\n",
       "        vertical-align: middle;\n",
       "    }\n",
       "\n",
       "    .dataframe tbody tr th {\n",
       "        vertical-align: top;\n",
       "    }\n",
       "\n",
       "    .dataframe thead th {\n",
       "        text-align: right;\n",
       "    }\n",
       "</style>\n",
       "<table border=\"1\" class=\"dataframe\">\n",
       "  <thead>\n",
       "    <tr style=\"text-align: right;\">\n",
       "      <th></th>\n",
       "      <th>transactionId</th>\n",
       "      <th>visitorId</th>\n",
       "      <th>date</th>\n",
       "      <th>revenue</th>\n",
       "      <th>group</th>\n",
       "    </tr>\n",
       "  </thead>\n",
       "  <tbody>\n",
       "    <tr>\n",
       "      <th>2</th>\n",
       "      <td>2961555356</td>\n",
       "      <td>4069496402</td>\n",
       "      <td>2019-08-15</td>\n",
       "      <td>10.2</td>\n",
       "      <td>A</td>\n",
       "    </tr>\n",
       "    <tr>\n",
       "      <th>7</th>\n",
       "      <td>2626614568</td>\n",
       "      <td>78758296</td>\n",
       "      <td>2019-08-15</td>\n",
       "      <td>20.1</td>\n",
       "      <td>A</td>\n",
       "    </tr>\n",
       "    <tr>\n",
       "      <th>8</th>\n",
       "      <td>1576988021</td>\n",
       "      <td>295230930</td>\n",
       "      <td>2019-08-15</td>\n",
       "      <td>215.9</td>\n",
       "      <td>A</td>\n",
       "    </tr>\n",
       "    <tr>\n",
       "      <th>10</th>\n",
       "      <td>3649131742</td>\n",
       "      <td>879864040</td>\n",
       "      <td>2019-08-15</td>\n",
       "      <td>65.7</td>\n",
       "      <td>A</td>\n",
       "    </tr>\n",
       "    <tr>\n",
       "      <th>12</th>\n",
       "      <td>2809384911</td>\n",
       "      <td>3213223594</td>\n",
       "      <td>2019-08-15</td>\n",
       "      <td>115.4</td>\n",
       "      <td>A</td>\n",
       "    </tr>\n",
       "  </tbody>\n",
       "</table>\n",
       "</div>"
      ],
      "text/plain": [
       "    transactionId   visitorId       date  revenue group\n",
       "2      2961555356  4069496402 2019-08-15     10.2     A\n",
       "7      2626614568    78758296 2019-08-15     20.1     A\n",
       "8      1576988021   295230930 2019-08-15    215.9     A\n",
       "10     3649131742   879864040 2019-08-15     65.7     A\n",
       "12     2809384911  3213223594 2019-08-15    115.4     A"
      ]
     },
     "execution_count": 22,
     "metadata": {},
     "output_type": "execute_result"
    }
   ],
   "source": [
    "orders_A = orders.query('group == \"A\"')\n",
    "orders_A.head()"
   ]
  },
  {
   "cell_type": "code",
   "execution_count": 23,
   "id": "33fdf855",
   "metadata": {},
   "outputs": [
    {
     "data": {
      "text/html": [
       "<div>\n",
       "<style scoped>\n",
       "    .dataframe tbody tr th:only-of-type {\n",
       "        vertical-align: middle;\n",
       "    }\n",
       "\n",
       "    .dataframe tbody tr th {\n",
       "        vertical-align: top;\n",
       "    }\n",
       "\n",
       "    .dataframe thead th {\n",
       "        text-align: right;\n",
       "    }\n",
       "</style>\n",
       "<table border=\"1\" class=\"dataframe\">\n",
       "  <thead>\n",
       "    <tr style=\"text-align: right;\">\n",
       "      <th></th>\n",
       "      <th>transactionId</th>\n",
       "      <th>visitorId</th>\n",
       "      <th>date</th>\n",
       "      <th>revenue</th>\n",
       "      <th>group</th>\n",
       "    </tr>\n",
       "  </thead>\n",
       "  <tbody>\n",
       "    <tr>\n",
       "      <th>0</th>\n",
       "      <td>3667963787</td>\n",
       "      <td>3312258926</td>\n",
       "      <td>2019-08-15</td>\n",
       "      <td>30.4</td>\n",
       "      <td>B</td>\n",
       "    </tr>\n",
       "    <tr>\n",
       "      <th>1</th>\n",
       "      <td>2804400009</td>\n",
       "      <td>3642806036</td>\n",
       "      <td>2019-08-15</td>\n",
       "      <td>15.2</td>\n",
       "      <td>B</td>\n",
       "    </tr>\n",
       "    <tr>\n",
       "      <th>3</th>\n",
       "      <td>3797467345</td>\n",
       "      <td>1196621759</td>\n",
       "      <td>2019-08-15</td>\n",
       "      <td>155.1</td>\n",
       "      <td>B</td>\n",
       "    </tr>\n",
       "    <tr>\n",
       "      <th>4</th>\n",
       "      <td>2282983706</td>\n",
       "      <td>2322279887</td>\n",
       "      <td>2019-08-15</td>\n",
       "      <td>40.5</td>\n",
       "      <td>B</td>\n",
       "    </tr>\n",
       "    <tr>\n",
       "      <th>5</th>\n",
       "      <td>182168103</td>\n",
       "      <td>935554773</td>\n",
       "      <td>2019-08-15</td>\n",
       "      <td>35.0</td>\n",
       "      <td>B</td>\n",
       "    </tr>\n",
       "  </tbody>\n",
       "</table>\n",
       "</div>"
      ],
      "text/plain": [
       "   transactionId   visitorId       date  revenue group\n",
       "0     3667963787  3312258926 2019-08-15     30.4     B\n",
       "1     2804400009  3642806036 2019-08-15     15.2     B\n",
       "3     3797467345  1196621759 2019-08-15    155.1     B\n",
       "4     2282983706  2322279887 2019-08-15     40.5     B\n",
       "5      182168103   935554773 2019-08-15     35.0     B"
      ]
     },
     "execution_count": 23,
     "metadata": {},
     "output_type": "execute_result"
    }
   ],
   "source": [
    "orders_B = orders.query('group == \"B\"')\n",
    "orders_B.head()"
   ]
  },
  {
   "cell_type": "markdown",
   "id": "0763544a",
   "metadata": {},
   "source": [
    "Great! \n",
    "\n",
    "Now let's calculate the cumulative revenue for each group."
   ]
  },
  {
   "cell_type": "markdown",
   "id": "2090dcf6",
   "metadata": {},
   "source": [
    "**Group A**"
   ]
  },
  {
   "cell_type": "code",
   "execution_count": 24,
   "id": "6726725f",
   "metadata": {},
   "outputs": [
    {
     "data": {
      "text/html": [
       "<div>\n",
       "<style scoped>\n",
       "    .dataframe tbody tr th:only-of-type {\n",
       "        vertical-align: middle;\n",
       "    }\n",
       "\n",
       "    .dataframe tbody tr th {\n",
       "        vertical-align: top;\n",
       "    }\n",
       "\n",
       "    .dataframe thead th {\n",
       "        text-align: right;\n",
       "    }\n",
       "</style>\n",
       "<table border=\"1\" class=\"dataframe\">\n",
       "  <thead>\n",
       "    <tr style=\"text-align: right;\">\n",
       "      <th></th>\n",
       "      <th>date</th>\n",
       "      <th>buyers_a</th>\n",
       "      <th>revenue_a</th>\n",
       "      <th>cumul_revenue_a</th>\n",
       "    </tr>\n",
       "  </thead>\n",
       "  <tbody>\n",
       "    <tr>\n",
       "      <th>0</th>\n",
       "      <td>2019-08-01</td>\n",
       "      <td>20</td>\n",
       "      <td>2356.8</td>\n",
       "      <td>2356.8</td>\n",
       "    </tr>\n",
       "    <tr>\n",
       "      <th>1</th>\n",
       "      <td>2019-08-02</td>\n",
       "      <td>19</td>\n",
       "      <td>1503.5</td>\n",
       "      <td>3860.3</td>\n",
       "    </tr>\n",
       "    <tr>\n",
       "      <th>2</th>\n",
       "      <td>2019-08-03</td>\n",
       "      <td>24</td>\n",
       "      <td>1815.2</td>\n",
       "      <td>5675.5</td>\n",
       "    </tr>\n",
       "    <tr>\n",
       "      <th>3</th>\n",
       "      <td>2019-08-04</td>\n",
       "      <td>15</td>\n",
       "      <td>1146.6</td>\n",
       "      <td>6822.1</td>\n",
       "    </tr>\n",
       "    <tr>\n",
       "      <th>4</th>\n",
       "      <td>2019-08-05</td>\n",
       "      <td>25</td>\n",
       "      <td>1988.1</td>\n",
       "      <td>8810.2</td>\n",
       "    </tr>\n",
       "  </tbody>\n",
       "</table>\n",
       "</div>"
      ],
      "text/plain": [
       "        date  buyers_a  revenue_a  cumul_revenue_a\n",
       "0 2019-08-01        20     2356.8           2356.8\n",
       "1 2019-08-02        19     1503.5           3860.3\n",
       "2 2019-08-03        24     1815.2           5675.5\n",
       "3 2019-08-04        15     1146.6           6822.1\n",
       "4 2019-08-05        25     1988.1           8810.2"
      ]
     },
     "execution_count": 24,
     "metadata": {},
     "output_type": "execute_result"
    }
   ],
   "source": [
    "orders_A_date_groupd = orders_A.groupby('date').agg({'visitorId':'nunique', 'revenue':'sum'}).reset_index()\n",
    "orders_A_date_groupd['cumul_revenue_a'] = orders_A_date_groupd['revenue'].cumsum()\n",
    "orders_A_date_groupd.columns = ['date', 'buyers_a', 'revenue_a', 'cumul_revenue_a']\n",
    "orders_A_date_groupd.head()"
   ]
  },
  {
   "cell_type": "markdown",
   "id": "4cac9ee2",
   "metadata": {},
   "source": [
    "**Group B**"
   ]
  },
  {
   "cell_type": "code",
   "execution_count": 25,
   "id": "daf0c7c3",
   "metadata": {},
   "outputs": [
    {
     "data": {
      "text/html": [
       "<div>\n",
       "<style scoped>\n",
       "    .dataframe tbody tr th:only-of-type {\n",
       "        vertical-align: middle;\n",
       "    }\n",
       "\n",
       "    .dataframe tbody tr th {\n",
       "        vertical-align: top;\n",
       "    }\n",
       "\n",
       "    .dataframe thead th {\n",
       "        text-align: right;\n",
       "    }\n",
       "</style>\n",
       "<table border=\"1\" class=\"dataframe\">\n",
       "  <thead>\n",
       "    <tr style=\"text-align: right;\">\n",
       "      <th></th>\n",
       "      <th>date</th>\n",
       "      <th>buyers_b</th>\n",
       "      <th>revenue_b</th>\n",
       "      <th>cumul_revenue_b</th>\n",
       "    </tr>\n",
       "  </thead>\n",
       "  <tbody>\n",
       "    <tr>\n",
       "      <th>0</th>\n",
       "      <td>2019-08-01</td>\n",
       "      <td>20</td>\n",
       "      <td>1620.0</td>\n",
       "      <td>1620.0</td>\n",
       "    </tr>\n",
       "    <tr>\n",
       "      <th>1</th>\n",
       "      <td>2019-08-02</td>\n",
       "      <td>23</td>\n",
       "      <td>2623.8</td>\n",
       "      <td>4243.8</td>\n",
       "    </tr>\n",
       "    <tr>\n",
       "      <th>2</th>\n",
       "      <td>2019-08-03</td>\n",
       "      <td>16</td>\n",
       "      <td>1806.8</td>\n",
       "      <td>6050.6</td>\n",
       "    </tr>\n",
       "    <tr>\n",
       "      <th>3</th>\n",
       "      <td>2019-08-04</td>\n",
       "      <td>16</td>\n",
       "      <td>1717.3</td>\n",
       "      <td>7767.9</td>\n",
       "    </tr>\n",
       "    <tr>\n",
       "      <th>4</th>\n",
       "      <td>2019-08-05</td>\n",
       "      <td>23</td>\n",
       "      <td>1495.0</td>\n",
       "      <td>9262.9</td>\n",
       "    </tr>\n",
       "  </tbody>\n",
       "</table>\n",
       "</div>"
      ],
      "text/plain": [
       "        date  buyers_b  revenue_b  cumul_revenue_b\n",
       "0 2019-08-01        20     1620.0           1620.0\n",
       "1 2019-08-02        23     2623.8           4243.8\n",
       "2 2019-08-03        16     1806.8           6050.6\n",
       "3 2019-08-04        16     1717.3           7767.9\n",
       "4 2019-08-05        23     1495.0           9262.9"
      ]
     },
     "execution_count": 25,
     "metadata": {},
     "output_type": "execute_result"
    }
   ],
   "source": [
    "orders_B_date_groupd = orders_B.groupby('date').agg({'visitorId':'nunique', 'revenue':'sum'}).reset_index()\n",
    "orders_B_date_groupd['cumul_revenue_b'] = orders_B_date_groupd['revenue'].cumsum()\n",
    "orders_B_date_groupd.columns = ['date', 'buyers_b', 'revenue_b', 'cumul_revenue_b']\n",
    "orders_B_date_groupd.head()"
   ]
  },
  {
   "cell_type": "code",
   "execution_count": 26,
   "id": "b8172d62",
   "metadata": {},
   "outputs": [
    {
     "data": {
      "image/png": "[encoded data removed]",
      "text/plain": [
       "<Figure size 1080x720 with 1 Axes>"
      ]
     },
     "metadata": {
      "needs_background": "light"
     },
     "output_type": "display_data"
    }
   ],
   "source": [
    "plt.rcParams[\"figure.figsize\"] = (15,10)\n",
    "plt.plot(orders_A_date_groupd['date'], orders_A_date_groupd['cumul_revenue_a'], label='Group A')\n",
    "plt.plot(orders_B_date_groupd['date'], orders_B_date_groupd['cumul_revenue_b'], label='Group B')\n",
    "plt.xlabel('Date')\n",
    "plt.ylabel('Cumulative Revenue')\n",
    "plt.title('Cumulative Revenue by Group')\n",
    "plt.legend()\n",
    "plt.grid()\n",
    "plt.show()"
   ]
  },
  {
   "cell_type": "markdown",
   "id": "86b4ae4f",
   "metadata": {},
   "source": [
    "We see that group B has higher cumulative revenue than group A, so we can say that the results of group B is better than group a, and that group B is more profitable than group A."
   ]
  },
  {
   "cell_type": "markdown",
   "id": "dede654d",
   "metadata": {},
   "source": [
    "A reason for the sudden rise in the cumulative revenue can be big and abnormal orders that spiked the revenue. Meaning orders that are outliers, and cause the cumulative revenue to rise in one moment. "
   ]
  },
  {
   "cell_type": "markdown",
   "id": "4a9f7226",
   "metadata": {},
   "source": [
    "* **2. Graph cumulative average order size by group. Make conclusions and conjectures.**"
   ]
  },
  {
   "cell_type": "markdown",
   "id": "dd5ec64a",
   "metadata": {},
   "source": [
    "**Group A**"
   ]
  },
  {
   "cell_type": "code",
   "execution_count": 27,
   "id": "a781553d",
   "metadata": {},
   "outputs": [
    {
     "data": {
      "text/html": [
       "<div>\n",
       "<style scoped>\n",
       "    .dataframe tbody tr th:only-of-type {\n",
       "        vertical-align: middle;\n",
       "    }\n",
       "\n",
       "    .dataframe tbody tr th {\n",
       "        vertical-align: top;\n",
       "    }\n",
       "\n",
       "    .dataframe thead th {\n",
       "        text-align: right;\n",
       "    }\n",
       "</style>\n",
       "<table border=\"1\" class=\"dataframe\">\n",
       "  <thead>\n",
       "    <tr style=\"text-align: right;\">\n",
       "      <th></th>\n",
       "      <th>date</th>\n",
       "      <th>buyers_a</th>\n",
       "      <th>purcheses_a</th>\n",
       "      <th>revenue_a</th>\n",
       "    </tr>\n",
       "  </thead>\n",
       "  <tbody>\n",
       "    <tr>\n",
       "      <th>0</th>\n",
       "      <td>2019-08-01</td>\n",
       "      <td>20</td>\n",
       "      <td>24</td>\n",
       "      <td>2356.8</td>\n",
       "    </tr>\n",
       "    <tr>\n",
       "      <th>1</th>\n",
       "      <td>2019-08-02</td>\n",
       "      <td>19</td>\n",
       "      <td>20</td>\n",
       "      <td>1503.5</td>\n",
       "    </tr>\n",
       "    <tr>\n",
       "      <th>2</th>\n",
       "      <td>2019-08-03</td>\n",
       "      <td>24</td>\n",
       "      <td>24</td>\n",
       "      <td>1815.2</td>\n",
       "    </tr>\n",
       "    <tr>\n",
       "      <th>3</th>\n",
       "      <td>2019-08-04</td>\n",
       "      <td>15</td>\n",
       "      <td>16</td>\n",
       "      <td>1146.6</td>\n",
       "    </tr>\n",
       "    <tr>\n",
       "      <th>4</th>\n",
       "      <td>2019-08-05</td>\n",
       "      <td>25</td>\n",
       "      <td>25</td>\n",
       "      <td>1988.1</td>\n",
       "    </tr>\n",
       "  </tbody>\n",
       "</table>\n",
       "</div>"
      ],
      "text/plain": [
       "        date  buyers_a  purcheses_a  revenue_a\n",
       "0 2019-08-01        20           24     2356.8\n",
       "1 2019-08-02        19           20     1503.5\n",
       "2 2019-08-03        24           24     1815.2\n",
       "3 2019-08-04        15           16     1146.6\n",
       "4 2019-08-05        25           25     1988.1"
      ]
     },
     "execution_count": 27,
     "metadata": {},
     "output_type": "execute_result"
    }
   ],
   "source": [
    "orders_A_date_purchases = orders_A.groupby('date').agg({'visitorId' :'nunique', 'transactionId':'count', 'revenue':'sum'}).reset_index()\n",
    "orders_A_date_purchases.columns = ['date', 'buyers_a', 'purcheses_a', 'revenue_a']\n",
    "orders_A_date_purchases.head()"
   ]
  },
  {
   "cell_type": "code",
   "execution_count": 28,
   "id": "a9ec7e16",
   "metadata": {},
   "outputs": [
    {
     "data": {
      "text/html": [
       "<div>\n",
       "<style scoped>\n",
       "    .dataframe tbody tr th:only-of-type {\n",
       "        vertical-align: middle;\n",
       "    }\n",
       "\n",
       "    .dataframe tbody tr th {\n",
       "        vertical-align: top;\n",
       "    }\n",
       "\n",
       "    .dataframe thead th {\n",
       "        text-align: right;\n",
       "    }\n",
       "</style>\n",
       "<table border=\"1\" class=\"dataframe\">\n",
       "  <thead>\n",
       "    <tr style=\"text-align: right;\">\n",
       "      <th></th>\n",
       "      <th>date</th>\n",
       "      <th>buyers_a</th>\n",
       "      <th>purcheses_a</th>\n",
       "      <th>revenue_a</th>\n",
       "      <th>cumul_rev_a</th>\n",
       "      <th>cumul_purch_a</th>\n",
       "      <th>cumul_avr_a</th>\n",
       "    </tr>\n",
       "  </thead>\n",
       "  <tbody>\n",
       "    <tr>\n",
       "      <th>0</th>\n",
       "      <td>2019-08-01</td>\n",
       "      <td>20</td>\n",
       "      <td>24</td>\n",
       "      <td>2356.8</td>\n",
       "      <td>2356.8</td>\n",
       "      <td>24</td>\n",
       "      <td>98.200000</td>\n",
       "    </tr>\n",
       "    <tr>\n",
       "      <th>1</th>\n",
       "      <td>2019-08-02</td>\n",
       "      <td>19</td>\n",
       "      <td>20</td>\n",
       "      <td>1503.5</td>\n",
       "      <td>3860.3</td>\n",
       "      <td>44</td>\n",
       "      <td>87.734091</td>\n",
       "    </tr>\n",
       "    <tr>\n",
       "      <th>2</th>\n",
       "      <td>2019-08-03</td>\n",
       "      <td>24</td>\n",
       "      <td>24</td>\n",
       "      <td>1815.2</td>\n",
       "      <td>5675.5</td>\n",
       "      <td>68</td>\n",
       "      <td>83.463235</td>\n",
       "    </tr>\n",
       "    <tr>\n",
       "      <th>3</th>\n",
       "      <td>2019-08-04</td>\n",
       "      <td>15</td>\n",
       "      <td>16</td>\n",
       "      <td>1146.6</td>\n",
       "      <td>6822.1</td>\n",
       "      <td>84</td>\n",
       "      <td>81.215476</td>\n",
       "    </tr>\n",
       "    <tr>\n",
       "      <th>4</th>\n",
       "      <td>2019-08-05</td>\n",
       "      <td>25</td>\n",
       "      <td>25</td>\n",
       "      <td>1988.1</td>\n",
       "      <td>8810.2</td>\n",
       "      <td>109</td>\n",
       "      <td>80.827523</td>\n",
       "    </tr>\n",
       "  </tbody>\n",
       "</table>\n",
       "</div>"
      ],
      "text/plain": [
       "        date  buyers_a  purcheses_a  revenue_a  cumul_rev_a  cumul_purch_a  \\\n",
       "0 2019-08-01        20           24     2356.8       2356.8             24   \n",
       "1 2019-08-02        19           20     1503.5       3860.3             44   \n",
       "2 2019-08-03        24           24     1815.2       5675.5             68   \n",
       "3 2019-08-04        15           16     1146.6       6822.1             84   \n",
       "4 2019-08-05        25           25     1988.1       8810.2            109   \n",
       "\n",
       "   cumul_avr_a  \n",
       "0    98.200000  \n",
       "1    87.734091  \n",
       "2    83.463235  \n",
       "3    81.215476  \n",
       "4    80.827523  "
      ]
     },
     "execution_count": 28,
     "metadata": {},
     "output_type": "execute_result"
    }
   ],
   "source": [
    "orders_A_date_purchases['cumul_rev_a'] = orders_A_date_purchases['revenue_a'].cumsum()\n",
    "orders_A_date_purchases['cumul_purch_a'] = orders_A_date_purchases['purcheses_a'].cumsum()\n",
    "orders_A_date_purchases['cumul_avr_a'] = orders_A_date_purchases['cumul_rev_a']/orders_A_date_purchases['cumul_purch_a']\n",
    "orders_A_date_purchases.head()"
   ]
  },
  {
   "cell_type": "markdown",
   "id": "2d06c42d",
   "metadata": {},
   "source": [
    "**Group B**"
   ]
  },
  {
   "cell_type": "code",
   "execution_count": 29,
   "id": "a9eaa713",
   "metadata": {},
   "outputs": [
    {
     "data": {
      "text/html": [
       "<div>\n",
       "<style scoped>\n",
       "    .dataframe tbody tr th:only-of-type {\n",
       "        vertical-align: middle;\n",
       "    }\n",
       "\n",
       "    .dataframe tbody tr th {\n",
       "        vertical-align: top;\n",
       "    }\n",
       "\n",
       "    .dataframe thead th {\n",
       "        text-align: right;\n",
       "    }\n",
       "</style>\n",
       "<table border=\"1\" class=\"dataframe\">\n",
       "  <thead>\n",
       "    <tr style=\"text-align: right;\">\n",
       "      <th></th>\n",
       "      <th>date</th>\n",
       "      <th>buyers_b</th>\n",
       "      <th>purcheses_b</th>\n",
       "      <th>revenue_b</th>\n",
       "    </tr>\n",
       "  </thead>\n",
       "  <tbody>\n",
       "    <tr>\n",
       "      <th>0</th>\n",
       "      <td>2019-08-01</td>\n",
       "      <td>20</td>\n",
       "      <td>21</td>\n",
       "      <td>1620.0</td>\n",
       "    </tr>\n",
       "    <tr>\n",
       "      <th>1</th>\n",
       "      <td>2019-08-02</td>\n",
       "      <td>23</td>\n",
       "      <td>24</td>\n",
       "      <td>2623.8</td>\n",
       "    </tr>\n",
       "    <tr>\n",
       "      <th>2</th>\n",
       "      <td>2019-08-03</td>\n",
       "      <td>16</td>\n",
       "      <td>16</td>\n",
       "      <td>1806.8</td>\n",
       "    </tr>\n",
       "    <tr>\n",
       "      <th>3</th>\n",
       "      <td>2019-08-04</td>\n",
       "      <td>16</td>\n",
       "      <td>17</td>\n",
       "      <td>1717.3</td>\n",
       "    </tr>\n",
       "    <tr>\n",
       "      <th>4</th>\n",
       "      <td>2019-08-05</td>\n",
       "      <td>23</td>\n",
       "      <td>23</td>\n",
       "      <td>1495.0</td>\n",
       "    </tr>\n",
       "  </tbody>\n",
       "</table>\n",
       "</div>"
      ],
      "text/plain": [
       "        date  buyers_b  purcheses_b  revenue_b\n",
       "0 2019-08-01        20           21     1620.0\n",
       "1 2019-08-02        23           24     2623.8\n",
       "2 2019-08-03        16           16     1806.8\n",
       "3 2019-08-04        16           17     1717.3\n",
       "4 2019-08-05        23           23     1495.0"
      ]
     },
     "execution_count": 29,
     "metadata": {},
     "output_type": "execute_result"
    }
   ],
   "source": [
    "orders_B_date_purchases = orders_B.groupby('date').agg({'visitorId' :'nunique', 'transactionId':'count', 'revenue':'sum'}).reset_index()\n",
    "orders_B_date_purchases.columns = ['date', 'buyers_b', 'purcheses_b', 'revenue_b']\n",
    "orders_B_date_purchases.head()"
   ]
  },
  {
   "cell_type": "code",
   "execution_count": 30,
   "id": "7b52b6b3",
   "metadata": {},
   "outputs": [
    {
     "data": {
      "text/html": [
       "<div>\n",
       "<style scoped>\n",
       "    .dataframe tbody tr th:only-of-type {\n",
       "        vertical-align: middle;\n",
       "    }\n",
       "\n",
       "    .dataframe tbody tr th {\n",
       "        vertical-align: top;\n",
       "    }\n",
       "\n",
       "    .dataframe thead th {\n",
       "        text-align: right;\n",
       "    }\n",
       "</style>\n",
       "<table border=\"1\" class=\"dataframe\">\n",
       "  <thead>\n",
       "    <tr style=\"text-align: right;\">\n",
       "      <th></th>\n",
       "      <th>date</th>\n",
       "      <th>buyers_b</th>\n",
       "      <th>purcheses_b</th>\n",
       "      <th>revenue_b</th>\n",
       "      <th>cumul_rev_b</th>\n",
       "      <th>cumul_purch_b</th>\n",
       "      <th>cumul_avr_b</th>\n",
       "    </tr>\n",
       "  </thead>\n",
       "  <tbody>\n",
       "    <tr>\n",
       "      <th>0</th>\n",
       "      <td>2019-08-01</td>\n",
       "      <td>20</td>\n",
       "      <td>21</td>\n",
       "      <td>1620.0</td>\n",
       "      <td>1620.0</td>\n",
       "      <td>21</td>\n",
       "      <td>77.142857</td>\n",
       "    </tr>\n",
       "    <tr>\n",
       "      <th>1</th>\n",
       "      <td>2019-08-02</td>\n",
       "      <td>23</td>\n",
       "      <td>24</td>\n",
       "      <td>2623.8</td>\n",
       "      <td>4243.8</td>\n",
       "      <td>45</td>\n",
       "      <td>94.306667</td>\n",
       "    </tr>\n",
       "    <tr>\n",
       "      <th>2</th>\n",
       "      <td>2019-08-03</td>\n",
       "      <td>16</td>\n",
       "      <td>16</td>\n",
       "      <td>1806.8</td>\n",
       "      <td>6050.6</td>\n",
       "      <td>61</td>\n",
       "      <td>99.190164</td>\n",
       "    </tr>\n",
       "    <tr>\n",
       "      <th>3</th>\n",
       "      <td>2019-08-04</td>\n",
       "      <td>16</td>\n",
       "      <td>17</td>\n",
       "      <td>1717.3</td>\n",
       "      <td>7767.9</td>\n",
       "      <td>78</td>\n",
       "      <td>99.588462</td>\n",
       "    </tr>\n",
       "    <tr>\n",
       "      <th>4</th>\n",
       "      <td>2019-08-05</td>\n",
       "      <td>23</td>\n",
       "      <td>23</td>\n",
       "      <td>1495.0</td>\n",
       "      <td>9262.9</td>\n",
       "      <td>101</td>\n",
       "      <td>91.711881</td>\n",
       "    </tr>\n",
       "  </tbody>\n",
       "</table>\n",
       "</div>"
      ],
      "text/plain": [
       "        date  buyers_b  purcheses_b  revenue_b  cumul_rev_b  cumul_purch_b  \\\n",
       "0 2019-08-01        20           21     1620.0       1620.0             21   \n",
       "1 2019-08-02        23           24     2623.8       4243.8             45   \n",
       "2 2019-08-03        16           16     1806.8       6050.6             61   \n",
       "3 2019-08-04        16           17     1717.3       7767.9             78   \n",
       "4 2019-08-05        23           23     1495.0       9262.9            101   \n",
       "\n",
       "   cumul_avr_b  \n",
       "0    77.142857  \n",
       "1    94.306667  \n",
       "2    99.190164  \n",
       "3    99.588462  \n",
       "4    91.711881  "
      ]
     },
     "execution_count": 30,
     "metadata": {},
     "output_type": "execute_result"
    }
   ],
   "source": [
    "orders_B_date_purchases['cumul_rev_b'] = orders_B_date_purchases['revenue_b'].cumsum()\n",
    "orders_B_date_purchases['cumul_purch_b'] = orders_B_date_purchases['purcheses_b'].cumsum()\n",
    "orders_B_date_purchases['cumul_avr_b'] = orders_B_date_purchases['cumul_rev_b']/orders_B_date_purchases['cumul_purch_b']\n",
    "orders_B_date_purchases.head()"
   ]
  },
  {
   "cell_type": "code",
   "execution_count": 31,
   "id": "2852b13f",
   "metadata": {},
   "outputs": [
    {
     "data": {
      "image/png": "[encoded data removed]",
      "text/plain": [
       "<Figure size 1080x720 with 1 Axes>"
      ]
     },
     "metadata": {
      "needs_background": "light"
     },
     "output_type": "display_data"
    }
   ],
   "source": [
    "plt.plot(orders_A_date_purchases['date'], orders_A_date_purchases['revenue_a'], label='Group A')\n",
    "plt.plot(orders_B_date_purchases['date'], orders_B_date_purchases['revenue_b'], label='Group B')\n",
    "plt.xlabel('Date')\n",
    "plt.ylabel('Revenue')\n",
    "plt.title('Revenue by Group')\n",
    "plt.legend()\n",
    "plt.grid()\n",
    "plt.show()"
   ]
  },
  {
   "cell_type": "code",
   "execution_count": 32,
   "id": "60dcd6e4",
   "metadata": {},
   "outputs": [
    {
     "data": {
      "image/png": "[encoded data removed]",
      "text/plain": [
       "<Figure size 1080x720 with 1 Axes>"
      ]
     },
     "metadata": {
      "needs_background": "light"
     },
     "output_type": "display_data"
    }
   ],
   "source": [
    "plt.plot(orders_A_date_purchases['date'], orders_A_date_purchases['cumul_avr_a'], label='Group A')\n",
    "plt.plot(orders_B_date_purchases['date'], orders_B_date_purchases['cumul_avr_b'], label='Group B')\n",
    "plt.xlabel('Date')\n",
    "plt.ylabel('Cumulative Average Order Size')\n",
    "plt.title('Cumulative Average Order Size by Group')\n",
    "plt.legend()\n",
    "plt.grid()\n",
    "plt.show()"
   ]
  },
  {
   "cell_type": "markdown",
   "id": "0ad1867c",
   "metadata": {},
   "source": [
    "In general, we see the same pattern that we saw earlier, the results of group B are better than group A. We see that around the 17th of August, there was a spike in the revenues - it's pretty abnormal. Maybe someone did one big purchase in the summertime. "
   ]
  },
  {
   "cell_type": "markdown",
   "id": "554a0307",
   "metadata": {},
   "source": [
    "* **3. Graph the relative difference in cumulative average order size for group B compared with group A. Make conclusions and conjectures.**"
   ]
  },
  {
   "cell_type": "code",
   "execution_count": 33,
   "id": "6ea62f98",
   "metadata": {},
   "outputs": [
    {
     "data": {
      "text/html": [
       "<div>\n",
       "<style scoped>\n",
       "    .dataframe tbody tr th:only-of-type {\n",
       "        vertical-align: middle;\n",
       "    }\n",
       "\n",
       "    .dataframe tbody tr th {\n",
       "        vertical-align: top;\n",
       "    }\n",
       "\n",
       "    .dataframe thead th {\n",
       "        text-align: right;\n",
       "    }\n",
       "</style>\n",
       "<table border=\"1\" class=\"dataframe\">\n",
       "  <thead>\n",
       "    <tr style=\"text-align: right;\">\n",
       "      <th></th>\n",
       "      <th>date</th>\n",
       "      <th>buyers_a</th>\n",
       "      <th>purcheses_a</th>\n",
       "      <th>revenue_a</th>\n",
       "      <th>cumul_rev_a</th>\n",
       "      <th>cumul_purch_a</th>\n",
       "      <th>cumul_avr_a</th>\n",
       "    </tr>\n",
       "  </thead>\n",
       "  <tbody>\n",
       "    <tr>\n",
       "      <th>0</th>\n",
       "      <td>2019-08-01</td>\n",
       "      <td>20</td>\n",
       "      <td>24</td>\n",
       "      <td>2356.8</td>\n",
       "      <td>2356.8</td>\n",
       "      <td>24</td>\n",
       "      <td>98.200000</td>\n",
       "    </tr>\n",
       "    <tr>\n",
       "      <th>1</th>\n",
       "      <td>2019-08-02</td>\n",
       "      <td>19</td>\n",
       "      <td>20</td>\n",
       "      <td>1503.5</td>\n",
       "      <td>3860.3</td>\n",
       "      <td>44</td>\n",
       "      <td>87.734091</td>\n",
       "    </tr>\n",
       "    <tr>\n",
       "      <th>2</th>\n",
       "      <td>2019-08-03</td>\n",
       "      <td>24</td>\n",
       "      <td>24</td>\n",
       "      <td>1815.2</td>\n",
       "      <td>5675.5</td>\n",
       "      <td>68</td>\n",
       "      <td>83.463235</td>\n",
       "    </tr>\n",
       "    <tr>\n",
       "      <th>3</th>\n",
       "      <td>2019-08-04</td>\n",
       "      <td>15</td>\n",
       "      <td>16</td>\n",
       "      <td>1146.6</td>\n",
       "      <td>6822.1</td>\n",
       "      <td>84</td>\n",
       "      <td>81.215476</td>\n",
       "    </tr>\n",
       "    <tr>\n",
       "      <th>4</th>\n",
       "      <td>2019-08-05</td>\n",
       "      <td>25</td>\n",
       "      <td>25</td>\n",
       "      <td>1988.1</td>\n",
       "      <td>8810.2</td>\n",
       "      <td>109</td>\n",
       "      <td>80.827523</td>\n",
       "    </tr>\n",
       "  </tbody>\n",
       "</table>\n",
       "</div>"
      ],
      "text/plain": [
       "        date  buyers_a  purcheses_a  revenue_a  cumul_rev_a  cumul_purch_a  \\\n",
       "0 2019-08-01        20           24     2356.8       2356.8             24   \n",
       "1 2019-08-02        19           20     1503.5       3860.3             44   \n",
       "2 2019-08-03        24           24     1815.2       5675.5             68   \n",
       "3 2019-08-04        15           16     1146.6       6822.1             84   \n",
       "4 2019-08-05        25           25     1988.1       8810.2            109   \n",
       "\n",
       "   cumul_avr_a  \n",
       "0    98.200000  \n",
       "1    87.734091  \n",
       "2    83.463235  \n",
       "3    81.215476  \n",
       "4    80.827523  "
      ]
     },
     "execution_count": 33,
     "metadata": {},
     "output_type": "execute_result"
    }
   ],
   "source": [
    "orders_A_date_purchases.head()"
   ]
  },
  {
   "cell_type": "markdown",
   "id": "f95e2cc0",
   "metadata": {},
   "source": [
    "Let's merge the data of the 2 groups and graph the relative difference."
   ]
  },
  {
   "cell_type": "code",
   "execution_count": 34,
   "id": "5b3bae58",
   "metadata": {},
   "outputs": [
    {
     "data": {
      "text/html": [
       "<div>\n",
       "<style scoped>\n",
       "    .dataframe tbody tr th:only-of-type {\n",
       "        vertical-align: middle;\n",
       "    }\n",
       "\n",
       "    .dataframe tbody tr th {\n",
       "        vertical-align: top;\n",
       "    }\n",
       "\n",
       "    .dataframe thead th {\n",
       "        text-align: right;\n",
       "    }\n",
       "</style>\n",
       "<table border=\"1\" class=\"dataframe\">\n",
       "  <thead>\n",
       "    <tr style=\"text-align: right;\">\n",
       "      <th></th>\n",
       "      <th>date</th>\n",
       "      <th>buyers_a</th>\n",
       "      <th>purcheses_a</th>\n",
       "      <th>revenue_a</th>\n",
       "      <th>cumul_rev_a</th>\n",
       "      <th>cumul_purch_a</th>\n",
       "      <th>cumul_avr_a</th>\n",
       "      <th>buyers_b</th>\n",
       "      <th>purcheses_b</th>\n",
       "      <th>revenue_b</th>\n",
       "      <th>cumul_rev_b</th>\n",
       "      <th>cumul_purch_b</th>\n",
       "      <th>cumul_avr_b</th>\n",
       "    </tr>\n",
       "  </thead>\n",
       "  <tbody>\n",
       "    <tr>\n",
       "      <th>0</th>\n",
       "      <td>2019-08-01</td>\n",
       "      <td>20</td>\n",
       "      <td>24</td>\n",
       "      <td>2356.8</td>\n",
       "      <td>2356.8</td>\n",
       "      <td>24</td>\n",
       "      <td>98.200000</td>\n",
       "      <td>20</td>\n",
       "      <td>21</td>\n",
       "      <td>1620.0</td>\n",
       "      <td>1620.0</td>\n",
       "      <td>21</td>\n",
       "      <td>77.142857</td>\n",
       "    </tr>\n",
       "    <tr>\n",
       "      <th>1</th>\n",
       "      <td>2019-08-02</td>\n",
       "      <td>19</td>\n",
       "      <td>20</td>\n",
       "      <td>1503.5</td>\n",
       "      <td>3860.3</td>\n",
       "      <td>44</td>\n",
       "      <td>87.734091</td>\n",
       "      <td>23</td>\n",
       "      <td>24</td>\n",
       "      <td>2623.8</td>\n",
       "      <td>4243.8</td>\n",
       "      <td>45</td>\n",
       "      <td>94.306667</td>\n",
       "    </tr>\n",
       "    <tr>\n",
       "      <th>2</th>\n",
       "      <td>2019-08-03</td>\n",
       "      <td>24</td>\n",
       "      <td>24</td>\n",
       "      <td>1815.2</td>\n",
       "      <td>5675.5</td>\n",
       "      <td>68</td>\n",
       "      <td>83.463235</td>\n",
       "      <td>16</td>\n",
       "      <td>16</td>\n",
       "      <td>1806.8</td>\n",
       "      <td>6050.6</td>\n",
       "      <td>61</td>\n",
       "      <td>99.190164</td>\n",
       "    </tr>\n",
       "    <tr>\n",
       "      <th>3</th>\n",
       "      <td>2019-08-04</td>\n",
       "      <td>15</td>\n",
       "      <td>16</td>\n",
       "      <td>1146.6</td>\n",
       "      <td>6822.1</td>\n",
       "      <td>84</td>\n",
       "      <td>81.215476</td>\n",
       "      <td>16</td>\n",
       "      <td>17</td>\n",
       "      <td>1717.3</td>\n",
       "      <td>7767.9</td>\n",
       "      <td>78</td>\n",
       "      <td>99.588462</td>\n",
       "    </tr>\n",
       "    <tr>\n",
       "      <th>4</th>\n",
       "      <td>2019-08-05</td>\n",
       "      <td>25</td>\n",
       "      <td>25</td>\n",
       "      <td>1988.1</td>\n",
       "      <td>8810.2</td>\n",
       "      <td>109</td>\n",
       "      <td>80.827523</td>\n",
       "      <td>23</td>\n",
       "      <td>23</td>\n",
       "      <td>1495.0</td>\n",
       "      <td>9262.9</td>\n",
       "      <td>101</td>\n",
       "      <td>91.711881</td>\n",
       "    </tr>\n",
       "  </tbody>\n",
       "</table>\n",
       "</div>"
      ],
      "text/plain": [
       "        date  buyers_a  purcheses_a  revenue_a  cumul_rev_a  cumul_purch_a  \\\n",
       "0 2019-08-01        20           24     2356.8       2356.8             24   \n",
       "1 2019-08-02        19           20     1503.5       3860.3             44   \n",
       "2 2019-08-03        24           24     1815.2       5675.5             68   \n",
       "3 2019-08-04        15           16     1146.6       6822.1             84   \n",
       "4 2019-08-05        25           25     1988.1       8810.2            109   \n",
       "\n",
       "   cumul_avr_a  buyers_b  purcheses_b  revenue_b  cumul_rev_b  cumul_purch_b  \\\n",
       "0    98.200000        20           21     1620.0       1620.0             21   \n",
       "1    87.734091        23           24     2623.8       4243.8             45   \n",
       "2    83.463235        16           16     1806.8       6050.6             61   \n",
       "3    81.215476        16           17     1717.3       7767.9             78   \n",
       "4    80.827523        23           23     1495.0       9262.9            101   \n",
       "\n",
       "   cumul_avr_b  \n",
       "0    77.142857  \n",
       "1    94.306667  \n",
       "2    99.190164  \n",
       "3    99.588462  \n",
       "4    91.711881  "
      ]
     },
     "execution_count": 34,
     "metadata": {},
     "output_type": "execute_result"
    }
   ],
   "source": [
    "merged_groupes_cumul = orders_A_date_purchases.merge(orders_B_date_purchases, left_on='date', right_on='date', how='left')\n",
    "merged_groupes_cumul.head()"
   ]
  },
  {
   "cell_type": "markdown",
   "id": "80c1590e",
   "metadata": {},
   "source": [
    "Now let's plot a relative difference graph."
   ]
  },
  {
   "cell_type": "code",
   "execution_count": 35,
   "id": "198e9f3e",
   "metadata": {},
   "outputs": [
    {
     "data": {
      "image/png": "[encoded data removed]",
      "text/plain": [
       "<Figure size 1080x720 with 1 Axes>"
      ]
     },
     "metadata": {
      "needs_background": "light"
     },
     "output_type": "display_data"
    }
   ],
   "source": [
    "plt.plot(merged_groupes_cumul['date'], (merged_groupes_cumul['revenue_b']/merged_groupes_cumul['purcheses_b'])/(merged_groupes_cumul['revenue_a']/merged_groupes_cumul['purcheses_a'])-1)\n",
    "plt.axhline(y=0, color='black', linestyle='--') \n",
    "plt.xlabel('Date')\n",
    "plt.ylabel('Relative Difference in Cumulative Average Order Size')\n",
    "plt.title('Relative Difference in Cumulative Average Order Size for Group B Compared with Group A')\n",
    "plt.grid()\n",
    "plt.show()"
   ]
  },
  {
   "cell_type": "markdown",
   "id": "9958f1da",
   "metadata": {},
   "source": [
    "We see here that at several points the segments spike. As we suspected earlier, this means that there must be big orders in group B. In general we see that group B has better revenue than group A."
   ]
  },
  {
   "cell_type": "markdown",
   "id": "0dbcbd1f",
   "metadata": {},
   "source": [
    "* **4. Calculate each group's conversion rate as the ratio of orders to the number of visits for each day. Plot the daily conversion rates of the two groups and describe the difference. Draw conclusions and make conjectures.**"
   ]
  },
  {
   "cell_type": "code",
   "execution_count": 36,
   "id": "0c66432d",
   "metadata": {},
   "outputs": [
    {
     "data": {
      "text/html": [
       "<div>\n",
       "<style scoped>\n",
       "    .dataframe tbody tr th:only-of-type {\n",
       "        vertical-align: middle;\n",
       "    }\n",
       "\n",
       "    .dataframe tbody tr th {\n",
       "        vertical-align: top;\n",
       "    }\n",
       "\n",
       "    .dataframe thead th {\n",
       "        text-align: right;\n",
       "    }\n",
       "</style>\n",
       "<table border=\"1\" class=\"dataframe\">\n",
       "  <thead>\n",
       "    <tr style=\"text-align: right;\">\n",
       "      <th></th>\n",
       "      <th>transactionId</th>\n",
       "      <th>visitorId</th>\n",
       "      <th>date</th>\n",
       "      <th>revenue</th>\n",
       "      <th>group</th>\n",
       "    </tr>\n",
       "  </thead>\n",
       "  <tbody>\n",
       "    <tr>\n",
       "      <th>2</th>\n",
       "      <td>2961555356</td>\n",
       "      <td>4069496402</td>\n",
       "      <td>2019-08-15</td>\n",
       "      <td>10.2</td>\n",
       "      <td>A</td>\n",
       "    </tr>\n",
       "    <tr>\n",
       "      <th>7</th>\n",
       "      <td>2626614568</td>\n",
       "      <td>78758296</td>\n",
       "      <td>2019-08-15</td>\n",
       "      <td>20.1</td>\n",
       "      <td>A</td>\n",
       "    </tr>\n",
       "    <tr>\n",
       "      <th>8</th>\n",
       "      <td>1576988021</td>\n",
       "      <td>295230930</td>\n",
       "      <td>2019-08-15</td>\n",
       "      <td>215.9</td>\n",
       "      <td>A</td>\n",
       "    </tr>\n",
       "    <tr>\n",
       "      <th>10</th>\n",
       "      <td>3649131742</td>\n",
       "      <td>879864040</td>\n",
       "      <td>2019-08-15</td>\n",
       "      <td>65.7</td>\n",
       "      <td>A</td>\n",
       "    </tr>\n",
       "    <tr>\n",
       "      <th>12</th>\n",
       "      <td>2809384911</td>\n",
       "      <td>3213223594</td>\n",
       "      <td>2019-08-15</td>\n",
       "      <td>115.4</td>\n",
       "      <td>A</td>\n",
       "    </tr>\n",
       "  </tbody>\n",
       "</table>\n",
       "</div>"
      ],
      "text/plain": [
       "    transactionId   visitorId       date  revenue group\n",
       "2      2961555356  4069496402 2019-08-15     10.2     A\n",
       "7      2626614568    78758296 2019-08-15     20.1     A\n",
       "8      1576988021   295230930 2019-08-15    215.9     A\n",
       "10     3649131742   879864040 2019-08-15     65.7     A\n",
       "12     2809384911  3213223594 2019-08-15    115.4     A"
      ]
     },
     "execution_count": 36,
     "metadata": {},
     "output_type": "execute_result"
    }
   ],
   "source": [
    "orders_A.head()"
   ]
  },
  {
   "cell_type": "code",
   "execution_count": 37,
   "id": "e0f26019",
   "metadata": {},
   "outputs": [
    {
     "data": {
      "text/html": [
       "<div>\n",
       "<style scoped>\n",
       "    .dataframe tbody tr th:only-of-type {\n",
       "        vertical-align: middle;\n",
       "    }\n",
       "\n",
       "    .dataframe tbody tr th {\n",
       "        vertical-align: top;\n",
       "    }\n",
       "\n",
       "    .dataframe thead th {\n",
       "        text-align: right;\n",
       "    }\n",
       "</style>\n",
       "<table border=\"1\" class=\"dataframe\">\n",
       "  <thead>\n",
       "    <tr style=\"text-align: right;\">\n",
       "      <th></th>\n",
       "      <th>transactionId</th>\n",
       "      <th>visitorId</th>\n",
       "      <th>date</th>\n",
       "      <th>revenue</th>\n",
       "      <th>group</th>\n",
       "    </tr>\n",
       "  </thead>\n",
       "  <tbody>\n",
       "    <tr>\n",
       "      <th>0</th>\n",
       "      <td>3667963787</td>\n",
       "      <td>3312258926</td>\n",
       "      <td>2019-08-15</td>\n",
       "      <td>30.4</td>\n",
       "      <td>B</td>\n",
       "    </tr>\n",
       "    <tr>\n",
       "      <th>1</th>\n",
       "      <td>2804400009</td>\n",
       "      <td>3642806036</td>\n",
       "      <td>2019-08-15</td>\n",
       "      <td>15.2</td>\n",
       "      <td>B</td>\n",
       "    </tr>\n",
       "    <tr>\n",
       "      <th>3</th>\n",
       "      <td>3797467345</td>\n",
       "      <td>1196621759</td>\n",
       "      <td>2019-08-15</td>\n",
       "      <td>155.1</td>\n",
       "      <td>B</td>\n",
       "    </tr>\n",
       "    <tr>\n",
       "      <th>4</th>\n",
       "      <td>2282983706</td>\n",
       "      <td>2322279887</td>\n",
       "      <td>2019-08-15</td>\n",
       "      <td>40.5</td>\n",
       "      <td>B</td>\n",
       "    </tr>\n",
       "    <tr>\n",
       "      <th>5</th>\n",
       "      <td>182168103</td>\n",
       "      <td>935554773</td>\n",
       "      <td>2019-08-15</td>\n",
       "      <td>35.0</td>\n",
       "      <td>B</td>\n",
       "    </tr>\n",
       "  </tbody>\n",
       "</table>\n",
       "</div>"
      ],
      "text/plain": [
       "   transactionId   visitorId       date  revenue group\n",
       "0     3667963787  3312258926 2019-08-15     30.4     B\n",
       "1     2804400009  3642806036 2019-08-15     15.2     B\n",
       "3     3797467345  1196621759 2019-08-15    155.1     B\n",
       "4     2282983706  2322279887 2019-08-15     40.5     B\n",
       "5      182168103   935554773 2019-08-15     35.0     B"
      ]
     },
     "execution_count": 37,
     "metadata": {},
     "output_type": "execute_result"
    }
   ],
   "source": [
    "orders_B.head()"
   ]
  },
  {
   "cell_type": "markdown",
   "id": "6c390ac2",
   "metadata": {},
   "source": [
    "First, let's divide the 2 groups for the visits data set."
   ]
  },
  {
   "cell_type": "code",
   "execution_count": 38,
   "id": "889df37f",
   "metadata": {},
   "outputs": [
    {
     "data": {
      "text/html": [
       "<div>\n",
       "<style scoped>\n",
       "    .dataframe tbody tr th:only-of-type {\n",
       "        vertical-align: middle;\n",
       "    }\n",
       "\n",
       "    .dataframe tbody tr th {\n",
       "        vertical-align: top;\n",
       "    }\n",
       "\n",
       "    .dataframe thead th {\n",
       "        text-align: right;\n",
       "    }\n",
       "</style>\n",
       "<table border=\"1\" class=\"dataframe\">\n",
       "  <thead>\n",
       "    <tr style=\"text-align: right;\">\n",
       "      <th></th>\n",
       "      <th>date</th>\n",
       "      <th>group</th>\n",
       "      <th>visits</th>\n",
       "    </tr>\n",
       "  </thead>\n",
       "  <tbody>\n",
       "    <tr>\n",
       "      <th>0</th>\n",
       "      <td>2019-08-01</td>\n",
       "      <td>A</td>\n",
       "      <td>719</td>\n",
       "    </tr>\n",
       "    <tr>\n",
       "      <th>1</th>\n",
       "      <td>2019-08-02</td>\n",
       "      <td>A</td>\n",
       "      <td>619</td>\n",
       "    </tr>\n",
       "    <tr>\n",
       "      <th>2</th>\n",
       "      <td>2019-08-03</td>\n",
       "      <td>A</td>\n",
       "      <td>507</td>\n",
       "    </tr>\n",
       "    <tr>\n",
       "      <th>3</th>\n",
       "      <td>2019-08-04</td>\n",
       "      <td>A</td>\n",
       "      <td>717</td>\n",
       "    </tr>\n",
       "    <tr>\n",
       "      <th>4</th>\n",
       "      <td>2019-08-05</td>\n",
       "      <td>A</td>\n",
       "      <td>756</td>\n",
       "    </tr>\n",
       "  </tbody>\n",
       "</table>\n",
       "</div>"
      ],
      "text/plain": [
       "        date group  visits\n",
       "0 2019-08-01     A     719\n",
       "1 2019-08-02     A     619\n",
       "2 2019-08-03     A     507\n",
       "3 2019-08-04     A     717\n",
       "4 2019-08-05     A     756"
      ]
     },
     "execution_count": 38,
     "metadata": {},
     "output_type": "execute_result"
    }
   ],
   "source": [
    "visits_A = visits.query('group == \"A\"')\n",
    "visits_A.head()"
   ]
  },
  {
   "cell_type": "code",
   "execution_count": 39,
   "id": "7fa09f47",
   "metadata": {},
   "outputs": [
    {
     "data": {
      "text/html": [
       "<div>\n",
       "<style scoped>\n",
       "    .dataframe tbody tr th:only-of-type {\n",
       "        vertical-align: middle;\n",
       "    }\n",
       "\n",
       "    .dataframe tbody tr th {\n",
       "        vertical-align: top;\n",
       "    }\n",
       "\n",
       "    .dataframe thead th {\n",
       "        text-align: right;\n",
       "    }\n",
       "</style>\n",
       "<table border=\"1\" class=\"dataframe\">\n",
       "  <thead>\n",
       "    <tr style=\"text-align: right;\">\n",
       "      <th></th>\n",
       "      <th>date</th>\n",
       "      <th>group</th>\n",
       "      <th>visits</th>\n",
       "    </tr>\n",
       "  </thead>\n",
       "  <tbody>\n",
       "    <tr>\n",
       "      <th>31</th>\n",
       "      <td>2019-08-01</td>\n",
       "      <td>B</td>\n",
       "      <td>713</td>\n",
       "    </tr>\n",
       "    <tr>\n",
       "      <th>32</th>\n",
       "      <td>2019-08-02</td>\n",
       "      <td>B</td>\n",
       "      <td>581</td>\n",
       "    </tr>\n",
       "    <tr>\n",
       "      <th>33</th>\n",
       "      <td>2019-08-03</td>\n",
       "      <td>B</td>\n",
       "      <td>509</td>\n",
       "    </tr>\n",
       "    <tr>\n",
       "      <th>34</th>\n",
       "      <td>2019-08-04</td>\n",
       "      <td>B</td>\n",
       "      <td>770</td>\n",
       "    </tr>\n",
       "    <tr>\n",
       "      <th>35</th>\n",
       "      <td>2019-08-05</td>\n",
       "      <td>B</td>\n",
       "      <td>707</td>\n",
       "    </tr>\n",
       "  </tbody>\n",
       "</table>\n",
       "</div>"
      ],
      "text/plain": [
       "         date group  visits\n",
       "31 2019-08-01     B     713\n",
       "32 2019-08-02     B     581\n",
       "33 2019-08-03     B     509\n",
       "34 2019-08-04     B     770\n",
       "35 2019-08-05     B     707"
      ]
     },
     "execution_count": 39,
     "metadata": {},
     "output_type": "execute_result"
    }
   ],
   "source": [
    "visits_B = visits.query('group == \"B\"')\n",
    "visits_B.head()"
   ]
  },
  {
   "cell_type": "markdown",
   "id": "b975016e",
   "metadata": {},
   "source": [
    "Now we will create table with the number of orders for each day and merge these tables to find the needed conversion rate."
   ]
  },
  {
   "cell_type": "code",
   "execution_count": 40,
   "id": "01b38301",
   "metadata": {},
   "outputs": [
    {
     "data": {
      "text/html": [
       "<div>\n",
       "<style scoped>\n",
       "    .dataframe tbody tr th:only-of-type {\n",
       "        vertical-align: middle;\n",
       "    }\n",
       "\n",
       "    .dataframe tbody tr th {\n",
       "        vertical-align: top;\n",
       "    }\n",
       "\n",
       "    .dataframe thead th {\n",
       "        text-align: right;\n",
       "    }\n",
       "</style>\n",
       "<table border=\"1\" class=\"dataframe\">\n",
       "  <thead>\n",
       "    <tr style=\"text-align: right;\">\n",
       "      <th></th>\n",
       "      <th>date</th>\n",
       "      <th>transactionId</th>\n",
       "    </tr>\n",
       "  </thead>\n",
       "  <tbody>\n",
       "    <tr>\n",
       "      <th>0</th>\n",
       "      <td>2019-08-01</td>\n",
       "      <td>24</td>\n",
       "    </tr>\n",
       "    <tr>\n",
       "      <th>1</th>\n",
       "      <td>2019-08-02</td>\n",
       "      <td>20</td>\n",
       "    </tr>\n",
       "    <tr>\n",
       "      <th>2</th>\n",
       "      <td>2019-08-03</td>\n",
       "      <td>24</td>\n",
       "    </tr>\n",
       "    <tr>\n",
       "      <th>3</th>\n",
       "      <td>2019-08-04</td>\n",
       "      <td>16</td>\n",
       "    </tr>\n",
       "    <tr>\n",
       "      <th>4</th>\n",
       "      <td>2019-08-05</td>\n",
       "      <td>25</td>\n",
       "    </tr>\n",
       "  </tbody>\n",
       "</table>\n",
       "</div>"
      ],
      "text/plain": [
       "        date  transactionId\n",
       "0 2019-08-01             24\n",
       "1 2019-08-02             20\n",
       "2 2019-08-03             24\n",
       "3 2019-08-04             16\n",
       "4 2019-08-05             25"
      ]
     },
     "execution_count": 40,
     "metadata": {},
     "output_type": "execute_result"
    }
   ],
   "source": [
    "num_orders_A = orders_A.groupby('date')['transactionId'].count().reset_index()\n",
    "num_orders_A.head()"
   ]
  },
  {
   "cell_type": "code",
   "execution_count": 41,
   "id": "d2b662f5",
   "metadata": {},
   "outputs": [
    {
     "data": {
      "text/html": [
       "<div>\n",
       "<style scoped>\n",
       "    .dataframe tbody tr th:only-of-type {\n",
       "        vertical-align: middle;\n",
       "    }\n",
       "\n",
       "    .dataframe tbody tr th {\n",
       "        vertical-align: top;\n",
       "    }\n",
       "\n",
       "    .dataframe thead th {\n",
       "        text-align: right;\n",
       "    }\n",
       "</style>\n",
       "<table border=\"1\" class=\"dataframe\">\n",
       "  <thead>\n",
       "    <tr style=\"text-align: right;\">\n",
       "      <th></th>\n",
       "      <th>date</th>\n",
       "      <th>transactionId</th>\n",
       "    </tr>\n",
       "  </thead>\n",
       "  <tbody>\n",
       "    <tr>\n",
       "      <th>0</th>\n",
       "      <td>2019-08-01</td>\n",
       "      <td>21</td>\n",
       "    </tr>\n",
       "    <tr>\n",
       "      <th>1</th>\n",
       "      <td>2019-08-02</td>\n",
       "      <td>24</td>\n",
       "    </tr>\n",
       "    <tr>\n",
       "      <th>2</th>\n",
       "      <td>2019-08-03</td>\n",
       "      <td>16</td>\n",
       "    </tr>\n",
       "    <tr>\n",
       "      <th>3</th>\n",
       "      <td>2019-08-04</td>\n",
       "      <td>17</td>\n",
       "    </tr>\n",
       "    <tr>\n",
       "      <th>4</th>\n",
       "      <td>2019-08-05</td>\n",
       "      <td>23</td>\n",
       "    </tr>\n",
       "  </tbody>\n",
       "</table>\n",
       "</div>"
      ],
      "text/plain": [
       "        date  transactionId\n",
       "0 2019-08-01             21\n",
       "1 2019-08-02             24\n",
       "2 2019-08-03             16\n",
       "3 2019-08-04             17\n",
       "4 2019-08-05             23"
      ]
     },
     "execution_count": 41,
     "metadata": {},
     "output_type": "execute_result"
    }
   ],
   "source": [
    "num_orders_B = orders_B.groupby('date')['transactionId'].count().reset_index()\n",
    "num_orders_B.head()"
   ]
  },
  {
   "cell_type": "markdown",
   "id": "f5a12cc1",
   "metadata": {},
   "source": [
    "Now let's merge them by date."
   ]
  },
  {
   "cell_type": "code",
   "execution_count": 42,
   "id": "cdf7ac12",
   "metadata": {},
   "outputs": [
    {
     "data": {
      "text/html": [
       "<div>\n",
       "<style scoped>\n",
       "    .dataframe tbody tr th:only-of-type {\n",
       "        vertical-align: middle;\n",
       "    }\n",
       "\n",
       "    .dataframe tbody tr th {\n",
       "        vertical-align: top;\n",
       "    }\n",
       "\n",
       "    .dataframe thead th {\n",
       "        text-align: right;\n",
       "    }\n",
       "</style>\n",
       "<table border=\"1\" class=\"dataframe\">\n",
       "  <thead>\n",
       "    <tr style=\"text-align: right;\">\n",
       "      <th></th>\n",
       "      <th>date</th>\n",
       "      <th>orders_A</th>\n",
       "      <th>group_A</th>\n",
       "      <th>visits_A</th>\n",
       "    </tr>\n",
       "  </thead>\n",
       "  <tbody>\n",
       "    <tr>\n",
       "      <th>0</th>\n",
       "      <td>2019-08-01</td>\n",
       "      <td>24</td>\n",
       "      <td>A</td>\n",
       "      <td>719</td>\n",
       "    </tr>\n",
       "    <tr>\n",
       "      <th>1</th>\n",
       "      <td>2019-08-02</td>\n",
       "      <td>20</td>\n",
       "      <td>A</td>\n",
       "      <td>619</td>\n",
       "    </tr>\n",
       "    <tr>\n",
       "      <th>2</th>\n",
       "      <td>2019-08-03</td>\n",
       "      <td>24</td>\n",
       "      <td>A</td>\n",
       "      <td>507</td>\n",
       "    </tr>\n",
       "    <tr>\n",
       "      <th>3</th>\n",
       "      <td>2019-08-04</td>\n",
       "      <td>16</td>\n",
       "      <td>A</td>\n",
       "      <td>717</td>\n",
       "    </tr>\n",
       "    <tr>\n",
       "      <th>4</th>\n",
       "      <td>2019-08-05</td>\n",
       "      <td>25</td>\n",
       "      <td>A</td>\n",
       "      <td>756</td>\n",
       "    </tr>\n",
       "  </tbody>\n",
       "</table>\n",
       "</div>"
      ],
      "text/plain": [
       "        date  orders_A group_A  visits_A\n",
       "0 2019-08-01        24       A       719\n",
       "1 2019-08-02        20       A       619\n",
       "2 2019-08-03        24       A       507\n",
       "3 2019-08-04        16       A       717\n",
       "4 2019-08-05        25       A       756"
      ]
     },
     "execution_count": 42,
     "metadata": {},
     "output_type": "execute_result"
    }
   ],
   "source": [
    "num_orders_A = num_orders_A.merge(visits_A, on = 'date', how = 'left')\n",
    "num_orders_A.columns = ['date', 'orders_A', 'group_A', 'visits_A']\n",
    "num_orders_A.head()"
   ]
  },
  {
   "cell_type": "code",
   "execution_count": 43,
   "id": "b0115dcc",
   "metadata": {},
   "outputs": [
    {
     "data": {
      "text/html": [
       "<div>\n",
       "<style scoped>\n",
       "    .dataframe tbody tr th:only-of-type {\n",
       "        vertical-align: middle;\n",
       "    }\n",
       "\n",
       "    .dataframe tbody tr th {\n",
       "        vertical-align: top;\n",
       "    }\n",
       "\n",
       "    .dataframe thead th {\n",
       "        text-align: right;\n",
       "    }\n",
       "</style>\n",
       "<table border=\"1\" class=\"dataframe\">\n",
       "  <thead>\n",
       "    <tr style=\"text-align: right;\">\n",
       "      <th></th>\n",
       "      <th>date</th>\n",
       "      <th>orders_B</th>\n",
       "      <th>group_B</th>\n",
       "      <th>visits_B</th>\n",
       "    </tr>\n",
       "  </thead>\n",
       "  <tbody>\n",
       "    <tr>\n",
       "      <th>0</th>\n",
       "      <td>2019-08-01</td>\n",
       "      <td>21</td>\n",
       "      <td>B</td>\n",
       "      <td>713</td>\n",
       "    </tr>\n",
       "    <tr>\n",
       "      <th>1</th>\n",
       "      <td>2019-08-02</td>\n",
       "      <td>24</td>\n",
       "      <td>B</td>\n",
       "      <td>581</td>\n",
       "    </tr>\n",
       "    <tr>\n",
       "      <th>2</th>\n",
       "      <td>2019-08-03</td>\n",
       "      <td>16</td>\n",
       "      <td>B</td>\n",
       "      <td>509</td>\n",
       "    </tr>\n",
       "    <tr>\n",
       "      <th>3</th>\n",
       "      <td>2019-08-04</td>\n",
       "      <td>17</td>\n",
       "      <td>B</td>\n",
       "      <td>770</td>\n",
       "    </tr>\n",
       "    <tr>\n",
       "      <th>4</th>\n",
       "      <td>2019-08-05</td>\n",
       "      <td>23</td>\n",
       "      <td>B</td>\n",
       "      <td>707</td>\n",
       "    </tr>\n",
       "  </tbody>\n",
       "</table>\n",
       "</div>"
      ],
      "text/plain": [
       "        date  orders_B group_B  visits_B\n",
       "0 2019-08-01        21       B       713\n",
       "1 2019-08-02        24       B       581\n",
       "2 2019-08-03        16       B       509\n",
       "3 2019-08-04        17       B       770\n",
       "4 2019-08-05        23       B       707"
      ]
     },
     "execution_count": 43,
     "metadata": {},
     "output_type": "execute_result"
    }
   ],
   "source": [
    "num_orders_B = num_orders_B.merge(visits_B, on = 'date', how = 'left')\n",
    "num_orders_B.columns = ['date', 'orders_B', 'group_B', 'visits_B']\n",
    "num_orders_B.head()"
   ]
  },
  {
   "cell_type": "code",
   "execution_count": 44,
   "id": "39212e73",
   "metadata": {},
   "outputs": [],
   "source": [
    "num_orders_A['conversion_A'] = num_orders_A['orders_A'] / num_orders_A['visits_A']\n",
    "num_orders_B['conversion_B'] = num_orders_B['orders_B'] / num_orders_B['visits_B']"
   ]
  },
  {
   "cell_type": "code",
   "execution_count": 45,
   "id": "049a19f1",
   "metadata": {},
   "outputs": [
    {
     "data": {
      "text/html": [
       "<div>\n",
       "<style scoped>\n",
       "    .dataframe tbody tr th:only-of-type {\n",
       "        vertical-align: middle;\n",
       "    }\n",
       "\n",
       "    .dataframe tbody tr th {\n",
       "        vertical-align: top;\n",
       "    }\n",
       "\n",
       "    .dataframe thead th {\n",
       "        text-align: right;\n",
       "    }\n",
       "</style>\n",
       "<table border=\"1\" class=\"dataframe\">\n",
       "  <thead>\n",
       "    <tr style=\"text-align: right;\">\n",
       "      <th></th>\n",
       "      <th>date</th>\n",
       "      <th>orders_A</th>\n",
       "      <th>group_A</th>\n",
       "      <th>visits_A</th>\n",
       "      <th>conversion_A</th>\n",
       "    </tr>\n",
       "  </thead>\n",
       "  <tbody>\n",
       "    <tr>\n",
       "      <th>0</th>\n",
       "      <td>2019-08-01</td>\n",
       "      <td>24</td>\n",
       "      <td>A</td>\n",
       "      <td>719</td>\n",
       "      <td>0.033380</td>\n",
       "    </tr>\n",
       "    <tr>\n",
       "      <th>1</th>\n",
       "      <td>2019-08-02</td>\n",
       "      <td>20</td>\n",
       "      <td>A</td>\n",
       "      <td>619</td>\n",
       "      <td>0.032310</td>\n",
       "    </tr>\n",
       "    <tr>\n",
       "      <th>2</th>\n",
       "      <td>2019-08-03</td>\n",
       "      <td>24</td>\n",
       "      <td>A</td>\n",
       "      <td>507</td>\n",
       "      <td>0.047337</td>\n",
       "    </tr>\n",
       "    <tr>\n",
       "      <th>3</th>\n",
       "      <td>2019-08-04</td>\n",
       "      <td>16</td>\n",
       "      <td>A</td>\n",
       "      <td>717</td>\n",
       "      <td>0.022315</td>\n",
       "    </tr>\n",
       "    <tr>\n",
       "      <th>4</th>\n",
       "      <td>2019-08-05</td>\n",
       "      <td>25</td>\n",
       "      <td>A</td>\n",
       "      <td>756</td>\n",
       "      <td>0.033069</td>\n",
       "    </tr>\n",
       "  </tbody>\n",
       "</table>\n",
       "</div>"
      ],
      "text/plain": [
       "        date  orders_A group_A  visits_A  conversion_A\n",
       "0 2019-08-01        24       A       719      0.033380\n",
       "1 2019-08-02        20       A       619      0.032310\n",
       "2 2019-08-03        24       A       507      0.047337\n",
       "3 2019-08-04        16       A       717      0.022315\n",
       "4 2019-08-05        25       A       756      0.033069"
      ]
     },
     "execution_count": 45,
     "metadata": {},
     "output_type": "execute_result"
    }
   ],
   "source": [
    "num_orders_A.head()"
   ]
  },
  {
   "cell_type": "code",
   "execution_count": 46,
   "id": "79b15010",
   "metadata": {},
   "outputs": [
    {
     "data": {
      "text/html": [
       "<div>\n",
       "<style scoped>\n",
       "    .dataframe tbody tr th:only-of-type {\n",
       "        vertical-align: middle;\n",
       "    }\n",
       "\n",
       "    .dataframe tbody tr th {\n",
       "        vertical-align: top;\n",
       "    }\n",
       "\n",
       "    .dataframe thead th {\n",
       "        text-align: right;\n",
       "    }\n",
       "</style>\n",
       "<table border=\"1\" class=\"dataframe\">\n",
       "  <thead>\n",
       "    <tr style=\"text-align: right;\">\n",
       "      <th></th>\n",
       "      <th>date</th>\n",
       "      <th>orders_B</th>\n",
       "      <th>group_B</th>\n",
       "      <th>visits_B</th>\n",
       "      <th>conversion_B</th>\n",
       "    </tr>\n",
       "  </thead>\n",
       "  <tbody>\n",
       "    <tr>\n",
       "      <th>0</th>\n",
       "      <td>2019-08-01</td>\n",
       "      <td>21</td>\n",
       "      <td>B</td>\n",
       "      <td>713</td>\n",
       "      <td>0.029453</td>\n",
       "    </tr>\n",
       "    <tr>\n",
       "      <th>1</th>\n",
       "      <td>2019-08-02</td>\n",
       "      <td>24</td>\n",
       "      <td>B</td>\n",
       "      <td>581</td>\n",
       "      <td>0.041308</td>\n",
       "    </tr>\n",
       "    <tr>\n",
       "      <th>2</th>\n",
       "      <td>2019-08-03</td>\n",
       "      <td>16</td>\n",
       "      <td>B</td>\n",
       "      <td>509</td>\n",
       "      <td>0.031434</td>\n",
       "    </tr>\n",
       "    <tr>\n",
       "      <th>3</th>\n",
       "      <td>2019-08-04</td>\n",
       "      <td>17</td>\n",
       "      <td>B</td>\n",
       "      <td>770</td>\n",
       "      <td>0.022078</td>\n",
       "    </tr>\n",
       "    <tr>\n",
       "      <th>4</th>\n",
       "      <td>2019-08-05</td>\n",
       "      <td>23</td>\n",
       "      <td>B</td>\n",
       "      <td>707</td>\n",
       "      <td>0.032532</td>\n",
       "    </tr>\n",
       "  </tbody>\n",
       "</table>\n",
       "</div>"
      ],
      "text/plain": [
       "        date  orders_B group_B  visits_B  conversion_B\n",
       "0 2019-08-01        21       B       713      0.029453\n",
       "1 2019-08-02        24       B       581      0.041308\n",
       "2 2019-08-03        16       B       509      0.031434\n",
       "3 2019-08-04        17       B       770      0.022078\n",
       "4 2019-08-05        23       B       707      0.032532"
      ]
     },
     "execution_count": 46,
     "metadata": {},
     "output_type": "execute_result"
    }
   ],
   "source": [
    "num_orders_B.head()"
   ]
  },
  {
   "cell_type": "markdown",
   "id": "4b6f2105",
   "metadata": {},
   "source": [
    "Now let's plot the conversion rate for each group."
   ]
  },
  {
   "cell_type": "code",
   "execution_count": 47,
   "id": "fa0b8eb3",
   "metadata": {},
   "outputs": [
    {
     "data": {
      "image/png": "[encoded data removed]",
      "text/plain": [
       "<Figure size 1080x720 with 1 Axes>"
      ]
     },
     "metadata": {
      "needs_background": "light"
     },
     "output_type": "display_data"
    }
   ],
   "source": [
    "plt.plot(num_orders_A['date'], num_orders_A['conversion_A'], label='Group A')\n",
    "plt.plot(num_orders_B['date'], num_orders_B['conversion_B'], label='Group B')\n",
    "plt.legend()\n",
    "plt.grid()\n",
    "plt.show()"
   ]
  },
  {
   "cell_type": "markdown",
   "id": "83ff2953",
   "metadata": {},
   "source": [
    "Let's calculate the overall conversion rate for each group."
   ]
  },
  {
   "cell_type": "code",
   "execution_count": 48,
   "id": "c3e9d411",
   "metadata": {},
   "outputs": [
    {
     "data": {
      "text/plain": [
       "0.029728864218616567"
      ]
     },
     "execution_count": 48,
     "metadata": {},
     "output_type": "execute_result"
    }
   ],
   "source": [
    " num_orders_A['orders_A'].sum() / num_orders_A['visits_A'].sum()"
   ]
  },
  {
   "cell_type": "code",
   "execution_count": 49,
   "id": "52ff4a62",
   "metadata": {},
   "outputs": [
    {
     "data": {
      "text/plain": [
       "0.033833791499259885"
      ]
     },
     "execution_count": 49,
     "metadata": {},
     "output_type": "execute_result"
    }
   ],
   "source": [
    " num_orders_B['orders_B'].sum() / num_orders_B['visits_B'].sum()"
   ]
  },
  {
   "cell_type": "markdown",
   "id": "6096e9a9",
   "metadata": {},
   "source": [
    "Let's plot relative difference graph for the cumulative conversion rates"
   ]
  },
  {
   "cell_type": "code",
   "execution_count": 50,
   "id": "41149ae7",
   "metadata": {},
   "outputs": [
    {
     "data": {
      "text/html": [
       "<div>\n",
       "<style scoped>\n",
       "    .dataframe tbody tr th:only-of-type {\n",
       "        vertical-align: middle;\n",
       "    }\n",
       "\n",
       "    .dataframe tbody tr th {\n",
       "        vertical-align: top;\n",
       "    }\n",
       "\n",
       "    .dataframe thead th {\n",
       "        text-align: right;\n",
       "    }\n",
       "</style>\n",
       "<table border=\"1\" class=\"dataframe\">\n",
       "  <thead>\n",
       "    <tr style=\"text-align: right;\">\n",
       "      <th></th>\n",
       "      <th>date</th>\n",
       "      <th>orders_A</th>\n",
       "      <th>group_A</th>\n",
       "      <th>visits_A</th>\n",
       "      <th>conversion_A</th>\n",
       "      <th>orders_B</th>\n",
       "      <th>group_B</th>\n",
       "      <th>visits_B</th>\n",
       "      <th>conversion_B</th>\n",
       "    </tr>\n",
       "  </thead>\n",
       "  <tbody>\n",
       "    <tr>\n",
       "      <th>0</th>\n",
       "      <td>2019-08-01</td>\n",
       "      <td>24</td>\n",
       "      <td>A</td>\n",
       "      <td>719</td>\n",
       "      <td>0.033380</td>\n",
       "      <td>21</td>\n",
       "      <td>B</td>\n",
       "      <td>713</td>\n",
       "      <td>0.029453</td>\n",
       "    </tr>\n",
       "    <tr>\n",
       "      <th>1</th>\n",
       "      <td>2019-08-02</td>\n",
       "      <td>20</td>\n",
       "      <td>A</td>\n",
       "      <td>619</td>\n",
       "      <td>0.032310</td>\n",
       "      <td>24</td>\n",
       "      <td>B</td>\n",
       "      <td>581</td>\n",
       "      <td>0.041308</td>\n",
       "    </tr>\n",
       "    <tr>\n",
       "      <th>2</th>\n",
       "      <td>2019-08-03</td>\n",
       "      <td>24</td>\n",
       "      <td>A</td>\n",
       "      <td>507</td>\n",
       "      <td>0.047337</td>\n",
       "      <td>16</td>\n",
       "      <td>B</td>\n",
       "      <td>509</td>\n",
       "      <td>0.031434</td>\n",
       "    </tr>\n",
       "    <tr>\n",
       "      <th>3</th>\n",
       "      <td>2019-08-04</td>\n",
       "      <td>16</td>\n",
       "      <td>A</td>\n",
       "      <td>717</td>\n",
       "      <td>0.022315</td>\n",
       "      <td>17</td>\n",
       "      <td>B</td>\n",
       "      <td>770</td>\n",
       "      <td>0.022078</td>\n",
       "    </tr>\n",
       "    <tr>\n",
       "      <th>4</th>\n",
       "      <td>2019-08-05</td>\n",
       "      <td>25</td>\n",
       "      <td>A</td>\n",
       "      <td>756</td>\n",
       "      <td>0.033069</td>\n",
       "      <td>23</td>\n",
       "      <td>B</td>\n",
       "      <td>707</td>\n",
       "      <td>0.032532</td>\n",
       "    </tr>\n",
       "  </tbody>\n",
       "</table>\n",
       "</div>"
      ],
      "text/plain": [
       "        date  orders_A group_A  visits_A  conversion_A  orders_B group_B  \\\n",
       "0 2019-08-01        24       A       719      0.033380        21       B   \n",
       "1 2019-08-02        20       A       619      0.032310        24       B   \n",
       "2 2019-08-03        24       A       507      0.047337        16       B   \n",
       "3 2019-08-04        16       A       717      0.022315        17       B   \n",
       "4 2019-08-05        25       A       756      0.033069        23       B   \n",
       "\n",
       "   visits_B  conversion_B  \n",
       "0       713      0.029453  \n",
       "1       581      0.041308  \n",
       "2       509      0.031434  \n",
       "3       770      0.022078  \n",
       "4       707      0.032532  "
      ]
     },
     "execution_count": 50,
     "metadata": {},
     "output_type": "execute_result"
    }
   ],
   "source": [
    "merged_cumul_conversion = num_orders_A.merge(num_orders_B, on = 'date', how = 'left')\n",
    "merged_cumul_conversion.head()"
   ]
  },
  {
   "cell_type": "code",
   "execution_count": 51,
   "id": "9d34ac59",
   "metadata": {},
   "outputs": [
    {
     "data": {
      "image/png": "[encoded data removed]",
      "text/plain": [
       "<Figure size 1080x720 with 1 Axes>"
      ]
     },
     "metadata": {
      "needs_background": "light"
     },
     "output_type": "display_data"
    }
   ],
   "source": [
    "plt.plot(merged_groupes_cumul['date'], (merged_cumul_conversion['orders_B']/merged_cumul_conversion['visits_B'])/(merged_cumul_conversion['orders_A']/merged_cumul_conversion['visits_A'])-1)\n",
    "\n",
    "plt.axhline(y=0, color='black', linestyle='--') \n",
    "plt.xlabel('Date')\n",
    "plt.ylabel('Relative Difference in Cumulative Conversion')\n",
    "plt.title('Relative Difference in Cumulative Conversion for Group B Compared with Group A')\n",
    "plt.grid()\n",
    "plt.show()"
   ]
  },
  {
   "cell_type": "markdown",
   "id": "7f1c43c6",
   "metadata": {},
   "source": [
    "Wow! \n",
    "\n",
    "This graph has a lot of spikes - the data is very unstable. Once again as we suspected, we have outliers of users that placed abnormally large numbers of orders. \n",
    "\n",
    "In general, we see that most of the time the graph is above zero, which means that the conversion rate of group B is better compared to group A. "
   ]
  },
  {
   "cell_type": "markdown",
   "id": "70e69b32",
   "metadata": {},
   "source": [
    "\n"
   ]
  },
  {
   "cell_type": "markdown",
   "id": "05e921f3",
   "metadata": {},
   "source": [
    "* **5. Plot a scatter chart of the number of orders per user. Make conclusions and conjectures.**"
   ]
  },
  {
   "cell_type": "code",
   "execution_count": 52,
   "id": "17de8be6",
   "metadata": {},
   "outputs": [
    {
     "data": {
      "text/html": [
       "<div>\n",
       "<style scoped>\n",
       "    .dataframe tbody tr th:only-of-type {\n",
       "        vertical-align: middle;\n",
       "    }\n",
       "\n",
       "    .dataframe tbody tr th {\n",
       "        vertical-align: top;\n",
       "    }\n",
       "\n",
       "    .dataframe thead th {\n",
       "        text-align: right;\n",
       "    }\n",
       "</style>\n",
       "<table border=\"1\" class=\"dataframe\">\n",
       "  <thead>\n",
       "    <tr style=\"text-align: right;\">\n",
       "      <th></th>\n",
       "      <th>user</th>\n",
       "      <th>orders</th>\n",
       "    </tr>\n",
       "  </thead>\n",
       "  <tbody>\n",
       "    <tr>\n",
       "      <th>0</th>\n",
       "      <td>5114589</td>\n",
       "      <td>1</td>\n",
       "    </tr>\n",
       "    <tr>\n",
       "      <th>1</th>\n",
       "      <td>6958315</td>\n",
       "      <td>1</td>\n",
       "    </tr>\n",
       "    <tr>\n",
       "      <th>2</th>\n",
       "      <td>8300375</td>\n",
       "      <td>2</td>\n",
       "    </tr>\n",
       "    <tr>\n",
       "      <th>3</th>\n",
       "      <td>11685486</td>\n",
       "      <td>1</td>\n",
       "    </tr>\n",
       "    <tr>\n",
       "      <th>4</th>\n",
       "      <td>39475350</td>\n",
       "      <td>1</td>\n",
       "    </tr>\n",
       "  </tbody>\n",
       "</table>\n",
       "</div>"
      ],
      "text/plain": [
       "       user  orders\n",
       "0   5114589       1\n",
       "1   6958315       1\n",
       "2   8300375       2\n",
       "3  11685486       1\n",
       "4  39475350       1"
      ]
     },
     "execution_count": 52,
     "metadata": {},
     "output_type": "execute_result"
    }
   ],
   "source": [
    "orders_per_user = orders.groupby('visitorId')['transactionId'].count().reset_index()\n",
    "orders_per_user.columns = ['user', 'orders']\n",
    "orders_per_user.head()"
   ]
  },
  {
   "cell_type": "markdown",
   "id": "70593bb9",
   "metadata": {},
   "source": [
    "The x values of the scatter plot will be the number of users."
   ]
  },
  {
   "cell_type": "code",
   "execution_count": 53,
   "id": "eb47f672",
   "metadata": {},
   "outputs": [],
   "source": [
    "x_values = pd.Series(range(0,len(orders_per_user)))"
   ]
  },
  {
   "cell_type": "code",
   "execution_count": 54,
   "id": "acac0b28",
   "metadata": {
    "scrolled": true
   },
   "outputs": [
    {
     "data": {
      "image/png": "[encoded data removed]",
      "text/plain": [
       "<Figure size 1080x720 with 1 Axes>"
      ]
     },
     "metadata": {
      "needs_background": "light"
     },
     "output_type": "display_data"
    }
   ],
   "source": [
    "plt.scatter(x_values, orders_per_user['orders'])\n",
    "plt.grid()\n",
    "plt.show()"
   ]
  },
  {
   "cell_type": "markdown",
   "id": "400a1e28",
   "metadata": {},
   "source": [
    "So here we see that most of the users make one order. But nevertheless, we also see many users with 2 to 4 orders. That explains the spikes we saw in the graphs. We also see that there are users who made more than 30 orders - that's definitely unnormal and an outlier."
   ]
  },
  {
   "cell_type": "markdown",
   "id": "1b9755a1",
   "metadata": {},
   "source": [
    "* **6. Calculate the 95th and 99th percentiles for the number of orders per user. Define the point at which a data point becomes an anomaly.**"
   ]
  },
  {
   "cell_type": "code",
   "execution_count": 55,
   "id": "d6f55e8c",
   "metadata": {},
   "outputs": [
    {
     "data": {
      "text/plain": [
       "array([2., 4.])"
      ]
     },
     "execution_count": 55,
     "metadata": {},
     "output_type": "execute_result"
    }
   ],
   "source": [
    "np.percentile(orders_per_user['orders'], [95, 99])"
   ]
  },
  {
   "cell_type": "markdown",
   "id": "d5860ceb",
   "metadata": {},
   "source": [
    "Here we see that no more than 5% made more than 2 orders, and only 1% made more than 4 orders. \n",
    "\n",
    "Thus we can set the lower limit to be between 2-3 orders per user and filter anomalies on that basis."
   ]
  },
  {
   "cell_type": "markdown",
   "id": "5e32cdd6",
   "metadata": {},
   "source": [
    "* **7. Plot a scatter chart of order prices. Make conclusions and conjectures.**"
   ]
  },
  {
   "cell_type": "markdown",
   "id": "f43cfc06",
   "metadata": {},
   "source": [
    "The x values for the scatter plot will be the number of orders. "
   ]
  },
  {
   "cell_type": "code",
   "execution_count": 56,
   "id": "a56c16f7",
   "metadata": {},
   "outputs": [],
   "source": [
    "x_values_orders = pd.Series(range(0, len(orders['revenue'])))"
   ]
  },
  {
   "cell_type": "code",
   "execution_count": 57,
   "id": "4855c88a",
   "metadata": {},
   "outputs": [
    {
     "data": {
      "image/png": "[encoded data removed]",
      "text/plain": [
       "<Figure size 1080x720 with 1 Axes>"
      ]
     },
     "metadata": {
      "needs_background": "light"
     },
     "output_type": "display_data"
    }
   ],
   "source": [
    "plt.scatter(x_values_orders, orders['revenue']) \n",
    "plt.grid()\n",
    "plt.show()"
   ]
  },
  {
   "cell_type": "markdown",
   "id": "35d4833a",
   "metadata": {},
   "source": [
    "Here we see that most of the orders have revenue beneath 2,500. We have only 2 orders that have higher revenue: one around 3,500-4,000 and one around 20,000.\n"
   ]
  },
  {
   "cell_type": "markdown",
   "id": "9212cfe1",
   "metadata": {},
   "source": [
    "* **8. Calculate the 95th and 99th percentiles of order prices. Define the point at which a data point becomes an anomaly.**"
   ]
  },
  {
   "cell_type": "code",
   "execution_count": 58,
   "id": "2fee9187",
   "metadata": {},
   "outputs": [
    {
     "data": {
      "text/plain": [
       "array([435.54 , 900.904])"
      ]
     },
     "execution_count": 58,
     "metadata": {},
     "output_type": "execute_result"
    }
   ],
   "source": [
    "np.percentile(orders['revenue'], [95, 99])"
   ]
  },
  {
   "cell_type": "markdown",
   "id": "f2e8a603",
   "metadata": {},
   "source": [
    "This means that no more than 5% of the orders cost more than 435.54 and no more than 1% cost more than 900.904. \n",
    "\n",
    "Thus we can set the limit for order price to be 435.54, and filter any order above that as abnormal."
   ]
  },
  {
   "cell_type": "markdown",
   "id": "10763bb4",
   "metadata": {},
   "source": [
    "* **9. Find the statistical significance of the difference in conversion between the groups using the raw data. Make conclusions and conjectures.**"
   ]
  },
  {
   "cell_type": "markdown",
   "id": "7c66f3f7",
   "metadata": {},
   "source": [
    "Let's buils the right data set with the number of buyers for each group."
   ]
  },
  {
   "cell_type": "code",
   "execution_count": 59,
   "id": "0d32ede7",
   "metadata": {},
   "outputs": [
    {
     "data": {
      "text/html": [
       "<div>\n",
       "<style scoped>\n",
       "    .dataframe tbody tr th:only-of-type {\n",
       "        vertical-align: middle;\n",
       "    }\n",
       "\n",
       "    .dataframe tbody tr th {\n",
       "        vertical-align: top;\n",
       "    }\n",
       "\n",
       "    .dataframe thead th {\n",
       "        text-align: right;\n",
       "    }\n",
       "</style>\n",
       "<table border=\"1\" class=\"dataframe\">\n",
       "  <thead>\n",
       "    <tr style=\"text-align: right;\">\n",
       "      <th></th>\n",
       "      <th>date</th>\n",
       "      <th>buyers</th>\n",
       "    </tr>\n",
       "  </thead>\n",
       "  <tbody>\n",
       "    <tr>\n",
       "      <th>0</th>\n",
       "      <td>2019-08-01</td>\n",
       "      <td>20</td>\n",
       "    </tr>\n",
       "    <tr>\n",
       "      <th>1</th>\n",
       "      <td>2019-08-02</td>\n",
       "      <td>19</td>\n",
       "    </tr>\n",
       "    <tr>\n",
       "      <th>2</th>\n",
       "      <td>2019-08-03</td>\n",
       "      <td>24</td>\n",
       "    </tr>\n",
       "    <tr>\n",
       "      <th>3</th>\n",
       "      <td>2019-08-04</td>\n",
       "      <td>15</td>\n",
       "    </tr>\n",
       "    <tr>\n",
       "      <th>4</th>\n",
       "      <td>2019-08-05</td>\n",
       "      <td>25</td>\n",
       "    </tr>\n",
       "  </tbody>\n",
       "</table>\n",
       "</div>"
      ],
      "text/plain": [
       "        date  buyers\n",
       "0 2019-08-01      20\n",
       "1 2019-08-02      19\n",
       "2 2019-08-03      24\n",
       "3 2019-08-04      15\n",
       "4 2019-08-05      25"
      ]
     },
     "execution_count": 59,
     "metadata": {},
     "output_type": "execute_result"
    }
   ],
   "source": [
    "orders_buyers_A = orders_A.groupby('date')['visitorId'].nunique().reset_index()\n",
    "orders_buyers_A.columns = ['date', 'buyers']\n",
    "orders_buyers_A.head()"
   ]
  },
  {
   "cell_type": "code",
   "execution_count": 60,
   "id": "bceca813",
   "metadata": {},
   "outputs": [
    {
     "data": {
      "text/html": [
       "<div>\n",
       "<style scoped>\n",
       "    .dataframe tbody tr th:only-of-type {\n",
       "        vertical-align: middle;\n",
       "    }\n",
       "\n",
       "    .dataframe tbody tr th {\n",
       "        vertical-align: top;\n",
       "    }\n",
       "\n",
       "    .dataframe thead th {\n",
       "        text-align: right;\n",
       "    }\n",
       "</style>\n",
       "<table border=\"1\" class=\"dataframe\">\n",
       "  <thead>\n",
       "    <tr style=\"text-align: right;\">\n",
       "      <th></th>\n",
       "      <th>date</th>\n",
       "      <th>buyers</th>\n",
       "    </tr>\n",
       "  </thead>\n",
       "  <tbody>\n",
       "    <tr>\n",
       "      <th>0</th>\n",
       "      <td>2019-08-01</td>\n",
       "      <td>20</td>\n",
       "    </tr>\n",
       "    <tr>\n",
       "      <th>1</th>\n",
       "      <td>2019-08-02</td>\n",
       "      <td>23</td>\n",
       "    </tr>\n",
       "    <tr>\n",
       "      <th>2</th>\n",
       "      <td>2019-08-03</td>\n",
       "      <td>16</td>\n",
       "    </tr>\n",
       "    <tr>\n",
       "      <th>3</th>\n",
       "      <td>2019-08-04</td>\n",
       "      <td>16</td>\n",
       "    </tr>\n",
       "    <tr>\n",
       "      <th>4</th>\n",
       "      <td>2019-08-05</td>\n",
       "      <td>23</td>\n",
       "    </tr>\n",
       "  </tbody>\n",
       "</table>\n",
       "</div>"
      ],
      "text/plain": [
       "        date  buyers\n",
       "0 2019-08-01      20\n",
       "1 2019-08-02      23\n",
       "2 2019-08-03      16\n",
       "3 2019-08-04      16\n",
       "4 2019-08-05      23"
      ]
     },
     "execution_count": 60,
     "metadata": {},
     "output_type": "execute_result"
    }
   ],
   "source": [
    "orders_buyers_B = orders_B.groupby('date')['visitorId'].nunique().reset_index()\n",
    "orders_buyers_B.columns = ['date', 'buyers']\n",
    "orders_buyers_B.head()"
   ]
  },
  {
   "cell_type": "markdown",
   "id": "d599d435",
   "metadata": {},
   "source": [
    "Now let's see how many trials and successes each group obtains."
   ]
  },
  {
   "cell_type": "code",
   "execution_count": 61,
   "id": "1f58764b",
   "metadata": {},
   "outputs": [
    {
     "name": "stdout",
     "output_type": "stream",
     "text": [
      "-----Group A-----\n",
      "Trials: 18736\n",
      "Successes: 543\n"
     ]
    }
   ],
   "source": [
    "A_trials = visits_A['visits'].sum()\n",
    "print('-----Group A-----')\n",
    "print(\"Trials:\",A_trials)\n",
    "A_successes = orders_buyers_A['buyers'].sum()\n",
    "print(\"Successes:\",A_successes)"
   ]
  },
  {
   "cell_type": "code",
   "execution_count": 62,
   "id": "298b7d6c",
   "metadata": {},
   "outputs": [
    {
     "name": "stdout",
     "output_type": "stream",
     "text": [
      "-----Group B-----\n",
      "Trials: 18916\n",
      "Successes: 628\n"
     ]
    }
   ],
   "source": [
    "B_trials = visits_B['visits'].sum()\n",
    "print('-----Group B-----')\n",
    "print(\"Trials:\",B_trials)\n",
    "B_successes = orders_buyers_B['buyers'].sum()\n",
    "print(\"Successes:\",B_successes)"
   ]
  },
  {
   "cell_type": "markdown",
   "id": "484b3cd7",
   "metadata": {},
   "source": [
    "Noe let's build a function to find the statistical significance."
   ]
  },
  {
   "cell_type": "code",
   "execution_count": 63,
   "id": "a1640497",
   "metadata": {},
   "outputs": [],
   "source": [
    "def check_hypothesis(successes1,trials1, successes2,trials2, alpha=0.05):\n",
    "    #proportion for success in the first group\n",
    "    p1 = successes1/trials1\n",
    "\n",
    "   #proportion for success in the second group\n",
    "    p2 = successes2/trials2\n",
    "    p_combined = (successes1 + successes2) / (trials1 + trials2)\n",
    "\n",
    "  \n",
    "    difference = p1 - p2\n",
    "    \n",
    "    \n",
    "    z_value = difference / math.sqrt(p_combined * (1 - p_combined) * (1/trials1 + 1/trials2))\n",
    "\n",
    "  \n",
    "    distr = stats.norm(0, 1) \n",
    "\n",
    "\n",
    "    p_value = (1 - distr.cdf(abs(z_value))) * 2\n",
    "\n",
    "    print('p-value: ', p_value)"
   ]
  },
  {
   "cell_type": "markdown",
   "id": "feab11f6",
   "metadata": {},
   "source": [
    "Let's formulate the hypotheses.\n",
    "\n",
    "**H0:** There's not a statistically significant difference in conversion between the groups.\n",
    "\n",
    "**H1:** There's a statistically significant difference in conversion between the groups."
   ]
  },
  {
   "cell_type": "code",
   "execution_count": 64,
   "id": "d92f4a8c",
   "metadata": {},
   "outputs": [
    {
     "name": "stdout",
     "output_type": "stream",
     "text": [
      "p-value:  0.01840751744395841\n"
     ]
    }
   ],
   "source": [
    "check_hypothesis(A_successes,A_trials, B_successes,B_trials, alpha=0.05)"
   ]
  },
  {
   "cell_type": "markdown",
   "id": "51e96009",
   "metadata": {},
   "source": [
    "We got a p-value that is smaller than 0.05 so we reject the null hypothesis and say that there is a statistically significant difference in conversion between the groups."
   ]
  },
  {
   "cell_type": "markdown",
   "id": "efce0bb2",
   "metadata": {},
   "source": [
    "* **10. Find the statistical significance of the difference in average order size between the groups using the raw data. Make conclusions and conjectures.**"
   ]
  },
  {
   "cell_type": "markdown",
   "id": "b23cd395",
   "metadata": {},
   "source": [
    "Let's build the right data set for each group that contains the nubber of orders and the amount of revenue for each day to calculate the average order size."
   ]
  },
  {
   "cell_type": "code",
   "execution_count": 65,
   "id": "1cf2b70e",
   "metadata": {},
   "outputs": [
    {
     "data": {
      "text/html": [
       "<div>\n",
       "<style scoped>\n",
       "    .dataframe tbody tr th:only-of-type {\n",
       "        vertical-align: middle;\n",
       "    }\n",
       "\n",
       "    .dataframe tbody tr th {\n",
       "        vertical-align: top;\n",
       "    }\n",
       "\n",
       "    .dataframe thead th {\n",
       "        text-align: right;\n",
       "    }\n",
       "</style>\n",
       "<table border=\"1\" class=\"dataframe\">\n",
       "  <thead>\n",
       "    <tr style=\"text-align: right;\">\n",
       "      <th></th>\n",
       "      <th>date</th>\n",
       "      <th>orders</th>\n",
       "      <th>revenue</th>\n",
       "    </tr>\n",
       "  </thead>\n",
       "  <tbody>\n",
       "    <tr>\n",
       "      <th>0</th>\n",
       "      <td>2019-08-01</td>\n",
       "      <td>24</td>\n",
       "      <td>2356.8</td>\n",
       "    </tr>\n",
       "    <tr>\n",
       "      <th>1</th>\n",
       "      <td>2019-08-02</td>\n",
       "      <td>20</td>\n",
       "      <td>1503.5</td>\n",
       "    </tr>\n",
       "    <tr>\n",
       "      <th>2</th>\n",
       "      <td>2019-08-03</td>\n",
       "      <td>24</td>\n",
       "      <td>1815.2</td>\n",
       "    </tr>\n",
       "    <tr>\n",
       "      <th>3</th>\n",
       "      <td>2019-08-04</td>\n",
       "      <td>16</td>\n",
       "      <td>1146.6</td>\n",
       "    </tr>\n",
       "    <tr>\n",
       "      <th>4</th>\n",
       "      <td>2019-08-05</td>\n",
       "      <td>25</td>\n",
       "      <td>1988.1</td>\n",
       "    </tr>\n",
       "  </tbody>\n",
       "</table>\n",
       "</div>"
      ],
      "text/plain": [
       "        date  orders  revenue\n",
       "0 2019-08-01      24   2356.8\n",
       "1 2019-08-02      20   1503.5\n",
       "2 2019-08-03      24   1815.2\n",
       "3 2019-08-04      16   1146.6\n",
       "4 2019-08-05      25   1988.1"
      ]
     },
     "execution_count": 65,
     "metadata": {},
     "output_type": "execute_result"
    }
   ],
   "source": [
    "orders_A_revenue = orders_A.groupby('date').agg({'transactionId':'count', 'revenue':'sum'}).reset_index()\n",
    "orders_A_revenue.columns = ['date', 'orders', 'revenue']\n",
    "orders_A_revenue.head()"
   ]
  },
  {
   "cell_type": "code",
   "execution_count": 66,
   "id": "e3a11eac",
   "metadata": {},
   "outputs": [
    {
     "data": {
      "text/html": [
       "<div>\n",
       "<style scoped>\n",
       "    .dataframe tbody tr th:only-of-type {\n",
       "        vertical-align: middle;\n",
       "    }\n",
       "\n",
       "    .dataframe tbody tr th {\n",
       "        vertical-align: top;\n",
       "    }\n",
       "\n",
       "    .dataframe thead th {\n",
       "        text-align: right;\n",
       "    }\n",
       "</style>\n",
       "<table border=\"1\" class=\"dataframe\">\n",
       "  <thead>\n",
       "    <tr style=\"text-align: right;\">\n",
       "      <th></th>\n",
       "      <th>date</th>\n",
       "      <th>orders</th>\n",
       "      <th>revenue</th>\n",
       "    </tr>\n",
       "  </thead>\n",
       "  <tbody>\n",
       "    <tr>\n",
       "      <th>0</th>\n",
       "      <td>2019-08-01</td>\n",
       "      <td>21</td>\n",
       "      <td>1620.0</td>\n",
       "    </tr>\n",
       "    <tr>\n",
       "      <th>1</th>\n",
       "      <td>2019-08-02</td>\n",
       "      <td>24</td>\n",
       "      <td>2623.8</td>\n",
       "    </tr>\n",
       "    <tr>\n",
       "      <th>2</th>\n",
       "      <td>2019-08-03</td>\n",
       "      <td>16</td>\n",
       "      <td>1806.8</td>\n",
       "    </tr>\n",
       "    <tr>\n",
       "      <th>3</th>\n",
       "      <td>2019-08-04</td>\n",
       "      <td>17</td>\n",
       "      <td>1717.3</td>\n",
       "    </tr>\n",
       "    <tr>\n",
       "      <th>4</th>\n",
       "      <td>2019-08-05</td>\n",
       "      <td>23</td>\n",
       "      <td>1495.0</td>\n",
       "    </tr>\n",
       "  </tbody>\n",
       "</table>\n",
       "</div>"
      ],
      "text/plain": [
       "        date  orders  revenue\n",
       "0 2019-08-01      21   1620.0\n",
       "1 2019-08-02      24   2623.8\n",
       "2 2019-08-03      16   1806.8\n",
       "3 2019-08-04      17   1717.3\n",
       "4 2019-08-05      23   1495.0"
      ]
     },
     "execution_count": 66,
     "metadata": {},
     "output_type": "execute_result"
    }
   ],
   "source": [
    "orders_B_revenue = orders_B.groupby('date').agg({'transactionId':'count', 'revenue':'sum'}).reset_index()\n",
    "orders_B_revenue.columns = ['date', 'orders', 'revenue']\n",
    "orders_B_revenue.head()"
   ]
  },
  {
   "cell_type": "markdown",
   "id": "0b8e452a",
   "metadata": {},
   "source": [
    "Now let's calculate the average purchase size for each group."
   ]
  },
  {
   "cell_type": "code",
   "execution_count": 67,
   "id": "a2bd1559",
   "metadata": {},
   "outputs": [
    {
     "data": {
      "text/html": [
       "<div>\n",
       "<style scoped>\n",
       "    .dataframe tbody tr th:only-of-type {\n",
       "        vertical-align: middle;\n",
       "    }\n",
       "\n",
       "    .dataframe tbody tr th {\n",
       "        vertical-align: top;\n",
       "    }\n",
       "\n",
       "    .dataframe thead th {\n",
       "        text-align: right;\n",
       "    }\n",
       "</style>\n",
       "<table border=\"1\" class=\"dataframe\">\n",
       "  <thead>\n",
       "    <tr style=\"text-align: right;\">\n",
       "      <th></th>\n",
       "      <th>date</th>\n",
       "      <th>orders</th>\n",
       "      <th>revenue</th>\n",
       "      <th>avg_ch</th>\n",
       "    </tr>\n",
       "  </thead>\n",
       "  <tbody>\n",
       "    <tr>\n",
       "      <th>0</th>\n",
       "      <td>2019-08-01</td>\n",
       "      <td>24</td>\n",
       "      <td>2356.8</td>\n",
       "      <td>98.200000</td>\n",
       "    </tr>\n",
       "    <tr>\n",
       "      <th>1</th>\n",
       "      <td>2019-08-02</td>\n",
       "      <td>20</td>\n",
       "      <td>1503.5</td>\n",
       "      <td>75.175000</td>\n",
       "    </tr>\n",
       "    <tr>\n",
       "      <th>2</th>\n",
       "      <td>2019-08-03</td>\n",
       "      <td>24</td>\n",
       "      <td>1815.2</td>\n",
       "      <td>75.633333</td>\n",
       "    </tr>\n",
       "    <tr>\n",
       "      <th>3</th>\n",
       "      <td>2019-08-04</td>\n",
       "      <td>16</td>\n",
       "      <td>1146.6</td>\n",
       "      <td>71.662500</td>\n",
       "    </tr>\n",
       "    <tr>\n",
       "      <th>4</th>\n",
       "      <td>2019-08-05</td>\n",
       "      <td>25</td>\n",
       "      <td>1988.1</td>\n",
       "      <td>79.524000</td>\n",
       "    </tr>\n",
       "  </tbody>\n",
       "</table>\n",
       "</div>"
      ],
      "text/plain": [
       "        date  orders  revenue     avg_ch\n",
       "0 2019-08-01      24   2356.8  98.200000\n",
       "1 2019-08-02      20   1503.5  75.175000\n",
       "2 2019-08-03      24   1815.2  75.633333\n",
       "3 2019-08-04      16   1146.6  71.662500\n",
       "4 2019-08-05      25   1988.1  79.524000"
      ]
     },
     "execution_count": 67,
     "metadata": {},
     "output_type": "execute_result"
    }
   ],
   "source": [
    "orders_A_revenue['avg_ch'] = orders_A_revenue['revenue']/orders_A_revenue['orders']\n",
    "orders_A_revenue.head()"
   ]
  },
  {
   "cell_type": "code",
   "execution_count": 68,
   "id": "7b43f654",
   "metadata": {},
   "outputs": [
    {
     "data": {
      "text/html": [
       "<div>\n",
       "<style scoped>\n",
       "    .dataframe tbody tr th:only-of-type {\n",
       "        vertical-align: middle;\n",
       "    }\n",
       "\n",
       "    .dataframe tbody tr th {\n",
       "        vertical-align: top;\n",
       "    }\n",
       "\n",
       "    .dataframe thead th {\n",
       "        text-align: right;\n",
       "    }\n",
       "</style>\n",
       "<table border=\"1\" class=\"dataframe\">\n",
       "  <thead>\n",
       "    <tr style=\"text-align: right;\">\n",
       "      <th></th>\n",
       "      <th>date</th>\n",
       "      <th>orders</th>\n",
       "      <th>revenue</th>\n",
       "      <th>avg_ch</th>\n",
       "    </tr>\n",
       "  </thead>\n",
       "  <tbody>\n",
       "    <tr>\n",
       "      <th>0</th>\n",
       "      <td>2019-08-01</td>\n",
       "      <td>21</td>\n",
       "      <td>1620.0</td>\n",
       "      <td>77.142857</td>\n",
       "    </tr>\n",
       "    <tr>\n",
       "      <th>1</th>\n",
       "      <td>2019-08-02</td>\n",
       "      <td>24</td>\n",
       "      <td>2623.8</td>\n",
       "      <td>109.325000</td>\n",
       "    </tr>\n",
       "    <tr>\n",
       "      <th>2</th>\n",
       "      <td>2019-08-03</td>\n",
       "      <td>16</td>\n",
       "      <td>1806.8</td>\n",
       "      <td>112.925000</td>\n",
       "    </tr>\n",
       "    <tr>\n",
       "      <th>3</th>\n",
       "      <td>2019-08-04</td>\n",
       "      <td>17</td>\n",
       "      <td>1717.3</td>\n",
       "      <td>101.017647</td>\n",
       "    </tr>\n",
       "    <tr>\n",
       "      <th>4</th>\n",
       "      <td>2019-08-05</td>\n",
       "      <td>23</td>\n",
       "      <td>1495.0</td>\n",
       "      <td>65.000000</td>\n",
       "    </tr>\n",
       "  </tbody>\n",
       "</table>\n",
       "</div>"
      ],
      "text/plain": [
       "        date  orders  revenue      avg_ch\n",
       "0 2019-08-01      21   1620.0   77.142857\n",
       "1 2019-08-02      24   2623.8  109.325000\n",
       "2 2019-08-03      16   1806.8  112.925000\n",
       "3 2019-08-04      17   1717.3  101.017647\n",
       "4 2019-08-05      23   1495.0   65.000000"
      ]
     },
     "execution_count": 68,
     "metadata": {},
     "output_type": "execute_result"
    }
   ],
   "source": [
    "orders_B_revenue['avg_ch'] = orders_B_revenue['revenue']/orders_B_revenue['orders']\n",
    "orders_B_revenue.head()"
   ]
  },
  {
   "cell_type": "markdown",
   "id": "44e48f33",
   "metadata": {},
   "source": [
    "Now let's build a function to find the statistical significance."
   ]
  },
  {
   "cell_type": "code",
   "execution_count": 69,
   "id": "ec859099",
   "metadata": {},
   "outputs": [],
   "source": [
    "def testing_average(sample1,sample2,alpha=0.05):\n",
    "    #checking normality\n",
    "    sample1=sample1.dropna()\n",
    "    sample2=sample2.dropna()\n",
    "    stat1, p1_norm=stats.shapiro(sample1)\n",
    "    stat2, p2_norm=stats.shapiro(sample2)\n",
    "    if p1_norm > alpha and p2_norm>alpha:\n",
    "        #then both normal, perform t-test.\n",
    "        #for t-test also should check the equality of variances\n",
    "        statslev,p_levene=stats.levene(sample1, sample2)\n",
    "        if p_levene<alpha:\n",
    "           #variances are not equal\n",
    "            statist,p_value=stats.ttest_ind(sample1, sample2,equal_var=False)\n",
    "        else:\n",
    "            statist,p_value=stats.ttest_ind(sample1, sample2,equal_var=True) \n",
    "    else:\n",
    "        statist,p_value=stats.mannwhitneyu(sample1, sample2)\n",
    "    print(p_value)\n",
    "    if p_value<alpha:\n",
    "        print('Reject H0')\n",
    "    else:\n",
    "        print('Fail to Reject H0')"
   ]
  },
  {
   "cell_type": "code",
   "execution_count": 70,
   "id": "51b7884b",
   "metadata": {},
   "outputs": [
    {
     "name": "stdout",
     "output_type": "stream",
     "text": [
      "----Group A----\n"
     ]
    },
    {
     "data": {
      "text/plain": [
       "116.47305191426933"
      ]
     },
     "execution_count": 70,
     "metadata": {},
     "output_type": "execute_result"
    }
   ],
   "source": [
    "print('----Group A----')\n",
    "orders_A_revenue['avg_ch'].mean()"
   ]
  },
  {
   "cell_type": "code",
   "execution_count": 71,
   "id": "156d6296",
   "metadata": {},
   "outputs": [
    {
     "name": "stdout",
     "output_type": "stream",
     "text": [
      "----Group B----\n"
     ]
    },
    {
     "data": {
      "text/plain": [
       "144.2254442859877"
      ]
     },
     "execution_count": 71,
     "metadata": {},
     "output_type": "execute_result"
    }
   ],
   "source": [
    "print('----Group B----')\n",
    "orders_B_revenue['avg_ch'].mean()"
   ]
  },
  {
   "cell_type": "markdown",
   "id": "325b1528",
   "metadata": {},
   "source": [
    "Let's formulate the hypotheses.\n",
    "\n",
    "**H0:** There's not a difference in average order size between the groups.\n",
    "\n",
    "**H1:** There's a difference in average order size between the groups."
   ]
  },
  {
   "cell_type": "code",
   "execution_count": 72,
   "id": "493dc84a",
   "metadata": {},
   "outputs": [
    {
     "name": "stdout",
     "output_type": "stream",
     "text": [
      "0.4222761086468382\n",
      "Fail to Reject H0\n"
     ]
    }
   ],
   "source": [
    "testing_average(orders_A_revenue['avg_ch'],orders_B_revenue['avg_ch'],alpha=0.05)"
   ]
  },
  {
   "cell_type": "markdown",
   "id": "c92e7f9c",
   "metadata": {},
   "source": [
    "The p-value is greater than 0.05 so we can conclude that the average order size don't differs between the groups."
   ]
  },
  {
   "cell_type": "markdown",
   "id": "6674eef9",
   "metadata": {},
   "source": [
    "* **11. Find the statistical significance of the difference in conversion between the groups using the filtered data. Make conclusions and conjectures.**"
   ]
  },
  {
   "cell_type": "markdown",
   "id": "1f2800aa",
   "metadata": {},
   "source": [
    "Let's define users who made orders greater than 435.54 or more than 3 orders as anomalous users. We will filter those users and then use the clean data set to find the statistical significance."
   ]
  },
  {
   "cell_type": "markdown",
   "id": "d47aa6e6",
   "metadata": {},
   "source": [
    "**Group A**"
   ]
  },
  {
   "cell_type": "code",
   "execution_count": 73,
   "id": "41badc23",
   "metadata": {},
   "outputs": [
    {
     "data": {
      "text/html": [
       "<div>\n",
       "<style scoped>\n",
       "    .dataframe tbody tr th:only-of-type {\n",
       "        vertical-align: middle;\n",
       "    }\n",
       "\n",
       "    .dataframe tbody tr th {\n",
       "        vertical-align: top;\n",
       "    }\n",
       "\n",
       "    .dataframe thead th {\n",
       "        text-align: right;\n",
       "    }\n",
       "</style>\n",
       "<table border=\"1\" class=\"dataframe\">\n",
       "  <thead>\n",
       "    <tr style=\"text-align: right;\">\n",
       "      <th></th>\n",
       "      <th>user</th>\n",
       "      <th>orders</th>\n",
       "      <th>revenue</th>\n",
       "    </tr>\n",
       "  </thead>\n",
       "  <tbody>\n",
       "    <tr>\n",
       "      <th>0</th>\n",
       "      <td>8300375</td>\n",
       "      <td>1</td>\n",
       "      <td>30.5</td>\n",
       "    </tr>\n",
       "    <tr>\n",
       "      <th>1</th>\n",
       "      <td>11685486</td>\n",
       "      <td>1</td>\n",
       "      <td>100.4</td>\n",
       "    </tr>\n",
       "    <tr>\n",
       "      <th>2</th>\n",
       "      <td>54447517</td>\n",
       "      <td>1</td>\n",
       "      <td>5.0</td>\n",
       "    </tr>\n",
       "    <tr>\n",
       "      <th>3</th>\n",
       "      <td>66685450</td>\n",
       "      <td>1</td>\n",
       "      <td>125.9</td>\n",
       "    </tr>\n",
       "    <tr>\n",
       "      <th>4</th>\n",
       "      <td>78758296</td>\n",
       "      <td>1</td>\n",
       "      <td>20.1</td>\n",
       "    </tr>\n",
       "  </tbody>\n",
       "</table>\n",
       "</div>"
      ],
      "text/plain": [
       "       user  orders  revenue\n",
       "0   8300375       1     30.5\n",
       "1  11685486       1    100.4\n",
       "2  54447517       1      5.0\n",
       "3  66685450       1    125.9\n",
       "4  78758296       1     20.1"
      ]
     },
     "execution_count": 73,
     "metadata": {},
     "output_type": "execute_result"
    }
   ],
   "source": [
    "orders_A_user_price = orders_A.groupby('visitorId').agg({'transactionId':'count', 'revenue':'sum'}).reset_index()\n",
    "orders_A_user_price.columns = ['user', 'orders', 'revenue']\n",
    "orders_A_user_price.head()"
   ]
  },
  {
   "cell_type": "code",
   "execution_count": 74,
   "id": "f9267f78",
   "metadata": {},
   "outputs": [
    {
     "data": {
      "text/html": [
       "<div>\n",
       "<style scoped>\n",
       "    .dataframe tbody tr th:only-of-type {\n",
       "        vertical-align: middle;\n",
       "    }\n",
       "\n",
       "    .dataframe tbody tr th {\n",
       "        vertical-align: top;\n",
       "    }\n",
       "\n",
       "    .dataframe thead th {\n",
       "        text-align: right;\n",
       "    }\n",
       "</style>\n",
       "<table border=\"1\" class=\"dataframe\">\n",
       "  <thead>\n",
       "    <tr style=\"text-align: right;\">\n",
       "      <th></th>\n",
       "      <th>user</th>\n",
       "      <th>orders</th>\n",
       "      <th>revenue</th>\n",
       "    </tr>\n",
       "  </thead>\n",
       "  <tbody>\n",
       "    <tr>\n",
       "      <th>0</th>\n",
       "      <td>8300375</td>\n",
       "      <td>1</td>\n",
       "      <td>30.5</td>\n",
       "    </tr>\n",
       "    <tr>\n",
       "      <th>1</th>\n",
       "      <td>11685486</td>\n",
       "      <td>1</td>\n",
       "      <td>100.4</td>\n",
       "    </tr>\n",
       "    <tr>\n",
       "      <th>2</th>\n",
       "      <td>54447517</td>\n",
       "      <td>1</td>\n",
       "      <td>5.0</td>\n",
       "    </tr>\n",
       "    <tr>\n",
       "      <th>3</th>\n",
       "      <td>66685450</td>\n",
       "      <td>1</td>\n",
       "      <td>125.9</td>\n",
       "    </tr>\n",
       "    <tr>\n",
       "      <th>4</th>\n",
       "      <td>78758296</td>\n",
       "      <td>1</td>\n",
       "      <td>20.1</td>\n",
       "    </tr>\n",
       "  </tbody>\n",
       "</table>\n",
       "</div>"
      ],
      "text/plain": [
       "       user  orders  revenue\n",
       "0   8300375       1     30.5\n",
       "1  11685486       1    100.4\n",
       "2  54447517       1      5.0\n",
       "3  66685450       1    125.9\n",
       "4  78758296       1     20.1"
      ]
     },
     "execution_count": 74,
     "metadata": {},
     "output_type": "execute_result"
    }
   ],
   "source": [
    "orders_A_user_price_clean = orders_A_user_price.query('orders <=3')\n",
    "orders_A_user_price_clean = orders_A_user_price_clean.query('revenue <=435.54')\n",
    "orders_A_user_price_clean.head()"
   ]
  },
  {
   "cell_type": "code",
   "execution_count": 75,
   "id": "c75f9d88",
   "metadata": {},
   "outputs": [
    {
     "data": {
      "text/html": [
       "<div>\n",
       "<style scoped>\n",
       "    .dataframe tbody tr th:only-of-type {\n",
       "        vertical-align: middle;\n",
       "    }\n",
       "\n",
       "    .dataframe tbody tr th {\n",
       "        vertical-align: top;\n",
       "    }\n",
       "\n",
       "    .dataframe thead th {\n",
       "        text-align: right;\n",
       "    }\n",
       "</style>\n",
       "<table border=\"1\" class=\"dataframe\">\n",
       "  <thead>\n",
       "    <tr style=\"text-align: right;\">\n",
       "      <th></th>\n",
       "      <th>user</th>\n",
       "      <th>orders</th>\n",
       "      <th>revenue</th>\n",
       "    </tr>\n",
       "  </thead>\n",
       "  <tbody>\n",
       "    <tr>\n",
       "      <th>342</th>\n",
       "      <td>2927087541</td>\n",
       "      <td>1</td>\n",
       "      <td>425.8</td>\n",
       "    </tr>\n",
       "    <tr>\n",
       "      <th>207</th>\n",
       "      <td>1831140265</td>\n",
       "      <td>1</td>\n",
       "      <td>410.5</td>\n",
       "    </tr>\n",
       "  </tbody>\n",
       "</table>\n",
       "</div>"
      ],
      "text/plain": [
       "           user  orders  revenue\n",
       "342  2927087541       1    425.8\n",
       "207  1831140265       1    410.5"
      ]
     },
     "execution_count": 75,
     "metadata": {},
     "output_type": "execute_result"
    }
   ],
   "source": [
    "orders_A_user_price_clean.sort_values(by='revenue', ascending = False).head(2)"
   ]
  },
  {
   "cell_type": "code",
   "execution_count": 76,
   "id": "6964ae74",
   "metadata": {},
   "outputs": [
    {
     "data": {
      "text/html": [
       "<div>\n",
       "<style scoped>\n",
       "    .dataframe tbody tr th:only-of-type {\n",
       "        vertical-align: middle;\n",
       "    }\n",
       "\n",
       "    .dataframe tbody tr th {\n",
       "        vertical-align: top;\n",
       "    }\n",
       "\n",
       "    .dataframe thead th {\n",
       "        text-align: right;\n",
       "    }\n",
       "</style>\n",
       "<table border=\"1\" class=\"dataframe\">\n",
       "  <thead>\n",
       "    <tr style=\"text-align: right;\">\n",
       "      <th></th>\n",
       "      <th>user</th>\n",
       "      <th>orders</th>\n",
       "      <th>revenue</th>\n",
       "    </tr>\n",
       "  </thead>\n",
       "  <tbody>\n",
       "    <tr>\n",
       "      <th>456</th>\n",
       "      <td>3908431265</td>\n",
       "      <td>3</td>\n",
       "      <td>71.4</td>\n",
       "    </tr>\n",
       "    <tr>\n",
       "      <th>146</th>\n",
       "      <td>1230306981</td>\n",
       "      <td>3</td>\n",
       "      <td>295.7</td>\n",
       "    </tr>\n",
       "  </tbody>\n",
       "</table>\n",
       "</div>"
      ],
      "text/plain": [
       "           user  orders  revenue\n",
       "456  3908431265       3     71.4\n",
       "146  1230306981       3    295.7"
      ]
     },
     "execution_count": 76,
     "metadata": {},
     "output_type": "execute_result"
    }
   ],
   "source": [
    "orders_A_user_price_clean.sort_values(by='orders', ascending = False).head(2)"
   ]
  },
  {
   "cell_type": "markdown",
   "id": "cfd4903c",
   "metadata": {},
   "source": [
    "Great!"
   ]
  },
  {
   "cell_type": "code",
   "execution_count": 77,
   "id": "87bafadd",
   "metadata": {},
   "outputs": [],
   "source": [
    "good_users_A = orders_A_user_price_clean['user']"
   ]
  },
  {
   "cell_type": "code",
   "execution_count": 78,
   "id": "d181e9bf",
   "metadata": {},
   "outputs": [
    {
     "data": {
      "text/html": [
       "<div>\n",
       "<style scoped>\n",
       "    .dataframe tbody tr th:only-of-type {\n",
       "        vertical-align: middle;\n",
       "    }\n",
       "\n",
       "    .dataframe tbody tr th {\n",
       "        vertical-align: top;\n",
       "    }\n",
       "\n",
       "    .dataframe thead th {\n",
       "        text-align: right;\n",
       "    }\n",
       "</style>\n",
       "<table border=\"1\" class=\"dataframe\">\n",
       "  <thead>\n",
       "    <tr style=\"text-align: right;\">\n",
       "      <th></th>\n",
       "      <th>transactionId</th>\n",
       "      <th>visitorId</th>\n",
       "      <th>date</th>\n",
       "      <th>revenue</th>\n",
       "      <th>group</th>\n",
       "    </tr>\n",
       "  </thead>\n",
       "  <tbody>\n",
       "    <tr>\n",
       "      <th>2</th>\n",
       "      <td>2961555356</td>\n",
       "      <td>4069496402</td>\n",
       "      <td>2019-08-15</td>\n",
       "      <td>10.2</td>\n",
       "      <td>A</td>\n",
       "    </tr>\n",
       "    <tr>\n",
       "      <th>7</th>\n",
       "      <td>2626614568</td>\n",
       "      <td>78758296</td>\n",
       "      <td>2019-08-15</td>\n",
       "      <td>20.1</td>\n",
       "      <td>A</td>\n",
       "    </tr>\n",
       "    <tr>\n",
       "      <th>8</th>\n",
       "      <td>1576988021</td>\n",
       "      <td>295230930</td>\n",
       "      <td>2019-08-15</td>\n",
       "      <td>215.9</td>\n",
       "      <td>A</td>\n",
       "    </tr>\n",
       "    <tr>\n",
       "      <th>10</th>\n",
       "      <td>3649131742</td>\n",
       "      <td>879864040</td>\n",
       "      <td>2019-08-15</td>\n",
       "      <td>65.7</td>\n",
       "      <td>A</td>\n",
       "    </tr>\n",
       "    <tr>\n",
       "      <th>12</th>\n",
       "      <td>2809384911</td>\n",
       "      <td>3213223594</td>\n",
       "      <td>2019-08-15</td>\n",
       "      <td>115.4</td>\n",
       "      <td>A</td>\n",
       "    </tr>\n",
       "  </tbody>\n",
       "</table>\n",
       "</div>"
      ],
      "text/plain": [
       "    transactionId   visitorId       date  revenue group\n",
       "2      2961555356  4069496402 2019-08-15     10.2     A\n",
       "7      2626614568    78758296 2019-08-15     20.1     A\n",
       "8      1576988021   295230930 2019-08-15    215.9     A\n",
       "10     3649131742   879864040 2019-08-15     65.7     A\n",
       "12     2809384911  3213223594 2019-08-15    115.4     A"
      ]
     },
     "execution_count": 78,
     "metadata": {},
     "output_type": "execute_result"
    }
   ],
   "source": [
    "orders_A_clean = orders_A[orders_A['visitorId'].isin(good_users_A)]\n",
    "orders_A_clean.head()"
   ]
  },
  {
   "cell_type": "markdown",
   "id": "930596cf",
   "metadata": {},
   "source": [
    "**Group B**"
   ]
  },
  {
   "cell_type": "code",
   "execution_count": 79,
   "id": "2b93d1e1",
   "metadata": {},
   "outputs": [
    {
     "data": {
      "text/html": [
       "<div>\n",
       "<style scoped>\n",
       "    .dataframe tbody tr th:only-of-type {\n",
       "        vertical-align: middle;\n",
       "    }\n",
       "\n",
       "    .dataframe tbody tr th {\n",
       "        vertical-align: top;\n",
       "    }\n",
       "\n",
       "    .dataframe thead th {\n",
       "        text-align: right;\n",
       "    }\n",
       "</style>\n",
       "<table border=\"1\" class=\"dataframe\">\n",
       "  <thead>\n",
       "    <tr style=\"text-align: right;\">\n",
       "      <th></th>\n",
       "      <th>user</th>\n",
       "      <th>orders</th>\n",
       "      <th>revenue</th>\n",
       "    </tr>\n",
       "  </thead>\n",
       "  <tbody>\n",
       "    <tr>\n",
       "      <th>0</th>\n",
       "      <td>5114589</td>\n",
       "      <td>1</td>\n",
       "      <td>10.8</td>\n",
       "    </tr>\n",
       "    <tr>\n",
       "      <th>1</th>\n",
       "      <td>6958315</td>\n",
       "      <td>1</td>\n",
       "      <td>25.9</td>\n",
       "    </tr>\n",
       "    <tr>\n",
       "      <th>2</th>\n",
       "      <td>8300375</td>\n",
       "      <td>1</td>\n",
       "      <td>165.7</td>\n",
       "    </tr>\n",
       "    <tr>\n",
       "      <th>3</th>\n",
       "      <td>39475350</td>\n",
       "      <td>1</td>\n",
       "      <td>65.4</td>\n",
       "    </tr>\n",
       "    <tr>\n",
       "      <th>4</th>\n",
       "      <td>47206413</td>\n",
       "      <td>1</td>\n",
       "      <td>15.2</td>\n",
       "    </tr>\n",
       "  </tbody>\n",
       "</table>\n",
       "</div>"
      ],
      "text/plain": [
       "       user  orders  revenue\n",
       "0   5114589       1     10.8\n",
       "1   6958315       1     25.9\n",
       "2   8300375       1    165.7\n",
       "3  39475350       1     65.4\n",
       "4  47206413       1     15.2"
      ]
     },
     "execution_count": 79,
     "metadata": {},
     "output_type": "execute_result"
    }
   ],
   "source": [
    "orders_B_user_price = orders_B.groupby('visitorId').agg({'transactionId':'count', 'revenue':'sum'}).reset_index()\n",
    "orders_B_user_price.columns = ['user', 'orders', 'revenue']\n",
    "orders_B_user_price.head()"
   ]
  },
  {
   "cell_type": "code",
   "execution_count": 80,
   "id": "b1b054c0",
   "metadata": {},
   "outputs": [
    {
     "data": {
      "text/html": [
       "<div>\n",
       "<style scoped>\n",
       "    .dataframe tbody tr th:only-of-type {\n",
       "        vertical-align: middle;\n",
       "    }\n",
       "\n",
       "    .dataframe tbody tr th {\n",
       "        vertical-align: top;\n",
       "    }\n",
       "\n",
       "    .dataframe thead th {\n",
       "        text-align: right;\n",
       "    }\n",
       "</style>\n",
       "<table border=\"1\" class=\"dataframe\">\n",
       "  <thead>\n",
       "    <tr style=\"text-align: right;\">\n",
       "      <th></th>\n",
       "      <th>user</th>\n",
       "      <th>orders</th>\n",
       "      <th>revenue</th>\n",
       "    </tr>\n",
       "  </thead>\n",
       "  <tbody>\n",
       "    <tr>\n",
       "      <th>0</th>\n",
       "      <td>5114589</td>\n",
       "      <td>1</td>\n",
       "      <td>10.8</td>\n",
       "    </tr>\n",
       "    <tr>\n",
       "      <th>1</th>\n",
       "      <td>6958315</td>\n",
       "      <td>1</td>\n",
       "      <td>25.9</td>\n",
       "    </tr>\n",
       "    <tr>\n",
       "      <th>2</th>\n",
       "      <td>8300375</td>\n",
       "      <td>1</td>\n",
       "      <td>165.7</td>\n",
       "    </tr>\n",
       "    <tr>\n",
       "      <th>3</th>\n",
       "      <td>39475350</td>\n",
       "      <td>1</td>\n",
       "      <td>65.4</td>\n",
       "    </tr>\n",
       "    <tr>\n",
       "      <th>4</th>\n",
       "      <td>47206413</td>\n",
       "      <td>1</td>\n",
       "      <td>15.2</td>\n",
       "    </tr>\n",
       "  </tbody>\n",
       "</table>\n",
       "</div>"
      ],
      "text/plain": [
       "       user  orders  revenue\n",
       "0   5114589       1     10.8\n",
       "1   6958315       1     25.9\n",
       "2   8300375       1    165.7\n",
       "3  39475350       1     65.4\n",
       "4  47206413       1     15.2"
      ]
     },
     "execution_count": 80,
     "metadata": {},
     "output_type": "execute_result"
    }
   ],
   "source": [
    "orders_B_user_price_clean = orders_B_user_price.query('orders <=3')\n",
    "orders_B_user_price_clean = orders_B_user_price_clean.query('revenue <=435.54')\n",
    "orders_B_user_price_clean.head()"
   ]
  },
  {
   "cell_type": "code",
   "execution_count": 81,
   "id": "6ee064ca",
   "metadata": {},
   "outputs": [
    {
     "data": {
      "text/html": [
       "<div>\n",
       "<style scoped>\n",
       "    .dataframe tbody tr th:only-of-type {\n",
       "        vertical-align: middle;\n",
       "    }\n",
       "\n",
       "    .dataframe tbody tr th {\n",
       "        vertical-align: top;\n",
       "    }\n",
       "\n",
       "    .dataframe thead th {\n",
       "        text-align: right;\n",
       "    }\n",
       "</style>\n",
       "<table border=\"1\" class=\"dataframe\">\n",
       "  <thead>\n",
       "    <tr style=\"text-align: right;\">\n",
       "      <th></th>\n",
       "      <th>user</th>\n",
       "      <th>orders</th>\n",
       "      <th>revenue</th>\n",
       "    </tr>\n",
       "  </thead>\n",
       "  <tbody>\n",
       "    <tr>\n",
       "      <th>218</th>\n",
       "      <td>1605520752</td>\n",
       "      <td>1</td>\n",
       "      <td>435.5</td>\n",
       "    </tr>\n",
       "    <tr>\n",
       "      <th>192</th>\n",
       "      <td>1404560065</td>\n",
       "      <td>2</td>\n",
       "      <td>431.5</td>\n",
       "    </tr>\n",
       "  </tbody>\n",
       "</table>\n",
       "</div>"
      ],
      "text/plain": [
       "           user  orders  revenue\n",
       "218  1605520752       1    435.5\n",
       "192  1404560065       2    431.5"
      ]
     },
     "execution_count": 81,
     "metadata": {},
     "output_type": "execute_result"
    }
   ],
   "source": [
    "orders_B_user_price_clean.sort_values(by='revenue', ascending = False).head(2)"
   ]
  },
  {
   "cell_type": "code",
   "execution_count": 82,
   "id": "2c414b7a",
   "metadata": {},
   "outputs": [
    {
     "data": {
      "text/html": [
       "<div>\n",
       "<style scoped>\n",
       "    .dataframe tbody tr th:only-of-type {\n",
       "        vertical-align: middle;\n",
       "    }\n",
       "\n",
       "    .dataframe tbody tr th {\n",
       "        vertical-align: top;\n",
       "    }\n",
       "\n",
       "    .dataframe thead th {\n",
       "        text-align: right;\n",
       "    }\n",
       "</style>\n",
       "<table border=\"1\" class=\"dataframe\">\n",
       "  <thead>\n",
       "    <tr style=\"text-align: right;\">\n",
       "      <th></th>\n",
       "      <th>user</th>\n",
       "      <th>orders</th>\n",
       "      <th>revenue</th>\n",
       "    </tr>\n",
       "  </thead>\n",
       "  <tbody>\n",
       "    <tr>\n",
       "      <th>456</th>\n",
       "      <td>3908431265</td>\n",
       "      <td>3</td>\n",
       "      <td>71.4</td>\n",
       "    </tr>\n",
       "    <tr>\n",
       "      <th>146</th>\n",
       "      <td>1230306981</td>\n",
       "      <td>3</td>\n",
       "      <td>295.7</td>\n",
       "    </tr>\n",
       "  </tbody>\n",
       "</table>\n",
       "</div>"
      ],
      "text/plain": [
       "           user  orders  revenue\n",
       "456  3908431265       3     71.4\n",
       "146  1230306981       3    295.7"
      ]
     },
     "execution_count": 82,
     "metadata": {},
     "output_type": "execute_result"
    }
   ],
   "source": [
    "orders_A_user_price_clean.sort_values(by='orders', ascending = False).head(2)"
   ]
  },
  {
   "cell_type": "markdown",
   "id": "8103d2a3",
   "metadata": {},
   "source": [
    "Nice!"
   ]
  },
  {
   "cell_type": "code",
   "execution_count": 83,
   "id": "954e6f58",
   "metadata": {},
   "outputs": [],
   "source": [
    "good_users_B = orders_B_user_price_clean['user']"
   ]
  },
  {
   "cell_type": "code",
   "execution_count": 84,
   "id": "130d35d6",
   "metadata": {},
   "outputs": [
    {
     "data": {
      "text/html": [
       "<div>\n",
       "<style scoped>\n",
       "    .dataframe tbody tr th:only-of-type {\n",
       "        vertical-align: middle;\n",
       "    }\n",
       "\n",
       "    .dataframe tbody tr th {\n",
       "        vertical-align: top;\n",
       "    }\n",
       "\n",
       "    .dataframe thead th {\n",
       "        text-align: right;\n",
       "    }\n",
       "</style>\n",
       "<table border=\"1\" class=\"dataframe\">\n",
       "  <thead>\n",
       "    <tr style=\"text-align: right;\">\n",
       "      <th></th>\n",
       "      <th>transactionId</th>\n",
       "      <th>visitorId</th>\n",
       "      <th>date</th>\n",
       "      <th>revenue</th>\n",
       "      <th>group</th>\n",
       "    </tr>\n",
       "  </thead>\n",
       "  <tbody>\n",
       "    <tr>\n",
       "      <th>0</th>\n",
       "      <td>3667963787</td>\n",
       "      <td>3312258926</td>\n",
       "      <td>2019-08-15</td>\n",
       "      <td>30.4</td>\n",
       "      <td>B</td>\n",
       "    </tr>\n",
       "    <tr>\n",
       "      <th>1</th>\n",
       "      <td>2804400009</td>\n",
       "      <td>3642806036</td>\n",
       "      <td>2019-08-15</td>\n",
       "      <td>15.2</td>\n",
       "      <td>B</td>\n",
       "    </tr>\n",
       "    <tr>\n",
       "      <th>3</th>\n",
       "      <td>3797467345</td>\n",
       "      <td>1196621759</td>\n",
       "      <td>2019-08-15</td>\n",
       "      <td>155.1</td>\n",
       "      <td>B</td>\n",
       "    </tr>\n",
       "    <tr>\n",
       "      <th>4</th>\n",
       "      <td>2282983706</td>\n",
       "      <td>2322279887</td>\n",
       "      <td>2019-08-15</td>\n",
       "      <td>40.5</td>\n",
       "      <td>B</td>\n",
       "    </tr>\n",
       "    <tr>\n",
       "      <th>5</th>\n",
       "      <td>182168103</td>\n",
       "      <td>935554773</td>\n",
       "      <td>2019-08-15</td>\n",
       "      <td>35.0</td>\n",
       "      <td>B</td>\n",
       "    </tr>\n",
       "  </tbody>\n",
       "</table>\n",
       "</div>"
      ],
      "text/plain": [
       "   transactionId   visitorId       date  revenue group\n",
       "0     3667963787  3312258926 2019-08-15     30.4     B\n",
       "1     2804400009  3642806036 2019-08-15     15.2     B\n",
       "3     3797467345  1196621759 2019-08-15    155.1     B\n",
       "4     2282983706  2322279887 2019-08-15     40.5     B\n",
       "5      182168103   935554773 2019-08-15     35.0     B"
      ]
     },
     "execution_count": 84,
     "metadata": {},
     "output_type": "execute_result"
    }
   ],
   "source": [
    "orders_B_clean = orders_B[orders_B['visitorId'].isin(good_users_B)]\n",
    "orders_B_clean.head()"
   ]
  },
  {
   "cell_type": "markdown",
   "id": "bf48cdd1",
   "metadata": {},
   "source": [
    "Now, let's start with the calculation.\n",
    "\n",
    "We can't clean the visits table, so we will leave it as is and use the new clean data sets and the original visits table for this calculation."
   ]
  },
  {
   "cell_type": "code",
   "execution_count": 85,
   "id": "eda8a188",
   "metadata": {},
   "outputs": [
    {
     "data": {
      "text/html": [
       "<div>\n",
       "<style scoped>\n",
       "    .dataframe tbody tr th:only-of-type {\n",
       "        vertical-align: middle;\n",
       "    }\n",
       "\n",
       "    .dataframe tbody tr th {\n",
       "        vertical-align: top;\n",
       "    }\n",
       "\n",
       "    .dataframe thead th {\n",
       "        text-align: right;\n",
       "    }\n",
       "</style>\n",
       "<table border=\"1\" class=\"dataframe\">\n",
       "  <thead>\n",
       "    <tr style=\"text-align: right;\">\n",
       "      <th></th>\n",
       "      <th>date</th>\n",
       "      <th>buyers</th>\n",
       "    </tr>\n",
       "  </thead>\n",
       "  <tbody>\n",
       "    <tr>\n",
       "      <th>0</th>\n",
       "      <td>2019-08-01</td>\n",
       "      <td>16</td>\n",
       "    </tr>\n",
       "    <tr>\n",
       "      <th>1</th>\n",
       "      <td>2019-08-02</td>\n",
       "      <td>17</td>\n",
       "    </tr>\n",
       "    <tr>\n",
       "      <th>2</th>\n",
       "      <td>2019-08-03</td>\n",
       "      <td>24</td>\n",
       "    </tr>\n",
       "    <tr>\n",
       "      <th>3</th>\n",
       "      <td>2019-08-04</td>\n",
       "      <td>12</td>\n",
       "    </tr>\n",
       "    <tr>\n",
       "      <th>4</th>\n",
       "      <td>2019-08-05</td>\n",
       "      <td>24</td>\n",
       "    </tr>\n",
       "  </tbody>\n",
       "</table>\n",
       "</div>"
      ],
      "text/plain": [
       "        date  buyers\n",
       "0 2019-08-01      16\n",
       "1 2019-08-02      17\n",
       "2 2019-08-03      24\n",
       "3 2019-08-04      12\n",
       "4 2019-08-05      24"
      ]
     },
     "execution_count": 85,
     "metadata": {},
     "output_type": "execute_result"
    }
   ],
   "source": [
    "orders_buyers_A_clean = orders_A_clean.groupby('date')['visitorId'].nunique().reset_index()\n",
    "orders_buyers_A_clean.columns = ['date', 'buyers']\n",
    "orders_buyers_A_clean.head()"
   ]
  },
  {
   "cell_type": "code",
   "execution_count": 86,
   "id": "0ce2193b",
   "metadata": {},
   "outputs": [
    {
     "data": {
      "text/html": [
       "<div>\n",
       "<style scoped>\n",
       "    .dataframe tbody tr th:only-of-type {\n",
       "        vertical-align: middle;\n",
       "    }\n",
       "\n",
       "    .dataframe tbody tr th {\n",
       "        vertical-align: top;\n",
       "    }\n",
       "\n",
       "    .dataframe thead th {\n",
       "        text-align: right;\n",
       "    }\n",
       "</style>\n",
       "<table border=\"1\" class=\"dataframe\">\n",
       "  <thead>\n",
       "    <tr style=\"text-align: right;\">\n",
       "      <th></th>\n",
       "      <th>date</th>\n",
       "      <th>buyers</th>\n",
       "    </tr>\n",
       "  </thead>\n",
       "  <tbody>\n",
       "    <tr>\n",
       "      <th>0</th>\n",
       "      <td>2019-08-01</td>\n",
       "      <td>19</td>\n",
       "    </tr>\n",
       "    <tr>\n",
       "      <th>1</th>\n",
       "      <td>2019-08-02</td>\n",
       "      <td>21</td>\n",
       "    </tr>\n",
       "    <tr>\n",
       "      <th>2</th>\n",
       "      <td>2019-08-03</td>\n",
       "      <td>15</td>\n",
       "    </tr>\n",
       "    <tr>\n",
       "      <th>3</th>\n",
       "      <td>2019-08-04</td>\n",
       "      <td>15</td>\n",
       "    </tr>\n",
       "    <tr>\n",
       "      <th>4</th>\n",
       "      <td>2019-08-05</td>\n",
       "      <td>21</td>\n",
       "    </tr>\n",
       "  </tbody>\n",
       "</table>\n",
       "</div>"
      ],
      "text/plain": [
       "        date  buyers\n",
       "0 2019-08-01      19\n",
       "1 2019-08-02      21\n",
       "2 2019-08-03      15\n",
       "3 2019-08-04      15\n",
       "4 2019-08-05      21"
      ]
     },
     "execution_count": 86,
     "metadata": {},
     "output_type": "execute_result"
    }
   ],
   "source": [
    "orders_buyers_B_clean = orders_B_clean.groupby('date')['visitorId'].nunique().reset_index()\n",
    "orders_buyers_B_clean.columns = ['date', 'buyers']\n",
    "orders_buyers_B_clean.head()"
   ]
  },
  {
   "cell_type": "markdown",
   "id": "ed059e10",
   "metadata": {},
   "source": [
    "Let's see how many trials and successes each group obtains with the clean data."
   ]
  },
  {
   "cell_type": "code",
   "execution_count": 87,
   "id": "ea9094c9",
   "metadata": {},
   "outputs": [
    {
     "name": "stdout",
     "output_type": "stream",
     "text": [
      "-----Group A-----\n",
      "Trials: 18736\n",
      "Successes_clean: 479\n"
     ]
    }
   ],
   "source": [
    "A_trials = visits_A['visits'].sum()\n",
    "print('-----Group A-----')\n",
    "print(\"Trials:\",A_trials)\n",
    "A_successes_clean = orders_buyers_A_clean['buyers'].sum()\n",
    "print(\"Successes_clean:\",A_successes_clean)"
   ]
  },
  {
   "cell_type": "code",
   "execution_count": 88,
   "id": "5480a6bf",
   "metadata": {},
   "outputs": [
    {
     "name": "stdout",
     "output_type": "stream",
     "text": [
      "-----Group B-----\n",
      "Trials: 18736\n",
      "Successes_clean: 568\n"
     ]
    }
   ],
   "source": [
    "B_trials = visits_A['visits'].sum()\n",
    "print('-----Group B-----')\n",
    "print(\"Trials:\",B_trials)\n",
    "B_successes_clean = orders_buyers_B_clean['buyers'].sum()\n",
    "print(\"Successes_clean:\",B_successes_clean)"
   ]
  },
  {
   "cell_type": "markdown",
   "id": "62488636",
   "metadata": {},
   "source": [
    "First, let's formulate the hypotheses.\n",
    "\n",
    "**H0:** There's not a statistically significant difference in conversion between the groups.\n",
    "\n",
    "**H1:** There's a statistically significant difference in conversion between the groups."
   ]
  },
  {
   "cell_type": "markdown",
   "id": "b08f56a9",
   "metadata": {},
   "source": [
    "Now we will use the function that we built earlier for the raw data."
   ]
  },
  {
   "cell_type": "code",
   "execution_count": 89,
   "id": "d6338873",
   "metadata": {},
   "outputs": [
    {
     "name": "stdout",
     "output_type": "stream",
     "text": [
      "p-value:  0.005274348494124892\n"
     ]
    }
   ],
   "source": [
    "check_hypothesis(A_successes_clean,A_trials, B_successes_clean,B_trials, alpha=0.05)"
   ]
  },
  {
   "cell_type": "markdown",
   "id": "32734989",
   "metadata": {},
   "source": [
    "Here also we got a p-value that is smaller than 0.05,  so we reject the null hypothesis and say that there is a statistically significant difference in conversion between the groups. After cleaning the data the p-value got much smaller than it was in the raw data, so the statistically significant difference in conversion between the groups is much clearer in the clean data."
   ]
  },
  {
   "cell_type": "markdown",
   "id": "817bdaee",
   "metadata": {},
   "source": [
    "* **12. Find the statistical significance of the difference in average order size\n",
    "between the groups using the filtered data. Make conclusions and conjectures.**\n"
   ]
  },
  {
   "cell_type": "markdown",
   "id": "d1cf0ecc",
   "metadata": {},
   "source": [
    "We will use the clean data sets that we created in the previous question to answer this one. \n",
    "\n",
    "First, let's create the right data set."
   ]
  },
  {
   "cell_type": "code",
   "execution_count": 90,
   "id": "601adf2c",
   "metadata": {},
   "outputs": [
    {
     "data": {
      "text/html": [
       "<div>\n",
       "<style scoped>\n",
       "    .dataframe tbody tr th:only-of-type {\n",
       "        vertical-align: middle;\n",
       "    }\n",
       "\n",
       "    .dataframe tbody tr th {\n",
       "        vertical-align: top;\n",
       "    }\n",
       "\n",
       "    .dataframe thead th {\n",
       "        text-align: right;\n",
       "    }\n",
       "</style>\n",
       "<table border=\"1\" class=\"dataframe\">\n",
       "  <thead>\n",
       "    <tr style=\"text-align: right;\">\n",
       "      <th></th>\n",
       "      <th>date</th>\n",
       "      <th>orders</th>\n",
       "      <th>revenue</th>\n",
       "    </tr>\n",
       "  </thead>\n",
       "  <tbody>\n",
       "    <tr>\n",
       "      <th>0</th>\n",
       "      <td>2019-08-01</td>\n",
       "      <td>18</td>\n",
       "      <td>909.0</td>\n",
       "    </tr>\n",
       "    <tr>\n",
       "      <th>1</th>\n",
       "      <td>2019-08-02</td>\n",
       "      <td>17</td>\n",
       "      <td>827.4</td>\n",
       "    </tr>\n",
       "    <tr>\n",
       "      <th>2</th>\n",
       "      <td>2019-08-03</td>\n",
       "      <td>24</td>\n",
       "      <td>1815.2</td>\n",
       "    </tr>\n",
       "    <tr>\n",
       "      <th>3</th>\n",
       "      <td>2019-08-04</td>\n",
       "      <td>12</td>\n",
       "      <td>755.7</td>\n",
       "    </tr>\n",
       "    <tr>\n",
       "      <th>4</th>\n",
       "      <td>2019-08-05</td>\n",
       "      <td>24</td>\n",
       "      <td>1763.1</td>\n",
       "    </tr>\n",
       "  </tbody>\n",
       "</table>\n",
       "</div>"
      ],
      "text/plain": [
       "        date  orders  revenue\n",
       "0 2019-08-01      18    909.0\n",
       "1 2019-08-02      17    827.4\n",
       "2 2019-08-03      24   1815.2\n",
       "3 2019-08-04      12    755.7\n",
       "4 2019-08-05      24   1763.1"
      ]
     },
     "execution_count": 90,
     "metadata": {},
     "output_type": "execute_result"
    }
   ],
   "source": [
    "orders_A_revenue_clean = orders_A_clean.groupby('date').agg({'transactionId':'count', 'revenue':'sum'}).reset_index()\n",
    "orders_A_revenue_clean.columns = ['date', 'orders', 'revenue']\n",
    "orders_A_revenue_clean.head()"
   ]
  },
  {
   "cell_type": "code",
   "execution_count": 91,
   "id": "9022cd24",
   "metadata": {},
   "outputs": [
    {
     "data": {
      "text/html": [
       "<div>\n",
       "<style scoped>\n",
       "    .dataframe tbody tr th:only-of-type {\n",
       "        vertical-align: middle;\n",
       "    }\n",
       "\n",
       "    .dataframe tbody tr th {\n",
       "        vertical-align: top;\n",
       "    }\n",
       "\n",
       "    .dataframe thead th {\n",
       "        text-align: right;\n",
       "    }\n",
       "</style>\n",
       "<table border=\"1\" class=\"dataframe\">\n",
       "  <thead>\n",
       "    <tr style=\"text-align: right;\">\n",
       "      <th></th>\n",
       "      <th>date</th>\n",
       "      <th>orders</th>\n",
       "      <th>revenue</th>\n",
       "    </tr>\n",
       "  </thead>\n",
       "  <tbody>\n",
       "    <tr>\n",
       "      <th>0</th>\n",
       "      <td>2019-08-01</td>\n",
       "      <td>19</td>\n",
       "      <td>1258.8</td>\n",
       "    </tr>\n",
       "    <tr>\n",
       "      <th>1</th>\n",
       "      <td>2019-08-02</td>\n",
       "      <td>22</td>\n",
       "      <td>1558.2</td>\n",
       "    </tr>\n",
       "    <tr>\n",
       "      <th>2</th>\n",
       "      <td>2019-08-03</td>\n",
       "      <td>15</td>\n",
       "      <td>1386.7</td>\n",
       "    </tr>\n",
       "    <tr>\n",
       "      <th>3</th>\n",
       "      <td>2019-08-04</td>\n",
       "      <td>16</td>\n",
       "      <td>1232.0</td>\n",
       "    </tr>\n",
       "    <tr>\n",
       "      <th>4</th>\n",
       "      <td>2019-08-05</td>\n",
       "      <td>21</td>\n",
       "      <td>1014.6</td>\n",
       "    </tr>\n",
       "  </tbody>\n",
       "</table>\n",
       "</div>"
      ],
      "text/plain": [
       "        date  orders  revenue\n",
       "0 2019-08-01      19   1258.8\n",
       "1 2019-08-02      22   1558.2\n",
       "2 2019-08-03      15   1386.7\n",
       "3 2019-08-04      16   1232.0\n",
       "4 2019-08-05      21   1014.6"
      ]
     },
     "execution_count": 91,
     "metadata": {},
     "output_type": "execute_result"
    }
   ],
   "source": [
    "orders_B_revenue_clean = orders_B_clean.groupby('date').agg({'transactionId':'count', 'revenue':'sum'}).reset_index()\n",
    "orders_B_revenue_clean.columns = ['date', 'orders', 'revenue']\n",
    "orders_B_revenue_clean.head()"
   ]
  },
  {
   "cell_type": "code",
   "execution_count": 92,
   "id": "6285eb5d",
   "metadata": {},
   "outputs": [
    {
     "data": {
      "text/html": [
       "<div>\n",
       "<style scoped>\n",
       "    .dataframe tbody tr th:only-of-type {\n",
       "        vertical-align: middle;\n",
       "    }\n",
       "\n",
       "    .dataframe tbody tr th {\n",
       "        vertical-align: top;\n",
       "    }\n",
       "\n",
       "    .dataframe thead th {\n",
       "        text-align: right;\n",
       "    }\n",
       "</style>\n",
       "<table border=\"1\" class=\"dataframe\">\n",
       "  <thead>\n",
       "    <tr style=\"text-align: right;\">\n",
       "      <th></th>\n",
       "      <th>date</th>\n",
       "      <th>orders</th>\n",
       "      <th>revenue</th>\n",
       "      <th>avg_ch</th>\n",
       "    </tr>\n",
       "  </thead>\n",
       "  <tbody>\n",
       "    <tr>\n",
       "      <th>0</th>\n",
       "      <td>2019-08-01</td>\n",
       "      <td>18</td>\n",
       "      <td>909.0</td>\n",
       "      <td>50.500000</td>\n",
       "    </tr>\n",
       "    <tr>\n",
       "      <th>1</th>\n",
       "      <td>2019-08-02</td>\n",
       "      <td>17</td>\n",
       "      <td>827.4</td>\n",
       "      <td>48.670588</td>\n",
       "    </tr>\n",
       "    <tr>\n",
       "      <th>2</th>\n",
       "      <td>2019-08-03</td>\n",
       "      <td>24</td>\n",
       "      <td>1815.2</td>\n",
       "      <td>75.633333</td>\n",
       "    </tr>\n",
       "    <tr>\n",
       "      <th>3</th>\n",
       "      <td>2019-08-04</td>\n",
       "      <td>12</td>\n",
       "      <td>755.7</td>\n",
       "      <td>62.975000</td>\n",
       "    </tr>\n",
       "    <tr>\n",
       "      <th>4</th>\n",
       "      <td>2019-08-05</td>\n",
       "      <td>24</td>\n",
       "      <td>1763.1</td>\n",
       "      <td>73.462500</td>\n",
       "    </tr>\n",
       "  </tbody>\n",
       "</table>\n",
       "</div>"
      ],
      "text/plain": [
       "        date  orders  revenue     avg_ch\n",
       "0 2019-08-01      18    909.0  50.500000\n",
       "1 2019-08-02      17    827.4  48.670588\n",
       "2 2019-08-03      24   1815.2  75.633333\n",
       "3 2019-08-04      12    755.7  62.975000\n",
       "4 2019-08-05      24   1763.1  73.462500"
      ]
     },
     "execution_count": 92,
     "metadata": {},
     "output_type": "execute_result"
    }
   ],
   "source": [
    "orders_A_revenue_clean['avg_ch'] = orders_A_revenue_clean['revenue']/orders_A_revenue_clean['orders']\n",
    "orders_A_revenue_clean.head()"
   ]
  },
  {
   "cell_type": "code",
   "execution_count": 93,
   "id": "24226159",
   "metadata": {},
   "outputs": [
    {
     "data": {
      "text/html": [
       "<div>\n",
       "<style scoped>\n",
       "    .dataframe tbody tr th:only-of-type {\n",
       "        vertical-align: middle;\n",
       "    }\n",
       "\n",
       "    .dataframe tbody tr th {\n",
       "        vertical-align: top;\n",
       "    }\n",
       "\n",
       "    .dataframe thead th {\n",
       "        text-align: right;\n",
       "    }\n",
       "</style>\n",
       "<table border=\"1\" class=\"dataframe\">\n",
       "  <thead>\n",
       "    <tr style=\"text-align: right;\">\n",
       "      <th></th>\n",
       "      <th>date</th>\n",
       "      <th>orders</th>\n",
       "      <th>revenue</th>\n",
       "      <th>avg_ch</th>\n",
       "    </tr>\n",
       "  </thead>\n",
       "  <tbody>\n",
       "    <tr>\n",
       "      <th>0</th>\n",
       "      <td>2019-08-01</td>\n",
       "      <td>19</td>\n",
       "      <td>1258.8</td>\n",
       "      <td>66.252632</td>\n",
       "    </tr>\n",
       "    <tr>\n",
       "      <th>1</th>\n",
       "      <td>2019-08-02</td>\n",
       "      <td>22</td>\n",
       "      <td>1558.2</td>\n",
       "      <td>70.827273</td>\n",
       "    </tr>\n",
       "    <tr>\n",
       "      <th>2</th>\n",
       "      <td>2019-08-03</td>\n",
       "      <td>15</td>\n",
       "      <td>1386.7</td>\n",
       "      <td>92.446667</td>\n",
       "    </tr>\n",
       "    <tr>\n",
       "      <th>3</th>\n",
       "      <td>2019-08-04</td>\n",
       "      <td>16</td>\n",
       "      <td>1232.0</td>\n",
       "      <td>77.000000</td>\n",
       "    </tr>\n",
       "    <tr>\n",
       "      <th>4</th>\n",
       "      <td>2019-08-05</td>\n",
       "      <td>21</td>\n",
       "      <td>1014.6</td>\n",
       "      <td>48.314286</td>\n",
       "    </tr>\n",
       "  </tbody>\n",
       "</table>\n",
       "</div>"
      ],
      "text/plain": [
       "        date  orders  revenue     avg_ch\n",
       "0 2019-08-01      19   1258.8  66.252632\n",
       "1 2019-08-02      22   1558.2  70.827273\n",
       "2 2019-08-03      15   1386.7  92.446667\n",
       "3 2019-08-04      16   1232.0  77.000000\n",
       "4 2019-08-05      21   1014.6  48.314286"
      ]
     },
     "execution_count": 93,
     "metadata": {},
     "output_type": "execute_result"
    }
   ],
   "source": [
    "orders_B_revenue_clean['avg_ch'] = orders_B_revenue_clean['revenue']/orders_B_revenue_clean['orders']\n",
    "orders_B_revenue_clean.head()"
   ]
  },
  {
   "cell_type": "markdown",
   "id": "43965d77",
   "metadata": {},
   "source": [
    "Here also we will use the function that we built earlier to answer this question for the raw data."
   ]
  },
  {
   "cell_type": "code",
   "execution_count": 94,
   "id": "bf8995c9",
   "metadata": {},
   "outputs": [
    {
     "name": "stdout",
     "output_type": "stream",
     "text": [
      "----Group A----\n"
     ]
    },
    {
     "data": {
      "text/plain": [
       "81.18109704985675"
      ]
     },
     "execution_count": 94,
     "metadata": {},
     "output_type": "execute_result"
    }
   ],
   "source": [
    "print('----Group A----')\n",
    "orders_A_revenue_clean['avg_ch'].mean()"
   ]
  },
  {
   "cell_type": "code",
   "execution_count": 95,
   "id": "4abba0ba",
   "metadata": {},
   "outputs": [
    {
     "name": "stdout",
     "output_type": "stream",
     "text": [
      "----Group B----\n"
     ]
    },
    {
     "data": {
      "text/plain": [
       "80.98278301004788"
      ]
     },
     "execution_count": 95,
     "metadata": {},
     "output_type": "execute_result"
    }
   ],
   "source": [
    "print('----Group B----')\n",
    "orders_B_revenue_clean['avg_ch'].mean()"
   ]
  },
  {
   "cell_type": "markdown",
   "id": "b134f145",
   "metadata": {},
   "source": [
    "Let's formulate the hypotheses.\n",
    "\n",
    "**H0:** There's not a difference in average order size between the groups.\n",
    "\n",
    "**H1:** There's a difference in average order size between the groups."
   ]
  },
  {
   "cell_type": "code",
   "execution_count": 96,
   "id": "f26820c7",
   "metadata": {},
   "outputs": [
    {
     "name": "stdout",
     "output_type": "stream",
     "text": [
      "0.9103250189032224\n",
      "Fail to Reject H0\n"
     ]
    }
   ],
   "source": [
    "testing_average(orders_A_revenue_clean['avg_ch'],orders_B_revenue_clean['avg_ch'],alpha=0.05)"
   ]
  },
  {
   "cell_type": "markdown",
   "id": "f814952f",
   "metadata": {},
   "source": [
    "Here also we got p-value greater than 0.05 so we can conclude that the average order size doesn't differs between the groups. "
   ]
  },
  {
   "cell_type": "markdown",
   "id": "049cfb27",
   "metadata": {},
   "source": [
    "* **13. Make a decision based on the test results. The possible decisions are:**\n",
    "1.  **Stop the test, consider one of the groups the leader.**\n",
    "2.  **Stop the test, conclude that there is no difference between the groups.**\n",
    "3.  **Continue the test.**\n",
    "\n",
    "All the metrics and tests showed that the performance of group B is better than group A. The graphs also supported this conclusion. The statistical significance of the conversion rate showed us that there are differences between the groups, while the statistical significance of the average order size doesn't differentiate between the groups. The conversion rate of group B is greater than group A but the average order size doesn't. This means that users in group B buy in the same amount, but there are more users in group B that actually make a purchase.\n",
    "\n",
    "Thus we can recommend stopping the test because it's clear that group B is the leader and has better performance than group A. The marketing department can apply the characteristics of group B to boost the store's revenue.\n",
    "\n",
    "Biana."
   ]
  }
 ],
 "metadata": {
  "ExecuteTimeLog": [
   {
    "duration": 9,
    "start_time": "2022-01-23T17:22:34.485Z"
   },
   {
    "duration": 178,
    "start_time": "2022-01-23T17:22:34.496Z"
   },
   {
    "duration": 10,
    "start_time": "2022-01-23T17:22:34.676Z"
   },
   {
    "duration": 9,
    "start_time": "2022-01-23T17:22:34.689Z"
   },
   {
    "duration": 10,
    "start_time": "2022-01-23T17:22:34.701Z"
   },
   {
    "duration": 74,
    "start_time": "2022-01-23T17:22:34.714Z"
   },
   {
    "duration": 15,
    "start_time": "2022-01-23T17:22:34.791Z"
   },
   {
    "duration": 25,
    "start_time": "2022-01-23T17:22:34.809Z"
   },
   {
    "duration": 41,
    "start_time": "2022-01-23T17:22:34.837Z"
   },
   {
    "duration": 23,
    "start_time": "2022-01-23T17:22:34.880Z"
   },
   {
    "duration": 15,
    "start_time": "2022-01-23T17:22:34.906Z"
   },
   {
    "duration": 15,
    "start_time": "2022-01-23T17:22:34.924Z"
   },
   {
    "duration": 9,
    "start_time": "2022-01-23T17:22:34.971Z"
   },
   {
    "duration": 9,
    "start_time": "2022-01-23T17:22:34.983Z"
   },
   {
    "duration": 9,
    "start_time": "2022-01-23T17:22:34.995Z"
   },
   {
    "duration": 16,
    "start_time": "2022-01-23T17:22:35.007Z"
   },
   {
    "duration": 53,
    "start_time": "2022-01-23T17:22:35.027Z"
   },
   {
    "duration": 20,
    "start_time": "2022-01-23T17:22:35.083Z"
   },
   {
    "duration": 16,
    "start_time": "2022-01-23T17:22:35.106Z"
   },
   {
    "duration": 16,
    "start_time": "2022-01-23T17:22:35.124Z"
   },
   {
    "duration": 30,
    "start_time": "2022-01-23T17:22:35.142Z"
   },
   {
    "duration": 17,
    "start_time": "2022-01-23T17:22:35.175Z"
   },
   {
    "duration": 15,
    "start_time": "2022-01-23T17:22:35.195Z"
   },
   {
    "duration": 17,
    "start_time": "2022-01-23T17:22:35.212Z"
   },
   {
    "duration": 38,
    "start_time": "2022-01-23T17:22:35.231Z"
   },
   {
    "duration": 18,
    "start_time": "2022-01-23T17:22:35.272Z"
   },
   {
    "duration": 31,
    "start_time": "2022-01-23T17:22:35.292Z"
   },
   {
    "duration": 44,
    "start_time": "2022-01-23T17:22:35.325Z"
   },
   {
    "duration": 645,
    "start_time": "2022-01-23T17:22:35.372Z"
   },
   {
    "duration": 20,
    "start_time": "2022-01-23T17:22:36.020Z"
   },
   {
    "duration": 40,
    "start_time": "2022-01-23T17:22:36.042Z"
   },
   {
    "duration": 17,
    "start_time": "2022-01-23T17:22:36.085Z"
   },
   {
    "duration": 18,
    "start_time": "2022-01-23T17:22:36.105Z"
   },
   {
    "duration": 592,
    "start_time": "2022-01-23T17:22:36.126Z"
   },
   {
    "duration": 539,
    "start_time": "2022-01-23T17:22:36.720Z"
   },
   {
    "duration": 20,
    "start_time": "2022-01-23T17:22:37.261Z"
   },
   {
    "duration": 27,
    "start_time": "2022-01-23T17:22:37.283Z"
   },
   {
    "duration": 680,
    "start_time": "2022-01-23T17:22:37.312Z"
   },
   {
    "duration": 13,
    "start_time": "2022-01-23T17:22:37.995Z"
   },
   {
    "duration": 14,
    "start_time": "2022-01-23T17:22:38.010Z"
   },
   {
    "duration": 44,
    "start_time": "2022-01-23T17:22:38.027Z"
   },
   {
    "duration": 33,
    "start_time": "2022-01-23T17:22:38.073Z"
   },
   {
    "duration": 25,
    "start_time": "2022-01-23T17:22:38.109Z"
   },
   {
    "duration": 16,
    "start_time": "2022-01-23T17:22:38.137Z"
   },
   {
    "duration": 27,
    "start_time": "2022-01-23T17:22:38.156Z"
   },
   {
    "duration": 18,
    "start_time": "2022-01-23T17:22:38.185Z"
   },
   {
    "duration": 10,
    "start_time": "2022-01-23T17:22:38.205Z"
   },
   {
    "duration": 15,
    "start_time": "2022-01-23T17:22:38.217Z"
   },
   {
    "duration": 13,
    "start_time": "2022-01-23T17:22:38.271Z"
   },
   {
    "duration": 565,
    "start_time": "2022-01-23T17:22:38.287Z"
   },
   {
    "duration": 16,
    "start_time": "2022-01-23T17:22:38.855Z"
   },
   {
    "duration": 7,
    "start_time": "2022-01-23T17:22:38.874Z"
   },
   {
    "duration": 13,
    "start_time": "2022-01-23T17:22:38.883Z"
   },
   {
    "duration": 4,
    "start_time": "2022-01-23T17:22:38.898Z"
   },
   {
    "duration": 652,
    "start_time": "2022-01-23T17:22:38.904Z"
   },
   {
    "duration": 12,
    "start_time": "2022-01-23T17:22:39.558Z"
   },
   {
    "duration": 4,
    "start_time": "2022-01-23T17:22:39.573Z"
   },
   {
    "duration": 609,
    "start_time": "2022-01-23T17:22:39.579Z"
   },
   {
    "duration": 6,
    "start_time": "2022-01-23T17:22:40.190Z"
   },
   {
    "duration": 16,
    "start_time": "2022-01-23T17:22:40.198Z"
   },
   {
    "duration": 13,
    "start_time": "2022-01-23T17:22:40.216Z"
   },
   {
    "duration": 6,
    "start_time": "2022-01-23T17:22:40.232Z"
   },
   {
    "duration": 8,
    "start_time": "2022-01-23T17:22:40.240Z"
   },
   {
    "duration": 19,
    "start_time": "2022-01-23T17:22:40.251Z"
   },
   {
    "duration": 9,
    "start_time": "2022-01-23T17:22:40.273Z"
   },
   {
    "duration": 16,
    "start_time": "2022-01-23T17:22:40.285Z"
   },
   {
    "duration": 16,
    "start_time": "2022-01-23T17:22:40.303Z"
   },
   {
    "duration": 14,
    "start_time": "2022-01-23T17:22:40.321Z"
   },
   {
    "duration": 18,
    "start_time": "2022-01-23T17:22:40.337Z"
   },
   {
    "duration": 13,
    "start_time": "2022-01-23T17:22:40.358Z"
   },
   {
    "duration": 10,
    "start_time": "2022-01-23T17:22:40.374Z"
   },
   {
    "duration": 6,
    "start_time": "2022-01-23T17:22:40.386Z"
   },
   {
    "duration": 6,
    "start_time": "2022-01-23T17:22:40.394Z"
   },
   {
    "duration": 16,
    "start_time": "2022-01-23T17:22:40.402Z"
   },
   {
    "duration": 64,
    "start_time": "2022-01-23T17:22:40.420Z"
   },
   {
    "duration": 14,
    "start_time": "2022-01-23T17:22:40.486Z"
   },
   {
    "duration": 11,
    "start_time": "2022-01-23T17:22:40.502Z"
   },
   {
    "duration": 56,
    "start_time": "2022-01-23T17:22:40.516Z"
   },
   {
    "duration": 17,
    "start_time": "2022-01-23T17:22:40.575Z"
   },
   {
    "duration": 18,
    "start_time": "2022-01-23T17:22:40.594Z"
   },
   {
    "duration": 15,
    "start_time": "2022-01-23T17:22:40.614Z"
   },
   {
    "duration": 28,
    "start_time": "2022-01-23T17:22:40.632Z"
   },
   {
    "duration": 12,
    "start_time": "2022-01-23T17:22:40.663Z"
   },
   {
    "duration": 5,
    "start_time": "2022-01-23T17:22:40.677Z"
   },
   {
    "duration": 17,
    "start_time": "2022-01-23T17:22:40.685Z"
   },
   {
    "duration": 15,
    "start_time": "2022-01-23T17:22:40.704Z"
   },
   {
    "duration": 15,
    "start_time": "2022-01-23T17:22:40.721Z"
   },
   {
    "duration": 6,
    "start_time": "2022-01-23T17:22:40.738Z"
   },
   {
    "duration": 10,
    "start_time": "2022-01-23T17:22:40.746Z"
   },
   {
    "duration": 8,
    "start_time": "2022-01-23T17:22:40.759Z"
   },
   {
    "duration": 19,
    "start_time": "2022-01-23T17:22:40.770Z"
   },
   {
    "duration": 15,
    "start_time": "2022-01-23T17:22:40.791Z"
   },
   {
    "duration": 12,
    "start_time": "2022-01-23T17:22:40.809Z"
   },
   {
    "duration": 16,
    "start_time": "2022-01-23T17:22:40.823Z"
   },
   {
    "duration": 30,
    "start_time": "2022-01-23T17:22:40.842Z"
   },
   {
    "duration": 13,
    "start_time": "2022-01-23T17:22:40.875Z"
   },
   {
    "duration": 7,
    "start_time": "2022-01-23T17:22:40.892Z"
   },
   {
    "duration": 1591,
    "start_time": "2022-01-23T17:23:15.551Z"
   },
   {
    "duration": 218,
    "start_time": "2022-01-23T17:23:17.145Z"
   },
   {
    "duration": 17,
    "start_time": "2022-01-23T17:23:17.366Z"
   },
   {
    "duration": 14,
    "start_time": "2022-01-23T17:23:17.386Z"
   },
   {
    "duration": 14,
    "start_time": "2022-01-23T17:23:17.403Z"
   },
   {
    "duration": 61,
    "start_time": "2022-01-23T17:23:17.419Z"
   },
   {
    "duration": 12,
    "start_time": "2022-01-23T17:23:17.483Z"
   },
   {
    "duration": 15,
    "start_time": "2022-01-23T17:23:17.501Z"
   },
   {
    "duration": 52,
    "start_time": "2022-01-23T17:23:17.519Z"
   },
   {
    "duration": 18,
    "start_time": "2022-01-23T17:23:17.574Z"
   },
   {
    "duration": 14,
    "start_time": "2022-01-23T17:23:17.594Z"
   },
   {
    "duration": 15,
    "start_time": "2022-01-23T17:23:17.611Z"
   },
   {
    "duration": 8,
    "start_time": "2022-01-23T17:23:17.669Z"
   },
   {
    "duration": 8,
    "start_time": "2022-01-23T17:23:17.680Z"
   },
   {
    "duration": 10,
    "start_time": "2022-01-23T17:23:17.691Z"
   },
   {
    "duration": 16,
    "start_time": "2022-01-23T17:23:17.704Z"
   },
   {
    "duration": 59,
    "start_time": "2022-01-23T17:23:17.723Z"
   },
   {
    "duration": 12,
    "start_time": "2022-01-23T17:23:17.785Z"
   },
   {
    "duration": 12,
    "start_time": "2022-01-23T17:23:17.800Z"
   },
   {
    "duration": 11,
    "start_time": "2022-01-23T17:23:17.815Z"
   },
   {
    "duration": 6,
    "start_time": "2022-01-23T17:23:17.829Z"
   },
   {
    "duration": 5,
    "start_time": "2022-01-23T17:23:17.870Z"
   },
   {
    "duration": 11,
    "start_time": "2022-01-23T17:23:17.882Z"
   },
   {
    "duration": 12,
    "start_time": "2022-01-23T17:23:17.897Z"
   },
   {
    "duration": 59,
    "start_time": "2022-01-23T17:23:17.912Z"
   },
   {
    "duration": 21,
    "start_time": "2022-01-23T17:23:17.974Z"
   },
   {
    "duration": 21,
    "start_time": "2022-01-23T17:23:17.999Z"
   },
   {
    "duration": 54,
    "start_time": "2022-01-23T17:23:18.023Z"
   },
   {
    "duration": 562,
    "start_time": "2022-01-23T17:23:18.080Z"
   },
   {
    "duration": 33,
    "start_time": "2022-01-23T17:23:18.645Z"
   },
   {
    "duration": 18,
    "start_time": "2022-01-23T17:23:18.680Z"
   },
   {
    "duration": 17,
    "start_time": "2022-01-23T17:23:18.700Z"
   },
   {
    "duration": 51,
    "start_time": "2022-01-23T17:23:18.719Z"
   },
   {
    "duration": 640,
    "start_time": "2022-01-23T17:23:18.773Z"
   },
   {
    "duration": 556,
    "start_time": "2022-01-23T17:23:19.416Z"
   },
   {
    "duration": 15,
    "start_time": "2022-01-23T17:23:19.974Z"
   },
   {
    "duration": 27,
    "start_time": "2022-01-23T17:23:19.991Z"
   },
   {
    "duration": 683,
    "start_time": "2022-01-23T17:23:20.020Z"
   },
   {
    "duration": 15,
    "start_time": "2022-01-23T17:23:20.705Z"
   },
   {
    "duration": 12,
    "start_time": "2022-01-23T17:23:20.723Z"
   },
   {
    "duration": 16,
    "start_time": "2022-01-23T17:23:20.769Z"
   },
   {
    "duration": 17,
    "start_time": "2022-01-23T17:23:20.788Z"
   },
   {
    "duration": 14,
    "start_time": "2022-01-23T17:23:20.808Z"
   },
   {
    "duration": 50,
    "start_time": "2022-01-23T17:23:20.824Z"
   },
   {
    "duration": 19,
    "start_time": "2022-01-23T17:23:20.877Z"
   },
   {
    "duration": 31,
    "start_time": "2022-01-23T17:23:20.898Z"
   },
   {
    "duration": 39,
    "start_time": "2022-01-23T17:23:20.932Z"
   },
   {
    "duration": 20,
    "start_time": "2022-01-23T17:23:20.975Z"
   },
   {
    "duration": 17,
    "start_time": "2022-01-23T17:23:20.998Z"
   },
   {
    "duration": 565,
    "start_time": "2022-01-23T17:23:21.018Z"
   },
   {
    "duration": 7,
    "start_time": "2022-01-23T17:23:21.587Z"
   },
   {
    "duration": 15,
    "start_time": "2022-01-23T17:23:21.596Z"
   },
   {
    "duration": 13,
    "start_time": "2022-01-23T17:23:21.613Z"
   },
   {
    "duration": 3,
    "start_time": "2022-01-23T17:23:21.629Z"
   },
   {
    "duration": 609,
    "start_time": "2022-01-23T17:23:21.635Z"
   },
   {
    "duration": 6,
    "start_time": "2022-01-23T17:23:22.246Z"
   },
   {
    "duration": 4,
    "start_time": "2022-01-23T17:23:22.269Z"
   },
   {
    "duration": 621,
    "start_time": "2022-01-23T17:23:22.275Z"
   },
   {
    "duration": 7,
    "start_time": "2022-01-23T17:23:22.898Z"
   },
   {
    "duration": 14,
    "start_time": "2022-01-23T17:23:22.907Z"
   },
   {
    "duration": 45,
    "start_time": "2022-01-23T17:23:22.924Z"
   },
   {
    "duration": 6,
    "start_time": "2022-01-23T17:23:22.972Z"
   },
   {
    "duration": 8,
    "start_time": "2022-01-23T17:23:22.980Z"
   },
   {
    "duration": 95,
    "start_time": "2022-01-23T17:23:22.990Z"
   },
   {
    "duration": 11,
    "start_time": "2022-01-23T17:23:23.087Z"
   },
   {
    "duration": 16,
    "start_time": "2022-01-23T17:23:23.100Z"
   },
   {
    "duration": 16,
    "start_time": "2022-01-23T17:23:23.118Z"
   },
   {
    "duration": 14,
    "start_time": "2022-01-23T17:23:23.174Z"
   },
   {
    "duration": 14,
    "start_time": "2022-01-23T17:23:23.191Z"
   },
   {
    "duration": 7,
    "start_time": "2022-01-23T17:23:23.207Z"
   },
   {
    "duration": 10,
    "start_time": "2022-01-23T17:23:23.217Z"
   },
   {
    "duration": 42,
    "start_time": "2022-01-23T17:23:23.230Z"
   },
   {
    "duration": 10,
    "start_time": "2022-01-23T17:23:23.275Z"
   },
   {
    "duration": 18,
    "start_time": "2022-01-23T17:23:23.288Z"
   },
   {
    "duration": 63,
    "start_time": "2022-01-23T17:23:23.309Z"
   },
   {
    "duration": 11,
    "start_time": "2022-01-23T17:23:23.375Z"
   },
   {
    "duration": 10,
    "start_time": "2022-01-23T17:23:23.388Z"
   },
   {
    "duration": 5,
    "start_time": "2022-01-23T17:23:23.400Z"
   },
   {
    "duration": 15,
    "start_time": "2022-01-23T17:23:23.408Z"
   },
   {
    "duration": 57,
    "start_time": "2022-01-23T17:23:23.425Z"
   },
   {
    "duration": 17,
    "start_time": "2022-01-23T17:23:23.485Z"
   },
   {
    "duration": 13,
    "start_time": "2022-01-23T17:23:23.504Z"
   },
   {
    "duration": 12,
    "start_time": "2022-01-23T17:23:23.519Z"
   },
   {
    "duration": 3,
    "start_time": "2022-01-23T17:23:23.570Z"
   },
   {
    "duration": 17,
    "start_time": "2022-01-23T17:23:23.576Z"
   },
   {
    "duration": 13,
    "start_time": "2022-01-23T17:23:23.595Z"
   },
   {
    "duration": 14,
    "start_time": "2022-01-23T17:23:23.611Z"
   },
   {
    "duration": 45,
    "start_time": "2022-01-23T17:23:23.628Z"
   },
   {
    "duration": 8,
    "start_time": "2022-01-23T17:23:23.676Z"
   },
   {
    "duration": 9,
    "start_time": "2022-01-23T17:23:23.687Z"
   },
   {
    "duration": 19,
    "start_time": "2022-01-23T17:23:23.699Z"
   },
   {
    "duration": 63,
    "start_time": "2022-01-23T17:23:23.721Z"
   },
   {
    "duration": 14,
    "start_time": "2022-01-23T17:23:23.787Z"
   },
   {
    "duration": 15,
    "start_time": "2022-01-23T17:23:23.804Z"
   },
   {
    "duration": 50,
    "start_time": "2022-01-23T17:23:23.822Z"
   },
   {
    "duration": 9,
    "start_time": "2022-01-23T17:23:23.875Z"
   },
   {
    "duration": 6,
    "start_time": "2022-01-23T17:23:23.886Z"
   },
   {
    "duration": 1196,
    "start_time": "2022-01-24T10:30:01.698Z"
   },
   {
    "duration": 225,
    "start_time": "2022-01-24T10:30:02.896Z"
   },
   {
    "duration": 9,
    "start_time": "2022-01-24T10:30:03.124Z"
   },
   {
    "duration": 34,
    "start_time": "2022-01-24T10:30:03.135Z"
   },
   {
    "duration": 43,
    "start_time": "2022-01-24T10:30:03.171Z"
   },
   {
    "duration": 47,
    "start_time": "2022-01-24T10:30:03.216Z"
   },
   {
    "duration": 31,
    "start_time": "2022-01-24T10:30:03.265Z"
   },
   {
    "duration": 39,
    "start_time": "2022-01-24T10:30:03.298Z"
   },
   {
    "duration": 45,
    "start_time": "2022-01-24T10:30:03.340Z"
   },
   {
    "duration": 20,
    "start_time": "2022-01-24T10:30:03.387Z"
   },
   {
    "duration": 27,
    "start_time": "2022-01-24T10:30:03.408Z"
   },
   {
    "duration": 50,
    "start_time": "2022-01-24T10:30:03.437Z"
   },
   {
    "duration": 33,
    "start_time": "2022-01-24T10:30:03.489Z"
   },
   {
    "duration": 29,
    "start_time": "2022-01-24T10:30:03.523Z"
   },
   {
    "duration": 27,
    "start_time": "2022-01-24T10:30:03.553Z"
   },
   {
    "duration": 25,
    "start_time": "2022-01-24T10:30:03.582Z"
   },
   {
    "duration": 28,
    "start_time": "2022-01-24T10:30:03.608Z"
   },
   {
    "duration": 24,
    "start_time": "2022-01-24T10:30:03.638Z"
   },
   {
    "duration": 16,
    "start_time": "2022-01-24T10:30:03.664Z"
   },
   {
    "duration": 53,
    "start_time": "2022-01-24T10:30:03.681Z"
   },
   {
    "duration": 24,
    "start_time": "2022-01-24T10:30:03.735Z"
   },
   {
    "duration": 35,
    "start_time": "2022-01-24T10:30:03.761Z"
   },
   {
    "duration": 46,
    "start_time": "2022-01-24T10:30:03.800Z"
   },
   {
    "duration": 15,
    "start_time": "2022-01-24T10:30:03.849Z"
   },
   {
    "duration": 24,
    "start_time": "2022-01-24T10:30:03.866Z"
   },
   {
    "duration": 14,
    "start_time": "2022-01-24T10:30:03.892Z"
   },
   {
    "duration": 37,
    "start_time": "2022-01-24T10:30:03.908Z"
   },
   {
    "duration": 32,
    "start_time": "2022-01-24T10:30:03.946Z"
   },
   {
    "duration": 341,
    "start_time": "2022-01-24T10:30:03.980Z"
   },
   {
    "duration": 15,
    "start_time": "2022-01-24T10:30:04.323Z"
   },
   {
    "duration": 24,
    "start_time": "2022-01-24T10:30:04.339Z"
   },
   {
    "duration": 27,
    "start_time": "2022-01-24T10:30:04.364Z"
   },
   {
    "duration": 17,
    "start_time": "2022-01-24T10:30:04.393Z"
   },
   {
    "duration": 374,
    "start_time": "2022-01-24T10:30:04.411Z"
   },
   {
    "duration": 338,
    "start_time": "2022-01-24T10:30:04.786Z"
   },
   {
    "duration": 14,
    "start_time": "2022-01-24T10:30:05.126Z"
   },
   {
    "duration": 32,
    "start_time": "2022-01-24T10:30:05.142Z"
   },
   {
    "duration": 463,
    "start_time": "2022-01-24T10:30:05.176Z"
   },
   {
    "duration": 11,
    "start_time": "2022-01-24T10:30:05.641Z"
   },
   {
    "duration": 31,
    "start_time": "2022-01-24T10:30:05.654Z"
   },
   {
    "duration": 28,
    "start_time": "2022-01-24T10:30:05.687Z"
   },
   {
    "duration": 34,
    "start_time": "2022-01-24T10:30:05.717Z"
   },
   {
    "duration": 31,
    "start_time": "2022-01-24T10:30:05.753Z"
   },
   {
    "duration": 24,
    "start_time": "2022-01-24T10:30:05.785Z"
   },
   {
    "duration": 39,
    "start_time": "2022-01-24T10:30:05.811Z"
   },
   {
    "duration": 34,
    "start_time": "2022-01-24T10:30:05.852Z"
   },
   {
    "duration": 7,
    "start_time": "2022-01-24T10:30:05.888Z"
   },
   {
    "duration": 52,
    "start_time": "2022-01-24T10:30:05.897Z"
   },
   {
    "duration": 41,
    "start_time": "2022-01-24T10:30:05.951Z"
   },
   {
    "duration": 372,
    "start_time": "2022-01-24T10:30:05.994Z"
   },
   {
    "duration": 6,
    "start_time": "2022-01-24T10:30:06.368Z"
   },
   {
    "duration": 23,
    "start_time": "2022-01-24T10:30:06.376Z"
   },
   {
    "duration": 11,
    "start_time": "2022-01-24T10:30:06.401Z"
   },
   {
    "duration": 13,
    "start_time": "2022-01-24T10:30:06.414Z"
   },
   {
    "duration": 422,
    "start_time": "2022-01-24T10:30:06.429Z"
   },
   {
    "duration": 6,
    "start_time": "2022-01-24T10:30:06.853Z"
   },
   {
    "duration": 17,
    "start_time": "2022-01-24T10:30:06.860Z"
   },
   {
    "duration": 455,
    "start_time": "2022-01-24T10:30:06.879Z"
   },
   {
    "duration": 5,
    "start_time": "2022-01-24T10:30:07.335Z"
   },
   {
    "duration": 35,
    "start_time": "2022-01-24T10:30:07.341Z"
   },
   {
    "duration": 33,
    "start_time": "2022-01-24T10:30:07.378Z"
   },
   {
    "duration": 17,
    "start_time": "2022-01-24T10:30:07.412Z"
   },
   {
    "duration": 20,
    "start_time": "2022-01-24T10:30:07.431Z"
   },
   {
    "duration": 19,
    "start_time": "2022-01-24T10:30:07.453Z"
   },
   {
    "duration": 26,
    "start_time": "2022-01-24T10:30:07.474Z"
   },
   {
    "duration": 25,
    "start_time": "2022-01-24T10:30:07.502Z"
   },
   {
    "duration": 36,
    "start_time": "2022-01-24T10:30:07.528Z"
   },
   {
    "duration": 19,
    "start_time": "2022-01-24T10:30:07.569Z"
   },
   {
    "duration": 11,
    "start_time": "2022-01-24T10:30:07.590Z"
   },
   {
    "duration": 9,
    "start_time": "2022-01-24T10:30:07.602Z"
   },
   {
    "duration": 30,
    "start_time": "2022-01-24T10:30:07.613Z"
   },
   {
    "duration": 33,
    "start_time": "2022-01-24T10:30:07.646Z"
   },
   {
    "duration": 9,
    "start_time": "2022-01-24T10:30:07.681Z"
   },
   {
    "duration": 26,
    "start_time": "2022-01-24T10:30:07.692Z"
   },
   {
    "duration": 22,
    "start_time": "2022-01-24T10:30:07.720Z"
   },
   {
    "duration": 15,
    "start_time": "2022-01-24T10:30:07.744Z"
   },
   {
    "duration": 14,
    "start_time": "2022-01-24T10:30:07.761Z"
   },
   {
    "duration": 10,
    "start_time": "2022-01-24T10:30:07.777Z"
   },
   {
    "duration": 21,
    "start_time": "2022-01-24T10:30:07.789Z"
   },
   {
    "duration": 14,
    "start_time": "2022-01-24T10:30:07.812Z"
   },
   {
    "duration": 11,
    "start_time": "2022-01-24T10:30:07.828Z"
   },
   {
    "duration": 31,
    "start_time": "2022-01-24T10:30:07.840Z"
   },
   {
    "duration": 16,
    "start_time": "2022-01-24T10:30:07.873Z"
   },
   {
    "duration": 14,
    "start_time": "2022-01-24T10:30:07.890Z"
   },
   {
    "duration": 19,
    "start_time": "2022-01-24T10:30:07.905Z"
   },
   {
    "duration": 11,
    "start_time": "2022-01-24T10:30:07.926Z"
   },
   {
    "duration": 31,
    "start_time": "2022-01-24T10:30:07.939Z"
   },
   {
    "duration": 15,
    "start_time": "2022-01-24T10:30:07.972Z"
   },
   {
    "duration": 22,
    "start_time": "2022-01-24T10:30:07.989Z"
   },
   {
    "duration": 13,
    "start_time": "2022-01-24T10:30:08.013Z"
   },
   {
    "duration": 21,
    "start_time": "2022-01-24T10:30:08.028Z"
   },
   {
    "duration": 27,
    "start_time": "2022-01-24T10:30:08.051Z"
   },
   {
    "duration": 20,
    "start_time": "2022-01-24T10:30:08.080Z"
   },
   {
    "duration": 13,
    "start_time": "2022-01-24T10:30:08.102Z"
   },
   {
    "duration": 36,
    "start_time": "2022-01-24T10:30:08.117Z"
   },
   {
    "duration": 32,
    "start_time": "2022-01-24T10:30:08.155Z"
   },
   {
    "duration": 25,
    "start_time": "2022-01-24T10:30:08.189Z"
   },
   {
    "duration": 5,
    "start_time": "2022-01-24T10:31:00.802Z"
   },
   {
    "duration": 3,
    "start_time": "2022-01-24T10:32:56.521Z"
   },
   {
    "duration": 235,
    "start_time": "2022-01-24T10:32:56.526Z"
   },
   {
    "duration": 6,
    "start_time": "2022-01-24T10:32:56.763Z"
   },
   {
    "duration": 7,
    "start_time": "2022-01-24T10:32:56.771Z"
   },
   {
    "duration": 10,
    "start_time": "2022-01-24T10:32:56.780Z"
   },
   {
    "duration": 14,
    "start_time": "2022-01-24T10:32:56.791Z"
   },
   {
    "duration": 7,
    "start_time": "2022-01-24T10:32:56.807Z"
   },
   {
    "duration": 8,
    "start_time": "2022-01-24T10:32:56.816Z"
   },
   {
    "duration": 12,
    "start_time": "2022-01-24T10:32:56.825Z"
   },
   {
    "duration": 12,
    "start_time": "2022-01-24T10:32:56.839Z"
   },
   {
    "duration": 10,
    "start_time": "2022-01-24T10:32:56.852Z"
   },
   {
    "duration": 36,
    "start_time": "2022-01-24T10:32:56.863Z"
   },
   {
    "duration": 5,
    "start_time": "2022-01-24T10:32:56.901Z"
   },
   {
    "duration": 6,
    "start_time": "2022-01-24T10:32:56.908Z"
   },
   {
    "duration": 8,
    "start_time": "2022-01-24T10:32:56.915Z"
   },
   {
    "duration": 12,
    "start_time": "2022-01-24T10:32:56.924Z"
   },
   {
    "duration": 10,
    "start_time": "2022-01-24T10:32:56.937Z"
   },
   {
    "duration": 11,
    "start_time": "2022-01-24T10:32:56.949Z"
   },
   {
    "duration": 6,
    "start_time": "2022-01-24T10:32:56.964Z"
   },
   {
    "duration": 31,
    "start_time": "2022-01-24T10:32:56.972Z"
   },
   {
    "duration": 10,
    "start_time": "2022-01-24T10:32:57.005Z"
   },
   {
    "duration": 13,
    "start_time": "2022-01-24T10:32:57.016Z"
   },
   {
    "duration": 12,
    "start_time": "2022-01-24T10:32:57.031Z"
   },
   {
    "duration": 8,
    "start_time": "2022-01-24T10:32:57.045Z"
   },
   {
    "duration": 13,
    "start_time": "2022-01-24T10:32:57.055Z"
   },
   {
    "duration": 12,
    "start_time": "2022-01-24T10:32:57.069Z"
   },
   {
    "duration": 15,
    "start_time": "2022-01-24T10:32:57.099Z"
   },
   {
    "duration": 13,
    "start_time": "2022-01-24T10:32:57.116Z"
   },
   {
    "duration": 355,
    "start_time": "2022-01-24T10:32:57.131Z"
   },
   {
    "duration": 17,
    "start_time": "2022-01-24T10:32:57.488Z"
   },
   {
    "duration": 13,
    "start_time": "2022-01-24T10:32:57.506Z"
   },
   {
    "duration": 14,
    "start_time": "2022-01-24T10:32:57.520Z"
   },
   {
    "duration": 12,
    "start_time": "2022-01-24T10:32:57.536Z"
   },
   {
    "duration": 442,
    "start_time": "2022-01-24T10:32:57.550Z"
   },
   {
    "duration": 336,
    "start_time": "2022-01-24T10:32:57.998Z"
   },
   {
    "duration": 10,
    "start_time": "2022-01-24T10:32:58.336Z"
   },
   {
    "duration": 20,
    "start_time": "2022-01-24T10:32:58.348Z"
   },
   {
    "duration": 491,
    "start_time": "2022-01-24T10:32:58.370Z"
   },
   {
    "duration": 10,
    "start_time": "2022-01-24T10:32:58.863Z"
   },
   {
    "duration": 24,
    "start_time": "2022-01-24T10:32:58.875Z"
   },
   {
    "duration": 12,
    "start_time": "2022-01-24T10:32:58.902Z"
   },
   {
    "duration": 12,
    "start_time": "2022-01-24T10:32:58.915Z"
   },
   {
    "duration": 12,
    "start_time": "2022-01-24T10:32:58.929Z"
   },
   {
    "duration": 13,
    "start_time": "2022-01-24T10:32:58.943Z"
   },
   {
    "duration": 41,
    "start_time": "2022-01-24T10:32:58.958Z"
   },
   {
    "duration": 13,
    "start_time": "2022-01-24T10:32:59.001Z"
   },
   {
    "duration": 10,
    "start_time": "2022-01-24T10:32:59.016Z"
   },
   {
    "duration": 13,
    "start_time": "2022-01-24T10:32:59.028Z"
   },
   {
    "duration": 10,
    "start_time": "2022-01-24T10:32:59.042Z"
   },
   {
    "duration": 382,
    "start_time": "2022-01-24T10:32:59.054Z"
   },
   {
    "duration": 5,
    "start_time": "2022-01-24T10:32:59.438Z"
   },
   {
    "duration": 11,
    "start_time": "2022-01-24T10:32:59.445Z"
   },
   {
    "duration": 13,
    "start_time": "2022-01-24T10:32:59.457Z"
   },
   {
    "duration": 2,
    "start_time": "2022-01-24T10:32:59.472Z"
   },
   {
    "duration": 455,
    "start_time": "2022-01-24T10:32:59.479Z"
   },
   {
    "duration": 6,
    "start_time": "2022-01-24T10:32:59.936Z"
   },
   {
    "duration": 8,
    "start_time": "2022-01-24T10:32:59.943Z"
   },
   {
    "duration": 430,
    "start_time": "2022-01-24T10:32:59.953Z"
   },
   {
    "duration": 4,
    "start_time": "2022-01-24T10:33:00.385Z"
   },
   {
    "duration": 19,
    "start_time": "2022-01-24T10:33:00.391Z"
   },
   {
    "duration": 17,
    "start_time": "2022-01-24T10:33:00.412Z"
   },
   {
    "duration": 9,
    "start_time": "2022-01-24T10:33:00.432Z"
   },
   {
    "duration": 9,
    "start_time": "2022-01-24T10:33:00.442Z"
   },
   {
    "duration": 10,
    "start_time": "2022-01-24T10:33:00.452Z"
   },
   {
    "duration": 36,
    "start_time": "2022-01-24T10:33:00.464Z"
   },
   {
    "duration": 27,
    "start_time": "2022-01-24T10:33:00.502Z"
   },
   {
    "duration": 24,
    "start_time": "2022-01-24T10:33:00.531Z"
   },
   {
    "duration": 18,
    "start_time": "2022-01-24T10:33:00.557Z"
   },
   {
    "duration": 15,
    "start_time": "2022-01-24T10:33:00.576Z"
   },
   {
    "duration": 7,
    "start_time": "2022-01-24T10:33:00.598Z"
   },
   {
    "duration": 23,
    "start_time": "2022-01-24T10:33:00.607Z"
   },
   {
    "duration": 10,
    "start_time": "2022-01-24T10:33:00.631Z"
   },
   {
    "duration": 13,
    "start_time": "2022-01-24T10:33:00.642Z"
   },
   {
    "duration": 17,
    "start_time": "2022-01-24T10:33:00.657Z"
   },
   {
    "duration": 23,
    "start_time": "2022-01-24T10:33:00.676Z"
   },
   {
    "duration": 9,
    "start_time": "2022-01-24T10:33:00.701Z"
   },
   {
    "duration": 18,
    "start_time": "2022-01-24T10:33:00.711Z"
   },
   {
    "duration": 6,
    "start_time": "2022-01-24T10:33:00.731Z"
   },
   {
    "duration": 16,
    "start_time": "2022-01-24T10:33:00.738Z"
   },
   {
    "duration": 14,
    "start_time": "2022-01-24T10:33:00.756Z"
   },
   {
    "duration": 34,
    "start_time": "2022-01-24T10:33:00.771Z"
   },
   {
    "duration": 29,
    "start_time": "2022-01-24T10:33:00.806Z"
   },
   {
    "duration": 8,
    "start_time": "2022-01-24T10:33:00.837Z"
   },
   {
    "duration": 6,
    "start_time": "2022-01-24T10:33:00.846Z"
   },
   {
    "duration": 20,
    "start_time": "2022-01-24T10:33:00.854Z"
   },
   {
    "duration": 11,
    "start_time": "2022-01-24T10:33:00.876Z"
   },
   {
    "duration": 22,
    "start_time": "2022-01-24T10:33:00.889Z"
   },
   {
    "duration": 14,
    "start_time": "2022-01-24T10:33:00.913Z"
   },
   {
    "duration": 14,
    "start_time": "2022-01-24T10:33:00.929Z"
   },
   {
    "duration": 18,
    "start_time": "2022-01-24T10:33:00.945Z"
   },
   {
    "duration": 19,
    "start_time": "2022-01-24T10:33:00.965Z"
   },
   {
    "duration": 18,
    "start_time": "2022-01-24T10:33:00.986Z"
   },
   {
    "duration": 10,
    "start_time": "2022-01-24T10:33:01.005Z"
   },
   {
    "duration": 15,
    "start_time": "2022-01-24T10:33:01.017Z"
   },
   {
    "duration": 17,
    "start_time": "2022-01-24T10:33:01.034Z"
   },
   {
    "duration": 14,
    "start_time": "2022-01-24T10:33:01.053Z"
   },
   {
    "duration": 10,
    "start_time": "2022-01-24T10:33:01.069Z"
   },
   {
    "duration": 91,
    "start_time": "2022-01-24T10:41:20.284Z"
   },
   {
    "duration": 348,
    "start_time": "2022-01-24T10:45:11.103Z"
   },
   {
    "duration": 326,
    "start_time": "2022-01-24T10:50:51.716Z"
   },
   {
    "duration": 331,
    "start_time": "2022-01-24T10:50:55.656Z"
   },
   {
    "duration": 418,
    "start_time": "2022-01-24T10:51:01.159Z"
   },
   {
    "duration": 339,
    "start_time": "2022-01-24T10:51:07.908Z"
   },
   {
    "duration": 462,
    "start_time": "2022-01-24T10:51:14.785Z"
   },
   {
    "duration": 414,
    "start_time": "2022-01-24T10:51:28.667Z"
   },
   {
    "duration": 359,
    "start_time": "2022-01-24T10:54:18.522Z"
   },
   {
    "duration": 370,
    "start_time": "2022-01-24T10:55:01.823Z"
   },
   {
    "duration": 343,
    "start_time": "2022-01-24T10:56:29.371Z"
   },
   {
    "duration": 419,
    "start_time": "2022-01-24T10:58:21.644Z"
   },
   {
    "duration": 4,
    "start_time": "2022-01-24T11:04:10.968Z"
   },
   {
    "duration": 11,
    "start_time": "2022-01-24T11:04:11.589Z"
   },
   {
    "duration": 10,
    "start_time": "2022-01-24T11:04:24.337Z"
   },
   {
    "duration": 351,
    "start_time": "2022-01-24T11:05:08.216Z"
   },
   {
    "duration": 6759,
    "start_time": "2022-01-24T11:08:46.957Z"
   },
   {
    "duration": -1944,
    "start_time": "2022-01-24T11:08:55.662Z"
   },
   {
    "duration": -1956,
    "start_time": "2022-01-24T11:08:55.675Z"
   },
   {
    "duration": 7,
    "start_time": "2022-01-24T11:09:17.829Z"
   },
   {
    "duration": 12,
    "start_time": "2022-01-24T11:09:19.504Z"
   },
   {
    "duration": 12,
    "start_time": "2022-01-24T11:09:20.344Z"
   },
   {
    "duration": 3,
    "start_time": "2022-01-24T11:09:34.761Z"
   },
   {
    "duration": 244,
    "start_time": "2022-01-24T11:09:34.766Z"
   },
   {
    "duration": 6,
    "start_time": "2022-01-24T11:09:35.012Z"
   },
   {
    "duration": 8,
    "start_time": "2022-01-24T11:09:35.020Z"
   },
   {
    "duration": 9,
    "start_time": "2022-01-24T11:09:35.030Z"
   },
   {
    "duration": 19,
    "start_time": "2022-01-24T11:09:35.041Z"
   },
   {
    "duration": 38,
    "start_time": "2022-01-24T11:09:35.062Z"
   },
   {
    "duration": 8,
    "start_time": "2022-01-24T11:09:35.102Z"
   },
   {
    "duration": 13,
    "start_time": "2022-01-24T11:09:35.114Z"
   },
   {
    "duration": 14,
    "start_time": "2022-01-24T11:09:35.130Z"
   },
   {
    "duration": 11,
    "start_time": "2022-01-24T11:09:35.147Z"
   },
   {
    "duration": 39,
    "start_time": "2022-01-24T11:09:35.160Z"
   },
   {
    "duration": 6,
    "start_time": "2022-01-24T11:09:35.201Z"
   },
   {
    "duration": 7,
    "start_time": "2022-01-24T11:09:35.209Z"
   },
   {
    "duration": 10,
    "start_time": "2022-01-24T11:09:35.217Z"
   },
   {
    "duration": 13,
    "start_time": "2022-01-24T11:09:35.229Z"
   },
   {
    "duration": 8,
    "start_time": "2022-01-24T11:09:35.244Z"
   },
   {
    "duration": 11,
    "start_time": "2022-01-24T11:09:35.253Z"
   },
   {
    "duration": 34,
    "start_time": "2022-01-24T11:09:35.265Z"
   },
   {
    "duration": 7,
    "start_time": "2022-01-24T11:09:35.301Z"
   },
   {
    "duration": 9,
    "start_time": "2022-01-24T11:09:35.309Z"
   },
   {
    "duration": 9,
    "start_time": "2022-01-24T11:09:35.319Z"
   },
   {
    "duration": 13,
    "start_time": "2022-01-24T11:09:35.329Z"
   },
   {
    "duration": 7,
    "start_time": "2022-01-24T11:09:35.344Z"
   },
   {
    "duration": 17,
    "start_time": "2022-01-24T11:09:35.352Z"
   },
   {
    "duration": 39,
    "start_time": "2022-01-24T11:09:35.371Z"
   },
   {
    "duration": 16,
    "start_time": "2022-01-24T11:09:35.414Z"
   },
   {
    "duration": 16,
    "start_time": "2022-01-24T11:09:35.433Z"
   },
   {
    "duration": 404,
    "start_time": "2022-01-24T11:09:35.451Z"
   },
   {
    "duration": 15,
    "start_time": "2022-01-24T11:09:35.857Z"
   },
   {
    "duration": 28,
    "start_time": "2022-01-24T11:09:35.874Z"
   },
   {
    "duration": 28,
    "start_time": "2022-01-24T11:09:35.904Z"
   },
   {
    "duration": 14,
    "start_time": "2022-01-24T11:09:35.934Z"
   },
   {
    "duration": 381,
    "start_time": "2022-01-24T11:09:35.950Z"
   },
   {
    "duration": 386,
    "start_time": "2022-01-24T11:09:36.332Z"
   },
   {
    "duration": 13,
    "start_time": "2022-01-24T11:09:36.720Z"
   },
   {
    "duration": 21,
    "start_time": "2022-01-24T11:09:36.735Z"
   },
   {
    "duration": 527,
    "start_time": "2022-01-24T11:09:36.758Z"
   },
   {
    "duration": 15,
    "start_time": "2022-01-24T11:09:37.287Z"
   },
   {
    "duration": 12,
    "start_time": "2022-01-24T11:09:37.304Z"
   },
   {
    "duration": 13,
    "start_time": "2022-01-24T11:09:37.317Z"
   },
   {
    "duration": 12,
    "start_time": "2022-01-24T11:09:37.332Z"
   },
   {
    "duration": 12,
    "start_time": "2022-01-24T11:09:37.345Z"
   },
   {
    "duration": 41,
    "start_time": "2022-01-24T11:09:37.358Z"
   },
   {
    "duration": 97,
    "start_time": "2022-01-24T11:09:37.401Z"
   },
   {
    "duration": 14,
    "start_time": "2022-01-24T11:09:37.500Z"
   },
   {
    "duration": 23,
    "start_time": "2022-01-24T11:09:37.515Z"
   },
   {
    "duration": 18,
    "start_time": "2022-01-24T11:09:37.540Z"
   },
   {
    "duration": 20,
    "start_time": "2022-01-24T11:09:37.559Z"
   },
   {
    "duration": 383,
    "start_time": "2022-01-24T11:09:37.581Z"
   },
   {
    "duration": 4,
    "start_time": "2022-01-24T11:09:37.966Z"
   },
   {
    "duration": 17,
    "start_time": "2022-01-24T11:09:37.971Z"
   },
   {
    "duration": 28,
    "start_time": "2022-01-24T11:09:37.990Z"
   },
   {
    "duration": 487,
    "start_time": "2022-01-24T11:09:38.020Z"
   },
   {
    "duration": 10,
    "start_time": "2022-01-24T11:09:38.508Z"
   },
   {
    "duration": 2,
    "start_time": "2022-01-24T11:09:38.520Z"
   },
   {
    "duration": 428,
    "start_time": "2022-01-24T11:09:38.524Z"
   },
   {
    "duration": 5,
    "start_time": "2022-01-24T11:09:38.954Z"
   },
   {
    "duration": 9,
    "start_time": "2022-01-24T11:09:38.961Z"
   },
   {
    "duration": 488,
    "start_time": "2022-01-24T11:09:38.972Z"
   },
   {
    "duration": 6,
    "start_time": "2022-01-24T11:09:39.462Z"
   },
   {
    "duration": 35,
    "start_time": "2022-01-24T11:09:39.470Z"
   },
   {
    "duration": 12,
    "start_time": "2022-01-24T11:09:39.507Z"
   },
   {
    "duration": 5,
    "start_time": "2022-01-24T11:09:39.522Z"
   },
   {
    "duration": 11,
    "start_time": "2022-01-24T11:09:39.529Z"
   },
   {
    "duration": 6,
    "start_time": "2022-01-24T11:09:39.542Z"
   },
   {
    "duration": 9,
    "start_time": "2022-01-24T11:09:39.550Z"
   },
   {
    "duration": 48,
    "start_time": "2022-01-24T11:09:39.561Z"
   },
   {
    "duration": 13,
    "start_time": "2022-01-24T11:09:39.612Z"
   },
   {
    "duration": 11,
    "start_time": "2022-01-24T11:09:39.627Z"
   },
   {
    "duration": 13,
    "start_time": "2022-01-24T11:09:39.640Z"
   },
   {
    "duration": 6,
    "start_time": "2022-01-24T11:09:39.655Z"
   },
   {
    "duration": 5,
    "start_time": "2022-01-24T11:09:39.699Z"
   },
   {
    "duration": 8,
    "start_time": "2022-01-24T11:09:39.706Z"
   },
   {
    "duration": 7,
    "start_time": "2022-01-24T11:09:39.716Z"
   },
   {
    "duration": 13,
    "start_time": "2022-01-24T11:09:39.725Z"
   },
   {
    "duration": 12,
    "start_time": "2022-01-24T11:09:39.739Z"
   },
   {
    "duration": 50,
    "start_time": "2022-01-24T11:09:39.753Z"
   },
   {
    "duration": 10,
    "start_time": "2022-01-24T11:09:39.805Z"
   },
   {
    "duration": 8,
    "start_time": "2022-01-24T11:09:39.817Z"
   },
   {
    "duration": 11,
    "start_time": "2022-01-24T11:09:39.831Z"
   },
   {
    "duration": 12,
    "start_time": "2022-01-24T11:09:39.845Z"
   },
   {
    "duration": 41,
    "start_time": "2022-01-24T11:09:39.858Z"
   },
   {
    "duration": 9,
    "start_time": "2022-01-24T11:09:39.901Z"
   },
   {
    "duration": 11,
    "start_time": "2022-01-24T11:09:39.911Z"
   },
   {
    "duration": 5,
    "start_time": "2022-01-24T11:09:39.923Z"
   },
   {
    "duration": 13,
    "start_time": "2022-01-24T11:09:39.930Z"
   },
   {
    "duration": 11,
    "start_time": "2022-01-24T11:09:39.945Z"
   },
   {
    "duration": 46,
    "start_time": "2022-01-24T11:09:39.958Z"
   },
   {
    "duration": 5,
    "start_time": "2022-01-24T11:09:40.006Z"
   },
   {
    "duration": 10,
    "start_time": "2022-01-24T11:09:40.013Z"
   },
   {
    "duration": 7,
    "start_time": "2022-01-24T11:09:40.025Z"
   },
   {
    "duration": 20,
    "start_time": "2022-01-24T11:09:40.034Z"
   },
   {
    "duration": 18,
    "start_time": "2022-01-24T11:09:40.055Z"
   },
   {
    "duration": 32,
    "start_time": "2022-01-24T11:09:40.075Z"
   },
   {
    "duration": 13,
    "start_time": "2022-01-24T11:09:40.109Z"
   },
   {
    "duration": 11,
    "start_time": "2022-01-24T11:09:40.123Z"
   },
   {
    "duration": 6,
    "start_time": "2022-01-24T11:09:40.135Z"
   },
   {
    "duration": 5,
    "start_time": "2022-01-24T11:09:40.143Z"
   },
   {
    "duration": 19,
    "start_time": "2022-01-24T11:11:24.666Z"
   },
   {
    "duration": 100,
    "start_time": "2022-01-24T11:13:51.207Z"
   },
   {
    "duration": 479,
    "start_time": "2022-01-24T11:14:10.898Z"
   },
   {
    "duration": 18,
    "start_time": "2022-01-24T11:18:18.452Z"
   },
   {
    "duration": 3,
    "start_time": "2022-01-24T11:19:34.970Z"
   },
   {
    "duration": 234,
    "start_time": "2022-01-24T11:19:34.975Z"
   },
   {
    "duration": 6,
    "start_time": "2022-01-24T11:19:35.211Z"
   },
   {
    "duration": 8,
    "start_time": "2022-01-24T11:19:35.219Z"
   },
   {
    "duration": 8,
    "start_time": "2022-01-24T11:19:35.229Z"
   },
   {
    "duration": 18,
    "start_time": "2022-01-24T11:19:35.239Z"
   },
   {
    "duration": 7,
    "start_time": "2022-01-24T11:19:35.260Z"
   },
   {
    "duration": 31,
    "start_time": "2022-01-24T11:19:35.270Z"
   },
   {
    "duration": 15,
    "start_time": "2022-01-24T11:19:35.303Z"
   },
   {
    "duration": 14,
    "start_time": "2022-01-24T11:19:35.319Z"
   },
   {
    "duration": 9,
    "start_time": "2022-01-24T11:19:35.334Z"
   },
   {
    "duration": 9,
    "start_time": "2022-01-24T11:19:35.345Z"
   },
   {
    "duration": 7,
    "start_time": "2022-01-24T11:19:35.356Z"
   },
   {
    "duration": 33,
    "start_time": "2022-01-24T11:19:35.365Z"
   },
   {
    "duration": 6,
    "start_time": "2022-01-24T11:19:35.400Z"
   },
   {
    "duration": 16,
    "start_time": "2022-01-24T11:19:35.407Z"
   },
   {
    "duration": 9,
    "start_time": "2022-01-24T11:19:35.425Z"
   },
   {
    "duration": 13,
    "start_time": "2022-01-24T11:19:35.436Z"
   },
   {
    "duration": 6,
    "start_time": "2022-01-24T11:19:35.454Z"
   },
   {
    "duration": 7,
    "start_time": "2022-01-24T11:19:35.463Z"
   },
   {
    "duration": 31,
    "start_time": "2022-01-24T11:19:35.472Z"
   },
   {
    "duration": 7,
    "start_time": "2022-01-24T11:19:35.505Z"
   },
   {
    "duration": 11,
    "start_time": "2022-01-24T11:19:35.514Z"
   },
   {
    "duration": 10,
    "start_time": "2022-01-24T11:19:35.527Z"
   },
   {
    "duration": 22,
    "start_time": "2022-01-24T11:19:35.539Z"
   },
   {
    "duration": 12,
    "start_time": "2022-01-24T11:19:35.563Z"
   },
   {
    "duration": 33,
    "start_time": "2022-01-24T11:19:35.577Z"
   },
   {
    "duration": 16,
    "start_time": "2022-01-24T11:19:35.612Z"
   },
   {
    "duration": 379,
    "start_time": "2022-01-24T11:19:35.630Z"
   },
   {
    "duration": 15,
    "start_time": "2022-01-24T11:19:36.010Z"
   },
   {
    "duration": 13,
    "start_time": "2022-01-24T11:19:36.027Z"
   },
   {
    "duration": 13,
    "start_time": "2022-01-24T11:19:36.042Z"
   },
   {
    "duration": 43,
    "start_time": "2022-01-24T11:19:36.057Z"
   },
   {
    "duration": 366,
    "start_time": "2022-01-24T11:19:36.101Z"
   },
   {
    "duration": 362,
    "start_time": "2022-01-24T11:19:36.469Z"
   },
   {
    "duration": 10,
    "start_time": "2022-01-24T11:19:36.832Z"
   },
   {
    "duration": 38,
    "start_time": "2022-01-24T11:19:36.844Z"
   },
   {
    "duration": 487,
    "start_time": "2022-01-24T11:19:36.884Z"
   },
   {
    "duration": 9,
    "start_time": "2022-01-24T11:19:37.373Z"
   },
   {
    "duration": 16,
    "start_time": "2022-01-24T11:19:37.384Z"
   },
   {
    "duration": 17,
    "start_time": "2022-01-24T11:19:37.402Z"
   },
   {
    "duration": 13,
    "start_time": "2022-01-24T11:19:37.420Z"
   },
   {
    "duration": 10,
    "start_time": "2022-01-24T11:19:37.435Z"
   },
   {
    "duration": 10,
    "start_time": "2022-01-24T11:19:37.447Z"
   },
   {
    "duration": 40,
    "start_time": "2022-01-24T11:19:37.459Z"
   },
   {
    "duration": 13,
    "start_time": "2022-01-24T11:19:37.501Z"
   },
   {
    "duration": 6,
    "start_time": "2022-01-24T11:19:37.516Z"
   },
   {
    "duration": 13,
    "start_time": "2022-01-24T11:19:37.524Z"
   },
   {
    "duration": 11,
    "start_time": "2022-01-24T11:19:37.539Z"
   },
   {
    "duration": 391,
    "start_time": "2022-01-24T11:19:37.552Z"
   },
   {
    "duration": 4,
    "start_time": "2022-01-24T11:19:37.945Z"
   },
   {
    "duration": 6,
    "start_time": "2022-01-24T11:19:37.951Z"
   },
   {
    "duration": 17,
    "start_time": "2022-01-24T11:19:37.959Z"
   },
   {
    "duration": 497,
    "start_time": "2022-01-24T11:19:37.977Z"
   },
   {
    "duration": 23,
    "start_time": "2022-01-24T11:19:38.481Z"
   },
   {
    "duration": 7020,
    "start_time": "2022-01-24T11:19:38.508Z"
   },
   {
    "duration": -1923,
    "start_time": "2022-01-24T11:19:47.453Z"
   },
   {
    "duration": -1936,
    "start_time": "2022-01-24T11:19:47.467Z"
   },
   {
    "duration": -1940,
    "start_time": "2022-01-24T11:19:47.472Z"
   },
   {
    "duration": -1945,
    "start_time": "2022-01-24T11:19:47.478Z"
   },
   {
    "duration": -1947,
    "start_time": "2022-01-24T11:19:47.482Z"
   },
   {
    "duration": -1951,
    "start_time": "2022-01-24T11:19:47.487Z"
   },
   {
    "duration": -1953,
    "start_time": "2022-01-24T11:19:47.490Z"
   },
   {
    "duration": -1957,
    "start_time": "2022-01-24T11:19:47.495Z"
   },
   {
    "duration": -1961,
    "start_time": "2022-01-24T11:19:47.500Z"
   },
   {
    "duration": -1964,
    "start_time": "2022-01-24T11:19:47.504Z"
   },
   {
    "duration": -1966,
    "start_time": "2022-01-24T11:19:47.507Z"
   },
   {
    "duration": -1969,
    "start_time": "2022-01-24T11:19:47.511Z"
   },
   {
    "duration": -1973,
    "start_time": "2022-01-24T11:19:47.516Z"
   },
   {
    "duration": -1976,
    "start_time": "2022-01-24T11:19:47.520Z"
   },
   {
    "duration": -1979,
    "start_time": "2022-01-24T11:19:47.524Z"
   },
   {
    "duration": -2007,
    "start_time": "2022-01-24T11:19:47.553Z"
   },
   {
    "duration": -2009,
    "start_time": "2022-01-24T11:19:47.556Z"
   },
   {
    "duration": -2011,
    "start_time": "2022-01-24T11:19:47.559Z"
   },
   {
    "duration": -2015,
    "start_time": "2022-01-24T11:19:47.564Z"
   },
   {
    "duration": -2019,
    "start_time": "2022-01-24T11:19:47.569Z"
   },
   {
    "duration": -2021,
    "start_time": "2022-01-24T11:19:47.572Z"
   },
   {
    "duration": -2024,
    "start_time": "2022-01-24T11:19:47.576Z"
   },
   {
    "duration": -2025,
    "start_time": "2022-01-24T11:19:47.580Z"
   },
   {
    "duration": -2028,
    "start_time": "2022-01-24T11:19:47.584Z"
   },
   {
    "duration": -2030,
    "start_time": "2022-01-24T11:19:47.588Z"
   },
   {
    "duration": -2032,
    "start_time": "2022-01-24T11:19:47.591Z"
   },
   {
    "duration": -2035,
    "start_time": "2022-01-24T11:19:47.595Z"
   },
   {
    "duration": -2038,
    "start_time": "2022-01-24T11:19:47.599Z"
   },
   {
    "duration": -2040,
    "start_time": "2022-01-24T11:19:47.602Z"
   },
   {
    "duration": -2043,
    "start_time": "2022-01-24T11:19:47.606Z"
   },
   {
    "duration": -2044,
    "start_time": "2022-01-24T11:19:47.609Z"
   },
   {
    "duration": -2046,
    "start_time": "2022-01-24T11:19:47.613Z"
   },
   {
    "duration": -2020,
    "start_time": "2022-01-24T11:19:47.617Z"
   },
   {
    "duration": -2022,
    "start_time": "2022-01-24T11:19:47.621Z"
   },
   {
    "duration": -2024,
    "start_time": "2022-01-24T11:19:47.624Z"
   },
   {
    "duration": -2028,
    "start_time": "2022-01-24T11:19:47.629Z"
   },
   {
    "duration": -2031,
    "start_time": "2022-01-24T11:19:47.633Z"
   },
   {
    "duration": -2042,
    "start_time": "2022-01-24T11:19:47.645Z"
   },
   {
    "duration": -2047,
    "start_time": "2022-01-24T11:19:47.651Z"
   },
   {
    "duration": -2049,
    "start_time": "2022-01-24T11:19:47.654Z"
   },
   {
    "duration": -2051,
    "start_time": "2022-01-24T11:19:47.657Z"
   },
   {
    "duration": -2054,
    "start_time": "2022-01-24T11:19:47.661Z"
   },
   {
    "duration": -2055,
    "start_time": "2022-01-24T11:19:47.664Z"
   },
   {
    "duration": -2059,
    "start_time": "2022-01-24T11:19:47.669Z"
   },
   {
    "duration": -2061,
    "start_time": "2022-01-24T11:19:47.672Z"
   },
   {
    "duration": 13768,
    "start_time": "2022-01-24T11:20:10.034Z"
   },
   {
    "duration": 3,
    "start_time": "2022-01-24T11:21:12.384Z"
   },
   {
    "duration": 228,
    "start_time": "2022-01-24T11:21:12.389Z"
   },
   {
    "duration": 6,
    "start_time": "2022-01-24T11:21:12.620Z"
   },
   {
    "duration": 5,
    "start_time": "2022-01-24T11:21:12.628Z"
   },
   {
    "duration": 7,
    "start_time": "2022-01-24T11:21:12.635Z"
   },
   {
    "duration": 12,
    "start_time": "2022-01-24T11:21:12.643Z"
   },
   {
    "duration": 7,
    "start_time": "2022-01-24T11:21:12.657Z"
   },
   {
    "duration": 6,
    "start_time": "2022-01-24T11:21:12.666Z"
   },
   {
    "duration": 84,
    "start_time": "2022-01-24T11:21:12.699Z"
   },
   {
    "duration": 22,
    "start_time": "2022-01-24T11:21:12.785Z"
   },
   {
    "duration": 10,
    "start_time": "2022-01-24T11:21:12.808Z"
   },
   {
    "duration": 9,
    "start_time": "2022-01-24T11:21:12.819Z"
   },
   {
    "duration": 5,
    "start_time": "2022-01-24T11:21:12.830Z"
   },
   {
    "duration": 5,
    "start_time": "2022-01-24T11:21:12.837Z"
   },
   {
    "duration": 7,
    "start_time": "2022-01-24T11:21:12.843Z"
   },
   {
    "duration": 13,
    "start_time": "2022-01-24T11:21:12.851Z"
   },
   {
    "duration": 35,
    "start_time": "2022-01-24T11:21:12.865Z"
   },
   {
    "duration": 7,
    "start_time": "2022-01-24T11:21:12.901Z"
   },
   {
    "duration": 8,
    "start_time": "2022-01-24T11:21:12.910Z"
   },
   {
    "duration": 7,
    "start_time": "2022-01-24T11:21:12.920Z"
   },
   {
    "duration": 7,
    "start_time": "2022-01-24T11:21:12.929Z"
   },
   {
    "duration": 5,
    "start_time": "2022-01-24T11:21:12.938Z"
   },
   {
    "duration": 10,
    "start_time": "2022-01-24T11:21:12.945Z"
   },
   {
    "duration": 43,
    "start_time": "2022-01-24T11:21:12.956Z"
   },
   {
    "duration": 16,
    "start_time": "2022-01-24T11:21:13.001Z"
   },
   {
    "duration": 11,
    "start_time": "2022-01-24T11:21:13.018Z"
   },
   {
    "duration": 16,
    "start_time": "2022-01-24T11:21:13.034Z"
   },
   {
    "duration": 15,
    "start_time": "2022-01-24T11:21:13.053Z"
   },
   {
    "duration": 406,
    "start_time": "2022-01-24T11:21:13.069Z"
   },
   {
    "duration": 22,
    "start_time": "2022-01-24T11:21:13.477Z"
   },
   {
    "duration": 13,
    "start_time": "2022-01-24T11:21:13.501Z"
   },
   {
    "duration": 17,
    "start_time": "2022-01-24T11:21:13.515Z"
   },
   {
    "duration": 20,
    "start_time": "2022-01-24T11:21:13.533Z"
   },
   {
    "duration": 378,
    "start_time": "2022-01-24T11:21:13.555Z"
   },
   {
    "duration": 354,
    "start_time": "2022-01-24T11:21:13.935Z"
   },
   {
    "duration": 11,
    "start_time": "2022-01-24T11:21:14.291Z"
   },
   {
    "duration": 20,
    "start_time": "2022-01-24T11:21:14.304Z"
   },
   {
    "duration": 464,
    "start_time": "2022-01-24T11:21:14.326Z"
   },
   {
    "duration": 14,
    "start_time": "2022-01-24T11:21:14.793Z"
   },
   {
    "duration": 18,
    "start_time": "2022-01-24T11:21:14.809Z"
   },
   {
    "duration": 16,
    "start_time": "2022-01-24T11:21:14.829Z"
   },
   {
    "duration": 17,
    "start_time": "2022-01-24T11:21:14.847Z"
   },
   {
    "duration": 24,
    "start_time": "2022-01-24T11:21:14.866Z"
   },
   {
    "duration": 17,
    "start_time": "2022-01-24T11:21:14.892Z"
   },
   {
    "duration": 38,
    "start_time": "2022-01-24T11:21:14.911Z"
   },
   {
    "duration": 15,
    "start_time": "2022-01-24T11:21:14.950Z"
   },
   {
    "duration": 17,
    "start_time": "2022-01-24T11:21:14.966Z"
   },
   {
    "duration": 27,
    "start_time": "2022-01-24T11:21:14.984Z"
   },
   {
    "duration": 13,
    "start_time": "2022-01-24T11:21:15.013Z"
   },
   {
    "duration": 374,
    "start_time": "2022-01-24T11:21:15.028Z"
   },
   {
    "duration": 5,
    "start_time": "2022-01-24T11:21:15.404Z"
   },
   {
    "duration": 14,
    "start_time": "2022-01-24T11:21:15.412Z"
   },
   {
    "duration": 40,
    "start_time": "2022-01-24T11:21:15.427Z"
   },
   {
    "duration": 470,
    "start_time": "2022-01-24T11:21:15.469Z"
   },
   {
    "duration": 8,
    "start_time": "2022-01-24T11:21:15.941Z"
   },
   {
    "duration": 17,
    "start_time": "2022-01-24T11:21:15.951Z"
   },
   {
    "duration": 432,
    "start_time": "2022-01-24T11:21:15.969Z"
   },
   {
    "duration": 6,
    "start_time": "2022-01-24T11:21:16.403Z"
   },
   {
    "duration": 20,
    "start_time": "2022-01-24T11:21:16.411Z"
   },
   {
    "duration": 440,
    "start_time": "2022-01-24T11:21:16.433Z"
   },
   {
    "duration": 6,
    "start_time": "2022-01-24T11:21:16.875Z"
   },
   {
    "duration": 27,
    "start_time": "2022-01-24T11:21:16.883Z"
   },
   {
    "duration": 13,
    "start_time": "2022-01-24T11:21:16.911Z"
   },
   {
    "duration": 16,
    "start_time": "2022-01-24T11:21:16.926Z"
   },
   {
    "duration": 25,
    "start_time": "2022-01-24T11:21:16.943Z"
   },
   {
    "duration": 29,
    "start_time": "2022-01-24T11:21:16.969Z"
   },
   {
    "duration": 22,
    "start_time": "2022-01-24T11:21:17.000Z"
   },
   {
    "duration": 23,
    "start_time": "2022-01-24T11:21:17.023Z"
   },
   {
    "duration": 27,
    "start_time": "2022-01-24T11:21:17.048Z"
   },
   {
    "duration": 31,
    "start_time": "2022-01-24T11:21:17.077Z"
   },
   {
    "duration": 28,
    "start_time": "2022-01-24T11:21:17.109Z"
   },
   {
    "duration": 21,
    "start_time": "2022-01-24T11:21:17.139Z"
   },
   {
    "duration": 28,
    "start_time": "2022-01-24T11:21:17.162Z"
   },
   {
    "duration": 13,
    "start_time": "2022-01-24T11:21:17.192Z"
   },
   {
    "duration": 24,
    "start_time": "2022-01-24T11:21:17.206Z"
   },
   {
    "duration": 25,
    "start_time": "2022-01-24T11:21:17.231Z"
   },
   {
    "duration": 21,
    "start_time": "2022-01-24T11:21:17.258Z"
   },
   {
    "duration": 28,
    "start_time": "2022-01-24T11:21:17.281Z"
   },
   {
    "duration": 19,
    "start_time": "2022-01-24T11:21:17.310Z"
   },
   {
    "duration": 24,
    "start_time": "2022-01-24T11:21:17.331Z"
   },
   {
    "duration": 30,
    "start_time": "2022-01-24T11:21:17.361Z"
   },
   {
    "duration": 15,
    "start_time": "2022-01-24T11:21:17.393Z"
   },
   {
    "duration": 22,
    "start_time": "2022-01-24T11:21:17.409Z"
   },
   {
    "duration": 20,
    "start_time": "2022-01-24T11:21:17.432Z"
   },
   {
    "duration": 23,
    "start_time": "2022-01-24T11:21:17.454Z"
   },
   {
    "duration": 26,
    "start_time": "2022-01-24T11:21:17.478Z"
   },
   {
    "duration": 25,
    "start_time": "2022-01-24T11:21:17.506Z"
   },
   {
    "duration": 26,
    "start_time": "2022-01-24T11:21:17.533Z"
   },
   {
    "duration": 23,
    "start_time": "2022-01-24T11:21:17.561Z"
   },
   {
    "duration": 18,
    "start_time": "2022-01-24T11:21:17.586Z"
   },
   {
    "duration": 15,
    "start_time": "2022-01-24T11:21:17.605Z"
   },
   {
    "duration": 31,
    "start_time": "2022-01-24T11:21:17.622Z"
   },
   {
    "duration": 21,
    "start_time": "2022-01-24T11:21:17.655Z"
   },
   {
    "duration": 17,
    "start_time": "2022-01-24T11:21:17.678Z"
   },
   {
    "duration": 22,
    "start_time": "2022-01-24T11:21:17.697Z"
   },
   {
    "duration": 31,
    "start_time": "2022-01-24T11:21:17.721Z"
   },
   {
    "duration": 40,
    "start_time": "2022-01-24T11:21:17.754Z"
   },
   {
    "duration": 13,
    "start_time": "2022-01-24T11:21:17.795Z"
   },
   {
    "duration": 22,
    "start_time": "2022-01-24T11:21:17.810Z"
   },
   {
    "duration": 448,
    "start_time": "2022-01-24T11:22:35.656Z"
   },
   {
    "duration": 446,
    "start_time": "2022-01-24T11:24:12.821Z"
   },
   {
    "duration": 98,
    "start_time": "2022-01-24T11:27:27.897Z"
   },
   {
    "duration": 97,
    "start_time": "2022-01-24T11:50:02.090Z"
   }
  ],
  "kernelspec": {
   "display_name": "Python 3 (ipykernel)",
   "language": "python",
   "name": "python3"
  },
  "language_info": {
   "codemirror_mode": {
    "name": "ipython",
    "version": 3
   },
   "file_extension": ".py",
   "mimetype": "text/x-python",
   "name": "python",
   "nbconvert_exporter": "python",
   "pygments_lexer": "ipython3",
   "version": "3.9.7"
  },
  "toc": {
   "base_numbering": 1,
   "nav_menu": {},
   "number_sections": true,
   "sideBar": true,
   "skip_h1_title": true,
   "title_cell": "Table of Contents",
   "title_sidebar": "Contents",
   "toc_cell": false,
   "toc_position": {},
   "toc_section_display": true,
   "toc_window_display": false
  }
 },
 "nbformat": 4,
 "nbformat_minor": 5
}
